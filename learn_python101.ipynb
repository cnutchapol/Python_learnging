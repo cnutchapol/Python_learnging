{
  "nbformat": 4,
  "nbformat_minor": 0,
  "metadata": {
    "colab": {
      "name": "Bootcamp_Intro_Python_101.ipynb",
      "provenance": [],
      "collapsed_sections": [
        "JoP5KEsLuhj5",
        "5qNBs1BYxw7_"
      ]
    },
    "kernelspec": {
      "name": "python3",
      "display_name": "Python 3"
    },
    "language_info": {
      "name": "python"
    }
  },
  "cells": [
    {
      "cell_type": "markdown",
      "source": [
        "### Intro to Python\n",
        "Today we are going to learn python 101 together\n",
        "- variable\n",
        "- data types\n",
        "- data structures : list, tuple\n",
        "- function "
      ],
      "metadata": {
        "id": "JoP5KEsLuhj5"
      }
    },
    {
      "cell_type": "code",
      "source": [
        "## comment \n",
        "# basic calculation\n",
        "1+1\n",
        "2*2\n",
        "#show results last line so - Print()\n",
        "print(1+1)\n",
        "print(2*2)\n",
        "print(10-2)\n",
        "print(5/2)\n",
        "print(5//2) #floor division หารไม่เอาเศษ \n",
        "print(9//4)\n",
        "print(9% 3) #mod modulo หารเอาเฉพาะเศษ\n",
        "print(5**2) #power\n"
      ],
      "metadata": {
        "colab": {
          "base_uri": "https://localhost:8080/"
        },
        "id": "4EmCQoQiwY0a",
        "outputId": "ba33482f-c444-4f65-9685-d8231f43b1e0"
      },
      "execution_count": null,
      "outputs": [
        {
          "output_type": "stream",
          "name": "stdout",
          "text": [
            "2\n",
            "4\n",
            "8\n",
            "2.5\n",
            "2\n",
            "2\n",
            "0\n",
            "25\n"
          ]
        }
      ]
    },
    {
      "cell_type": "markdown",
      "source": [
        "### variable \n"
      ],
      "metadata": {
        "id": "5qNBs1BYxw7_"
      }
    },
    {
      "cell_type": "code",
      "source": [
        "salary = 50000\n",
        "expense = 34000\n",
        "saving = salary - expense"
      ],
      "metadata": {
        "id": "JvPlxpdsxaMB"
      },
      "execution_count": null,
      "outputs": []
    },
    {
      "cell_type": "code",
      "source": [
        "print(saving)"
      ],
      "metadata": {
        "colab": {
          "base_uri": "https://localhost:8080/"
        },
        "id": "DMA7_ny7M6EQ",
        "outputId": "ccd66138-ee64-433a-bb4c-df97fa018afa"
      },
      "execution_count": null,
      "outputs": [
        {
          "output_type": "stream",
          "name": "stdout",
          "text": [
            "16000\n"
          ]
        }
      ]
    },
    {
      "cell_type": "code",
      "source": [
        "#delete varaible del-delete\n",
        "del saving"
      ],
      "metadata": {
        "id": "LXS-2iUsNBMb"
      },
      "execution_count": null,
      "outputs": []
    },
    {
      "cell_type": "code",
      "source": [
        "print(saving)"
      ],
      "metadata": {
        "colab": {
          "base_uri": "https://localhost:8080/",
          "height": 211
        },
        "id": "F0pmOwRgNLLP",
        "outputId": "400d15ab-3f78-4ff6-dd56-c7837da3f071"
      },
      "execution_count": null,
      "outputs": [
        {
          "output_type": "error",
          "ename": "NameError",
          "evalue": "ignored",
          "traceback": [
            "\u001b[0;31m---------------------------------------------------------------------------\u001b[0m",
            "\u001b[0;31mNameError\u001b[0m                                 Traceback (most recent call last)",
            "\u001b[0;32m<ipython-input-5-11fe9affbc39>\u001b[0m in \u001b[0;36m<module>\u001b[0;34m()\u001b[0m\n\u001b[0;32m----> 1\u001b[0;31m \u001b[0mprint\u001b[0m\u001b[0;34m(\u001b[0m\u001b[0msaving\u001b[0m\u001b[0;34m)\u001b[0m\u001b[0;34m\u001b[0m\u001b[0;34m\u001b[0m\u001b[0m\n\u001b[0m",
            "\u001b[0;31mNameError\u001b[0m: name 'saving' is not defined"
          ]
        }
      ]
    },
    {
      "cell_type": "code",
      "source": [
        "## tuple unpacking - mutiple assignments\n",
        "my_name, my_salary, my_expense = \"Nut\", 46000, 25000\n",
        "print(my_name)\n",
        "print(my_salary)\n",
        "print(my_expense)"
      ],
      "metadata": {
        "colab": {
          "base_uri": "https://localhost:8080/"
        },
        "id": "_eT4MmGsNN8m",
        "outputId": "f6761da7-2828-47da-b8e2-65d4a689c663"
      },
      "execution_count": null,
      "outputs": [
        {
          "output_type": "stream",
          "name": "stdout",
          "text": [
            "Nut\n",
            "46000\n",
            "25000\n"
          ]
        }
      ]
    },
    {
      "cell_type": "markdown",
      "source": [
        "### String"
      ],
      "metadata": {
        "id": "mxiqbKjC6UX1"
      }
    },
    {
      "cell_type": "code",
      "source": [
        "my_name = \"Nut\"\n",
        "print(my_name)\n",
        "text = \"I'm learning Python!\" #ถ้าtextมี ' ต้อง rap ข้างนอกด้วย \"\"\n",
        "text2 = 'I am learning \"python\"' \n",
        "print(text2)"
      ],
      "metadata": {
        "colab": {
          "base_uri": "https://localhost:8080/"
        },
        "id": "Rc5hNGi76bqN",
        "outputId": "7d543a39-4bda-4006-9162-b93b4bc0c5b2"
      },
      "execution_count": null,
      "outputs": [
        {
          "output_type": "stream",
          "name": "stdout",
          "text": [
            "Nut\n",
            "I am learning \"python\"\n"
          ]
        }
      ]
    },
    {
      "cell_type": "code",
      "source": [
        "text3 = \"\"\"This is a very long string\n",
        "Hello World \n",
        "This is my world\n",
        "\"\"\""
      ],
      "metadata": {
        "id": "6Nbca5Fo6lGJ"
      },
      "execution_count": null,
      "outputs": []
    },
    {
      "cell_type": "code",
      "source": [
        "# print string \n",
        "print(\"hello\",\"world\")"
      ],
      "metadata": {
        "colab": {
          "base_uri": "https://localhost:8080/"
        },
        "id": "0pQsSfSN7seI",
        "outputId": "ac7171f9-b9a8-4100-da88-d160a69899e3"
      },
      "execution_count": null,
      "outputs": [
        {
          "output_type": "stream",
          "name": "stdout",
          "text": [
            "hello world\n"
          ]
        }
      ]
    },
    {
      "cell_type": "code",
      "source": [
        "#String concatenation \n",
        "\"Hello\" + \" World\"+ \"I'm learning Python!\""
      ],
      "metadata": {
        "colab": {
          "base_uri": "https://localhost:8080/",
          "height": 35
        },
        "id": "pDZ-RojA74oj",
        "outputId": "eae55135-1b10-4447-bf41-70f6c8b2dacb"
      },
      "execution_count": null,
      "outputs": [
        {
          "output_type": "execute_result",
          "data": {
            "application/vnd.google.colaboratory.intrinsic+json": {
              "type": "string"
            },
            "text/plain": [
              "\"Hello WorldI'm learning Python!\""
            ]
          },
          "metadata": {},
          "execution_count": 10
        }
      ]
    },
    {
      "cell_type": "code",
      "source": [
        ""
      ],
      "metadata": {
        "id": "VkROGiPv8ZNS"
      },
      "execution_count": null,
      "outputs": []
    },
    {
      "cell_type": "code",
      "source": [
        "# fstring - format string template \n",
        "my_name = \"Nut\"\n",
        "my_age = 21\n",
        "text = f\"Hello! my name is {my_name} and i am {my_age} years old.\""
      ],
      "metadata": {
        "id": "BDlkBm_O8FB0"
      },
      "execution_count": null,
      "outputs": []
    },
    {
      "cell_type": "code",
      "source": [
        ""
      ],
      "metadata": {
        "id": "H3MedAEX8Yym"
      },
      "execution_count": null,
      "outputs": []
    }
  ]
}