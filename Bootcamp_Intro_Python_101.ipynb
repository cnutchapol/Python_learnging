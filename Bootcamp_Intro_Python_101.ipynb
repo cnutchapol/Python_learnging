{
  "nbformat": 4,
  "nbformat_minor": 0,
  "metadata": {
    "colab": {
      "name": "Bootcamp_Intro_Python_101.ipynb",
      "provenance": [],
      "collapsed_sections": [
        "JoP5KEsLuhj5",
        "5qNBs1BYxw7_",
        "mxiqbKjC6UX1",
        "Z9I5lAOWA1Hp"
      ],
      "authorship_tag": "ABX9TyNd2BQQI2iEZ+FU4PyBa134",
      "include_colab_link": true
    },
    "kernelspec": {
      "name": "python3",
      "display_name": "Python 3"
    },
    "language_info": {
      "name": "python"
    }
  },
  "cells": [
    {
      "cell_type": "markdown",
      "metadata": {
        "id": "view-in-github",
        "colab_type": "text"
      },
      "source": [
        "<a href=\"https://colab.research.google.com/github/cnutchapol/Python_learning/blob/main/Bootcamp_Intro_Python_101.ipynb\" target=\"_parent\"><img src=\"https://colab.research.google.com/assets/colab-badge.svg\" alt=\"Open In Colab\"/></a>"
      ]
    },
    {
      "cell_type": "markdown",
      "source": [
        "### Intro to Python\n",
        "Today we are going to learn python 101 together\n",
        "- variable\n",
        "- data types\n",
        "- data structures : list, tuple\n",
        "- function "
      ],
      "metadata": {
        "id": "JoP5KEsLuhj5"
      }
    },
    {
      "cell_type": "code",
      "source": [
        "## comment \n",
        "# basic calculation\n",
        "1+1\n",
        "2*2\n",
        "#show results last line so - Print()\n",
        "print(1+1)\n",
        "print(2*2)\n",
        "print(10-2)\n",
        "print(5/2)\n",
        "print(5//2) #floor division หารไม่เอาเศษ \n",
        "print(9//4)\n",
        "print(9% 3) #mod modulo หารเอาเฉพาะเศษ\n",
        "print(5**2) #power\n"
      ],
      "metadata": {
        "colab": {
          "base_uri": "https://localhost:8080/"
        },
        "id": "4EmCQoQiwY0a",
        "outputId": "ba33482f-c444-4f65-9685-d8231f43b1e0"
      },
      "execution_count": null,
      "outputs": [
        {
          "output_type": "stream",
          "name": "stdout",
          "text": [
            "2\n",
            "4\n",
            "8\n",
            "2.5\n",
            "2\n",
            "2\n",
            "0\n",
            "25\n"
          ]
        }
      ]
    },
    {
      "cell_type": "markdown",
      "source": [
        "### variable \n"
      ],
      "metadata": {
        "id": "5qNBs1BYxw7_"
      }
    },
    {
      "cell_type": "code",
      "source": [
        "salary = 50000\n",
        "expense = 34000\n",
        "saving = salary - expense"
      ],
      "metadata": {
        "id": "JvPlxpdsxaMB"
      },
      "execution_count": null,
      "outputs": []
    },
    {
      "cell_type": "code",
      "source": [
        "print(saving)"
      ],
      "metadata": {
        "colab": {
          "base_uri": "https://localhost:8080/"
        },
        "id": "DMA7_ny7M6EQ",
        "outputId": "ccd66138-ee64-433a-bb4c-df97fa018afa"
      },
      "execution_count": null,
      "outputs": [
        {
          "output_type": "stream",
          "name": "stdout",
          "text": [
            "16000\n"
          ]
        }
      ]
    },
    {
      "cell_type": "code",
      "source": [
        "#delete varaible del-delete\n",
        "del saving"
      ],
      "metadata": {
        "id": "LXS-2iUsNBMb"
      },
      "execution_count": null,
      "outputs": []
    },
    {
      "cell_type": "code",
      "source": [
        "print(saving)"
      ],
      "metadata": {
        "colab": {
          "base_uri": "https://localhost:8080/",
          "height": 211
        },
        "id": "F0pmOwRgNLLP",
        "outputId": "400d15ab-3f78-4ff6-dd56-c7837da3f071"
      },
      "execution_count": null,
      "outputs": [
        {
          "output_type": "error",
          "ename": "NameError",
          "evalue": "ignored",
          "traceback": [
            "\u001b[0;31m---------------------------------------------------------------------------\u001b[0m",
            "\u001b[0;31mNameError\u001b[0m                                 Traceback (most recent call last)",
            "\u001b[0;32m<ipython-input-5-11fe9affbc39>\u001b[0m in \u001b[0;36m<module>\u001b[0;34m()\u001b[0m\n\u001b[0;32m----> 1\u001b[0;31m \u001b[0mprint\u001b[0m\u001b[0;34m(\u001b[0m\u001b[0msaving\u001b[0m\u001b[0;34m)\u001b[0m\u001b[0;34m\u001b[0m\u001b[0;34m\u001b[0m\u001b[0m\n\u001b[0m",
            "\u001b[0;31mNameError\u001b[0m: name 'saving' is not defined"
          ]
        }
      ]
    },
    {
      "cell_type": "code",
      "source": [
        "## tuple unpacking - mutiple assignments\n",
        "my_name, my_salary, my_expense = \"Nut\", 46000, 25000\n",
        "print(my_name)\n",
        "print(my_salary)\n",
        "print(my_expense)"
      ],
      "metadata": {
        "colab": {
          "base_uri": "https://localhost:8080/"
        },
        "id": "_eT4MmGsNN8m",
        "outputId": "f6761da7-2828-47da-b8e2-65d4a689c663"
      },
      "execution_count": null,
      "outputs": [
        {
          "output_type": "stream",
          "name": "stdout",
          "text": [
            "Nut\n",
            "46000\n",
            "25000\n"
          ]
        }
      ]
    },
    {
      "cell_type": "markdown",
      "source": [
        "### String"
      ],
      "metadata": {
        "id": "mxiqbKjC6UX1"
      }
    },
    {
      "cell_type": "code",
      "source": [
        "my_name = \"Nut\"\n",
        "print(my_name)\n",
        "text = \"I'm learning Python!\" #ถ้าtextมี ' ต้อง rap ข้างนอกด้วย \"\"\n",
        "text2 = 'I am learning \"python\"' \n",
        "print(text2)"
      ],
      "metadata": {
        "colab": {
          "base_uri": "https://localhost:8080/"
        },
        "id": "Rc5hNGi76bqN",
        "outputId": "7d543a39-4bda-4006-9162-b93b4bc0c5b2"
      },
      "execution_count": null,
      "outputs": [
        {
          "output_type": "stream",
          "name": "stdout",
          "text": [
            "Nut\n",
            "I am learning \"python\"\n"
          ]
        }
      ]
    },
    {
      "cell_type": "code",
      "source": [
        "text3 = \"\"\"This is a very long string\n",
        "Hello World \n",
        "This is my world\n",
        "\"\"\""
      ],
      "metadata": {
        "id": "6Nbca5Fo6lGJ"
      },
      "execution_count": null,
      "outputs": []
    },
    {
      "cell_type": "code",
      "source": [
        "# print string \n",
        "print(\"hello\",\"world\")"
      ],
      "metadata": {
        "colab": {
          "base_uri": "https://localhost:8080/"
        },
        "id": "0pQsSfSN7seI",
        "outputId": "ac7171f9-b9a8-4100-da88-d160a69899e3"
      },
      "execution_count": null,
      "outputs": [
        {
          "output_type": "stream",
          "name": "stdout",
          "text": [
            "hello world\n"
          ]
        }
      ]
    },
    {
      "cell_type": "code",
      "source": [
        "#String concatenation \n",
        "\"Hello\" + \" World\"+ \"I'm learning Python!\""
      ],
      "metadata": {
        "colab": {
          "base_uri": "https://localhost:8080/",
          "height": 35
        },
        "id": "pDZ-RojA74oj",
        "outputId": "eae55135-1b10-4447-bf41-70f6c8b2dacb"
      },
      "execution_count": null,
      "outputs": [
        {
          "output_type": "execute_result",
          "data": {
            "application/vnd.google.colaboratory.intrinsic+json": {
              "type": "string"
            },
            "text/plain": [
              "\"Hello WorldI'm learning Python!\""
            ]
          },
          "metadata": {},
          "execution_count": 10
        }
      ]
    },
    {
      "cell_type": "code",
      "source": [
        ""
      ],
      "metadata": {
        "id": "VkROGiPv8ZNS"
      },
      "execution_count": null,
      "outputs": []
    },
    {
      "cell_type": "code",
      "source": [
        "# fstring - format string template \n",
        "my_name = \"Nut\"\n",
        "my_age = 21\n",
        "text = f\"Hello! my name is {my_name} and i am {my_age} years old.\""
      ],
      "metadata": {
        "id": "BDlkBm_O8FB0"
      },
      "execution_count": null,
      "outputs": []
    },
    {
      "cell_type": "code",
      "source": [
        "# String method = function designed fro specific class\n",
        "# python string w3school \n",
        "# python case sensitive \n",
        "text = \"a duck duck walks into a bar.\""
      ],
      "metadata": {
        "id": "H3MedAEX8Yym"
      },
      "execution_count": null,
      "outputs": []
    },
    {
      "cell_type": "code",
      "source": [
        "text.upper()"
      ],
      "metadata": {
        "colab": {
          "base_uri": "https://localhost:8080/",
          "height": 35
        },
        "id": "L3uYJDr1_IUZ",
        "outputId": "dcb00c18-2e83-4a61-b67b-dee7707eeb1c"
      },
      "execution_count": null,
      "outputs": [
        {
          "output_type": "execute_result",
          "data": {
            "application/vnd.google.colaboratory.intrinsic+json": {
              "type": "string"
            },
            "text/plain": [
              "'A DUCK WALKS INTO A BAR.'"
            ]
          },
          "metadata": {},
          "execution_count": 17
        }
      ]
    },
    {
      "cell_type": "code",
      "source": [
        "text.capitalize()"
      ],
      "metadata": {
        "colab": {
          "base_uri": "https://localhost:8080/",
          "height": 35
        },
        "id": "pqim8YYv_Te_",
        "outputId": "abda8829-db3c-4250-b310-fb1920b1ddfa"
      },
      "execution_count": null,
      "outputs": [
        {
          "output_type": "execute_result",
          "data": {
            "application/vnd.google.colaboratory.intrinsic+json": {
              "type": "string"
            },
            "text/plain": [
              "'A duck walks into a bar.'"
            ]
          },
          "metadata": {},
          "execution_count": 18
        }
      ]
    },
    {
      "cell_type": "code",
      "source": [
        "text.count(\"duck\")"
      ],
      "metadata": {
        "colab": {
          "base_uri": "https://localhost:8080/"
        },
        "id": "C_A7Of8O_dXp",
        "outputId": "72246826-41cb-4eb0-e767-9ebcccd09c9f"
      },
      "execution_count": null,
      "outputs": [
        {
          "output_type": "execute_result",
          "data": {
            "text/plain": [
              "2"
            ]
          },
          "metadata": {},
          "execution_count": 21
        }
      ]
    },
    {
      "cell_type": "code",
      "source": [
        "text.replace(\"duck\",\"chicken\")"
      ],
      "metadata": {
        "colab": {
          "base_uri": "https://localhost:8080/",
          "height": 35
        },
        "id": "D4rxsJWd_nmh",
        "outputId": "91100489-038e-44f8-b870-5d5e9ad25a93"
      },
      "execution_count": null,
      "outputs": [
        {
          "output_type": "execute_result",
          "data": {
            "application/vnd.google.colaboratory.intrinsic+json": {
              "type": "string"
            },
            "text/plain": [
              "'a chicken chicken walks into a bar.'"
            ]
          },
          "metadata": {},
          "execution_count": 22
        }
      ]
    },
    {
      "cell_type": "markdown",
      "source": [
        "###Data Type\n",
        "- int\n",
        "- float\n",
        "- string\n",
        "- bool (boolean)"
      ],
      "metadata": {
        "id": "Z9I5lAOWA1Hp"
      }
    },
    {
      "cell_type": "code",
      "source": [
        "# int \n",
        "x = 100\n",
        "type(x)"
      ],
      "metadata": {
        "colab": {
          "base_uri": "https://localhost:8080/"
        },
        "id": "mpzTwyjPA33v",
        "outputId": "cc317a5b-7fe2-4a5b-9af2-0387ca78afe5"
      },
      "execution_count": null,
      "outputs": [
        {
          "output_type": "execute_result",
          "data": {
            "text/plain": [
              "int"
            ]
          },
          "metadata": {},
          "execution_count": 24
        }
      ]
    },
    {
      "cell_type": "code",
      "source": [
        "# float \n",
        "gpa = 3.56\n",
        "type(gpa)"
      ],
      "metadata": {
        "colab": {
          "base_uri": "https://localhost:8080/"
        },
        "id": "TgoG_Nh4BPy7",
        "outputId": "a2094dda-68f2-487f-c724-98bd1459bc1c"
      },
      "execution_count": null,
      "outputs": [
        {
          "output_type": "execute_result",
          "data": {
            "text/plain": [
              "float"
            ]
          },
          "metadata": {},
          "execution_count": 25
        }
      ]
    },
    {
      "cell_type": "code",
      "source": [
        "# string\n",
        "language = \"Python\"\n",
        "type(language)"
      ],
      "metadata": {
        "colab": {
          "base_uri": "https://localhost:8080/"
        },
        "id": "qZiHUlv0BT8m",
        "outputId": "4abb53bd-3672-4032-f93a-d469c61835dc"
      },
      "execution_count": null,
      "outputs": [
        {
          "output_type": "execute_result",
          "data": {
            "text/plain": [
              "str"
            ]
          },
          "metadata": {},
          "execution_count": 26
        }
      ]
    },
    {
      "cell_type": "code",
      "source": [
        "# bool \n",
        "print(10 *2 == 20)\n",
        "print(10 *2 > 30)\n",
        "print(\"Hello\" != \"hello\") #ไม่เท่ากับ\n",
        "print(\"NUT\" != \"NUT\")\n"
      ],
      "metadata": {
        "colab": {
          "base_uri": "https://localhost:8080/"
        },
        "id": "laB41BkuBaud",
        "outputId": "646071f6-9a4a-4835-d6d9-899e04790d81"
      },
      "execution_count": null,
      "outputs": [
        {
          "output_type": "stream",
          "name": "stdout",
          "text": [
            "True\n",
            "False\n",
            "True\n",
            "False\n"
          ]
        }
      ]
    },
    {
      "cell_type": "markdown",
      "source": [
        "### Data Structures\n",
        "- list\n",
        "- tuple"
      ],
      "metadata": {
        "id": "avAVDAhsB5jU"
      }
    },
    {
      "cell_type": "code",
      "source": [
        "#list \n",
        "# create a new list \n",
        "fruits = [\"apple\", \"orange\", \"mango\", \"pineapple\", \"grape\"]"
      ],
      "metadata": {
        "id": "gkb9ChtDB93t"
      },
      "execution_count": 28,
      "outputs": []
    },
    {
      "cell_type": "code",
      "source": [
        "fruits"
      ],
      "metadata": {
        "colab": {
          "base_uri": "https://localhost:8080/"
        },
        "id": "2WfDDNwRvaTT",
        "outputId": "12ac6f78-b283-44bf-d90e-306175534354"
      },
      "execution_count": 2,
      "outputs": [
        {
          "output_type": "execute_result",
          "data": {
            "text/plain": [
              "['apple', 'orange', 'mango', 'pineapple', 'grape']"
            ]
          },
          "metadata": {},
          "execution_count": 2
        }
      ]
    },
    {
      "cell_type": "code",
      "source": [
        "## list - สามารถเก็บข้อมูลได้หลายประเภทพร้อมกัน\n",
        "fruits1 = [\"apple\", \"orange\", \"mango\", \"pineapple\", \"grape\", 100, 43.45]"
      ],
      "metadata": {
        "id": "__M2dxZJvcaa"
      },
      "execution_count": 27,
      "outputs": []
    },
    {
      "cell_type": "code",
      "source": [
        "## Extract from list\n",
        "## index in python start with 0 \n",
        "print(fruits[0])\n",
        "print(fruits[1])\n",
        "print(fruits[2])"
      ],
      "metadata": {
        "colab": {
          "base_uri": "https://localhost:8080/"
        },
        "id": "589lI61wvrgU",
        "outputId": "5125aeff-1dfb-4530-b3e6-8ca4cc38aac6"
      },
      "execution_count": 5,
      "outputs": [
        {
          "output_type": "stream",
          "name": "stdout",
          "text": [
            "apple\n",
            "orange\n",
            "mango\n"
          ]
        }
      ]
    },
    {
      "cell_type": "code",
      "source": [
        "## slicing\n",
        "print(fruits[0:2]) #start with 0 but end before 2 not include 2 \n",
        "print(fruits[0:3])"
      ],
      "metadata": {
        "colab": {
          "base_uri": "https://localhost:8080/"
        },
        "id": "VGJVCx-7v21S",
        "outputId": "17a937b7-501c-4cd6-f8a1-55592026be8f"
      },
      "execution_count": 7,
      "outputs": [
        {
          "output_type": "stream",
          "name": "stdout",
          "text": [
            "['apple', 'orange']\n",
            "['apple', 'orange', 'mango']\n"
          ]
        }
      ]
    },
    {
      "cell_type": "code",
      "source": [
        "print(fruits[2: ]) # blank after: start with2 to end"
      ],
      "metadata": {
        "colab": {
          "base_uri": "https://localhost:8080/"
        },
        "id": "NyqOJYYowV6D",
        "outputId": "04e11cd3-0adc-4b49-ee3f-6d60817733ec"
      },
      "execution_count": 8,
      "outputs": [
        {
          "output_type": "stream",
          "name": "stdout",
          "text": [
            "['mango', 'pineapple', 'grape']\n"
          ]
        }
      ]
    },
    {
      "cell_type": "code",
      "source": [
        "## add new element in list \n",
        "# add straberry at the end of the list \n",
        "fruits"
      ],
      "metadata": {
        "colab": {
          "base_uri": "https://localhost:8080/"
        },
        "id": "-gPG1qGlwk2D",
        "outputId": "f6d789ce-d649-4bcc-c003-dba119657901"
      },
      "execution_count": 9,
      "outputs": [
        {
          "output_type": "execute_result",
          "data": {
            "text/plain": [
              "['apple', 'orange', 'mango', 'pineapple', 'grape']"
            ]
          },
          "metadata": {},
          "execution_count": 9
        }
      ]
    },
    {
      "cell_type": "code",
      "source": [
        "fruits.append(\"strawberry\") #เอาไปต่อท้าย"
      ],
      "metadata": {
        "id": "9twa3-iiw7zv"
      },
      "execution_count": 30,
      "outputs": []
    },
    {
      "cell_type": "code",
      "source": [
        "print(fruits)"
      ],
      "metadata": {
        "colab": {
          "base_uri": "https://localhost:8080/"
        },
        "id": "jUsIEh0ZxE7a",
        "outputId": "0eb6a687-782c-4684-87ca-f6694a017b07"
      },
      "execution_count": 31,
      "outputs": [
        {
          "output_type": "stream",
          "name": "stdout",
          "text": [
            "['apple', 'orange', 'mango', 'pineapple', 'grape', 'strawberry']\n"
          ]
        }
      ]
    },
    {
      "cell_type": "code",
      "source": [
        "fruits.remove(\"orange\")"
      ],
      "metadata": {
        "id": "SzvJb86pxGq2"
      },
      "execution_count": 17,
      "outputs": []
    },
    {
      "cell_type": "code",
      "source": [
        "print(fruits)"
      ],
      "metadata": {
        "colab": {
          "base_uri": "https://localhost:8080/"
        },
        "id": "ZIMWYRRNxQF6",
        "outputId": "094de717-0f5b-446a-a2ae-1b01eb260681"
      },
      "execution_count": 18,
      "outputs": [
        {
          "output_type": "stream",
          "name": "stdout",
          "text": [
            "['apple', 'mango', 'pineapple', 'grape', 'strawberry']\n"
          ]
        }
      ]
    },
    {
      "cell_type": "code",
      "source": [
        "## add in original poisition\n",
        "fruits.insert(1,\"orange\")"
      ],
      "metadata": {
        "id": "ACahrIQXxR2y"
      },
      "execution_count": 19,
      "outputs": []
    },
    {
      "cell_type": "code",
      "source": [
        "print(fruits)"
      ],
      "metadata": {
        "colab": {
          "base_uri": "https://localhost:8080/"
        },
        "id": "p0bDkysQxuKK",
        "outputId": "22289132-f1a3-49db-b503-21a2bf9b596f"
      },
      "execution_count": 29,
      "outputs": [
        {
          "output_type": "stream",
          "name": "stdout",
          "text": [
            "['apple', 'orange', 'mango', 'pineapple', 'grape']\n"
          ]
        }
      ]
    },
    {
      "cell_type": "code",
      "source": [
        "## for loop (Control flow in R)\n",
        "len(fruits) #length check value "
      ],
      "metadata": {
        "colab": {
          "base_uri": "https://localhost:8080/"
        },
        "id": "JSK89KPexvx2",
        "outputId": "05357706-ca9e-42a8-dce2-fa6b94fabeb5"
      },
      "execution_count": 21,
      "outputs": [
        {
          "output_type": "execute_result",
          "data": {
            "text/plain": [
              "6"
            ]
          },
          "metadata": {},
          "execution_count": 21
        }
      ]
    },
    {
      "cell_type": "code",
      "source": [
        "## change fruits to uppercase\n",
        "# for dummy(x) in list : \n",
        "for fruit in fruits:\n",
        "    print(fruit.upper())"
      ],
      "metadata": {
        "colab": {
          "base_uri": "https://localhost:8080/"
        },
        "id": "xnlMedn8yFvs",
        "outputId": "75f4daee-cb8d-47bf-911e-d29b29565136"
      },
      "execution_count": 32,
      "outputs": [
        {
          "output_type": "stream",
          "name": "stdout",
          "text": [
            "APPLE\n",
            "ORANGE\n",
            "MANGO\n",
            "PINEAPPLE\n",
            "GRAPE\n",
            "STRAWBERRY\n"
          ]
        }
      ]
    },
    {
      "cell_type": "code",
      "source": [
        "fruits_uppercase = [] #empty list\n",
        "for fruit in fruits:\n",
        "    x= fruit.upper()\n",
        "    fruits_uppercase.append(x) #เอาไปต่อใน list ว่าง\n",
        "\n",
        "print(fruits_uppercase)\n",
        "#code block "
      ],
      "metadata": {
        "colab": {
          "base_uri": "https://localhost:8080/"
        },
        "id": "k1Bze554yQsM",
        "outputId": "e51ac003-725a-43b1-9a01-af1ec0f0b48b"
      },
      "execution_count": 37,
      "outputs": [
        {
          "output_type": "stream",
          "name": "stdout",
          "text": [
            "['APPLE', 'ORANGE', 'MANGO', 'PINEAPPLE', 'GRAPE', 'STRAWBERRY']\n"
          ]
        }
      ]
    },
    {
      "cell_type": "code",
      "source": [
        ""
      ],
      "metadata": {
        "id": "SXijZGBpzIF1"
      },
      "execution_count": null,
      "outputs": []
    },
    {
      "cell_type": "markdown",
      "source": [
        "### function"
      ],
      "metadata": {
        "id": "JmitqN9h0F9W"
      }
    },
    {
      "cell_type": "code",
      "source": [
        "## define function\n",
        "## def\n",
        "def add_two_nums(x,y):\n",
        "    return x + y #return result if use print can't create new variable\n"
      ],
      "metadata": {
        "id": "v_7XKvxG0Hmf"
      },
      "execution_count": 41,
      "outputs": []
    },
    {
      "cell_type": "code",
      "source": [
        "result = add_two_nums(10,20)\n",
        "print(result)"
      ],
      "metadata": {
        "colab": {
          "base_uri": "https://localhost:8080/"
        },
        "id": "Upwxmmb-0gJI",
        "outputId": "a73040f5-c97d-4d31-927a-b10daa28fd1e"
      },
      "execution_count": 43,
      "outputs": [
        {
          "output_type": "stream",
          "name": "stdout",
          "text": [
            "30\n"
          ]
        }
      ]
    },
    {
      "cell_type": "code",
      "source": [
        "## greeting a user \n",
        "def greeting():\n",
        "    username = input(\"What is your name: \")\n",
        "    print(\"hello\" + username)\n",
        "    feeling = input(\"how are you today: \")\n",
        "    print(f\"{username} feels {feeling}\")\n",
        "    print(\"That's great, hope you all well?\")"
      ],
      "metadata": {
        "id": "1MCZ9MUA0ief"
      },
      "execution_count": 51,
      "outputs": []
    },
    {
      "cell_type": "code",
      "source": [
        "greeting()"
      ],
      "metadata": {
        "colab": {
          "base_uri": "https://localhost:8080/"
        },
        "id": "jAXHF-Ve2Oxe",
        "outputId": "f4ff0c47-118b-4060-d538-e6625d5e9c94"
      },
      "execution_count": 52,
      "outputs": [
        {
          "output_type": "stream",
          "name": "stdout",
          "text": [
            "What is your name: nut\n",
            "hellonut\n",
            "how are you today: good\n",
            "nut feels good\n",
            "That's great, hope you all well?\n"
          ]
        }
      ]
    },
    {
      "cell_type": "code",
      "source": [
        ""
      ],
      "metadata": {
        "id": "Yq3dU7422SHz"
      },
      "execution_count": null,
      "outputs": []
    }
  ]
}