{
  "nbformat": 4,
  "nbformat_minor": 0,
  "metadata": {
    "colab": {
      "name": "N_Python End to End - BC3.ipynb",
      "provenance": [],
      "collapsed_sections": [
        "kBkZv2QGLY25",
        "RomQ3D6yLjB-"
      ],
      "include_colab_link": true
    },
    "kernelspec": {
      "name": "python3",
      "display_name": "Python 3"
    },
    "language_info": {
      "name": "python"
    }
  },
  "cells": [
    {
      "cell_type": "markdown",
      "metadata": {
        "id": "view-in-github",
        "colab_type": "text"
      },
      "source": [
        "<a href=\"https://colab.research.google.com/github/cnutchapol/Python_learning/blob/main/N_Python_End_to_End_BC3.ipynb\" target=\"_parent\"><img src=\"https://colab.research.google.com/assets/colab-badge.svg\" alt=\"Open In Colab\"/></a>"
      ]
    },
    {
      "cell_type": "markdown",
      "metadata": {
        "id": "Z3DLY15lFoHe"
      },
      "source": [
        "## **Python End-to-End**"
      ]
    },
    {
      "cell_type": "markdown",
      "metadata": {
        "id": "kBkZv2QGLY25"
      },
      "source": [
        "## **Basic Python**"
      ]
    },
    {
      "cell_type": "code",
      "metadata": {
        "colab": {
          "base_uri": "https://localhost:8080/"
        },
        "id": "JnzXLHUBFO1P",
        "outputId": "afa56f3f-1b3b-4bdc-8188-e70ce837de0a"
      },
      "source": [
        "# basic calculation\n",
        "print(1 + 1)\n",
        "print(5 - 2)\n",
        "print(5 * 3)\n",
        "print(5 / 4)\n",
        "print(5 // 4) # floor division"
      ],
      "execution_count": null,
      "outputs": [
        {
          "output_type": "stream",
          "name": "stdout",
          "text": [
            "2\n",
            "3\n",
            "15\n",
            "1.25\n",
            "1\n"
          ]
        }
      ]
    },
    {
      "cell_type": "code",
      "metadata": {
        "colab": {
          "base_uri": "https://localhost:8080/"
        },
        "id": "1ms05k7dGEyR",
        "outputId": "2e70ec07-ea43-48a8-e074-951a922ec80c"
      },
      "source": [
        "# variables\n",
        "x = 100\n",
        "y = 150\n",
        "print(x + y)"
      ],
      "execution_count": null,
      "outputs": [
        {
          "output_type": "stream",
          "name": "stdout",
          "text": [
            "250\n"
          ]
        }
      ]
    },
    {
      "cell_type": "code",
      "metadata": {
        "id": "vYkiqs4NF2Ar"
      },
      "source": [
        "# snake case in Python\n",
        "my_name = \"John Wick\"\n",
        "my_age = 40"
      ],
      "execution_count": null,
      "outputs": []
    },
    {
      "cell_type": "code",
      "metadata": {
        "colab": {
          "base_uri": "https://localhost:8080/"
        },
        "id": "p8PtOUMxH2z2",
        "outputId": "b8ed8b00-ff6e-4bc5-ff73-72952eb621da"
      },
      "source": [
        "# fstring template\n",
        "text = f\"Hello my name is {my_name} and I am {my_age} years old.\"\n",
        "print(text)"
      ],
      "execution_count": null,
      "outputs": [
        {
          "output_type": "stream",
          "name": "stdout",
          "text": [
            "Hello my name is John Wick and I am 40 years old.\n"
          ]
        }
      ]
    },
    {
      "cell_type": "code",
      "metadata": {
        "colab": {
          "base_uri": "https://localhost:8080/"
        },
        "id": "NN_aVVP3H4dG",
        "outputId": "6593b8a2-0ad0-4afc-adff-249219fb8b0a"
      },
      "source": [
        "# data types\n",
        "# int, float, str, bool\n",
        "\n",
        "x = 10\n",
        "\n",
        "print(type(x))\n",
        "\n",
        "print(isinstance(x, int))"
      ],
      "execution_count": null,
      "outputs": [
        {
          "output_type": "stream",
          "name": "stdout",
          "text": [
            "<class 'int'>\n",
            "True\n"
          ]
        }
      ]
    },
    {
      "cell_type": "code",
      "metadata": {
        "colab": {
          "base_uri": "https://localhost:8080/"
        },
        "id": "uWrCd5LwJa-O",
        "outputId": "19e68263-b2ab-4a0a-d9ef-da0e58b862df"
      },
      "source": [
        "gpa = 3.41\n",
        "print(type(gpa))\n",
        "print(isinstance(gpa, float))"
      ],
      "execution_count": null,
      "outputs": [
        {
          "output_type": "stream",
          "name": "stdout",
          "text": [
            "<class 'float'>\n",
            "True\n"
          ]
        }
      ]
    },
    {
      "cell_type": "code",
      "metadata": {
        "colab": {
          "base_uri": "https://localhost:8080/"
        },
        "id": "8Ru5biW0J3n9",
        "outputId": "d82bf297-6b4d-4164-bdae-9fa8be498660"
      },
      "source": [
        "my_name = \"Toy\"\n",
        "print(type(my_name))\n",
        "print(isinstance(my_name, str))"
      ],
      "execution_count": null,
      "outputs": [
        {
          "output_type": "stream",
          "name": "stdout",
          "text": [
            "<class 'str'>\n",
            "True\n"
          ]
        }
      ]
    },
    {
      "cell_type": "code",
      "metadata": {
        "colab": {
          "base_uri": "https://localhost:8080/"
        },
        "id": "6G1tMhThKOWq",
        "outputId": "60d34974-1645-446b-cf64-3286fd79ea48"
      },
      "source": [
        "result = gpa < 3.25\n",
        "print( type(result) )\n",
        "print(isinstance(result, bool))"
      ],
      "execution_count": null,
      "outputs": [
        {
          "output_type": "stream",
          "name": "stdout",
          "text": [
            "<class 'bool'>\n",
            "True\n"
          ]
        }
      ]
    },
    {
      "cell_type": "code",
      "metadata": {
        "colab": {
          "base_uri": "https://localhost:8080/"
        },
        "id": "mlOpv6qBKXK1",
        "outputId": "e9311972-d7f7-4536-f467-7ce68d168b8d"
      },
      "source": [
        "# convert data type\n",
        "print(int(True))\n",
        "print(int(False))\n",
        "print(int(\"300\"))\n",
        "print(float(\"3.41\"))\n",
        "print(str(True))"
      ],
      "execution_count": null,
      "outputs": [
        {
          "output_type": "stream",
          "name": "stdout",
          "text": [
            "1\n",
            "0\n",
            "300\n",
            "3.41\n",
            "True\n"
          ]
        }
      ]
    },
    {
      "cell_type": "code",
      "metadata": {
        "id": "6eLebmayK7oc"
      },
      "source": [
        ""
      ],
      "execution_count": null,
      "outputs": []
    },
    {
      "cell_type": "markdown",
      "metadata": {
        "id": "RomQ3D6yLjB-"
      },
      "source": [
        "## **String**"
      ]
    },
    {
      "cell_type": "code",
      "metadata": {
        "id": "qf15NgqiLlKO"
      },
      "source": [
        "text = \"a duck walks into a bar.\""
      ],
      "execution_count": null,
      "outputs": []
    },
    {
      "cell_type": "code",
      "metadata": {
        "colab": {
          "base_uri": "https://localhost:8080/"
        },
        "id": "SVcHkw7JLtQ5",
        "outputId": "203ad80a-fad4-4015-af8d-597c592b1526"
      },
      "source": [
        "# function len\n",
        "len(text)"
      ],
      "execution_count": null,
      "outputs": [
        {
          "output_type": "execute_result",
          "data": {
            "text/plain": [
              "24"
            ]
          },
          "metadata": {},
          "execution_count": 32
        }
      ]
    },
    {
      "cell_type": "code",
      "metadata": {
        "colab": {
          "base_uri": "https://localhost:8080/",
          "height": 35
        },
        "id": "LgnCekmmLuLt",
        "outputId": "e282a2d4-b274-47b6-f7b2-520466aff55e"
      },
      "source": [
        "# functions designed for string\n",
        "# string methods\n",
        "text.upper()"
      ],
      "execution_count": null,
      "outputs": [
        {
          "output_type": "execute_result",
          "data": {
            "application/vnd.google.colaboratory.intrinsic+json": {
              "type": "string"
            },
            "text/plain": [
              "'A DUCK WALKS INTO A BAR.'"
            ]
          },
          "metadata": {},
          "execution_count": 36
        }
      ]
    },
    {
      "cell_type": "code",
      "metadata": {
        "colab": {
          "base_uri": "https://localhost:8080/"
        },
        "id": "D-c4DOrrMRUD",
        "outputId": "0b19b53c-e8dd-41ed-d0c8-a47b74067de5"
      },
      "source": [
        "count_a = text.count('a')\n",
        "print(count_a)"
      ],
      "execution_count": null,
      "outputs": [
        {
          "output_type": "stream",
          "name": "stdout",
          "text": [
            "4\n"
          ]
        }
      ]
    },
    {
      "cell_type": "code",
      "metadata": {
        "colab": {
          "base_uri": "https://localhost:8080/"
        },
        "id": "8Z7aGpVlMtHh",
        "outputId": "3ada15f1-bc75-4da5-f7f6-bd4ce71560bc"
      },
      "source": [
        "text = text.replace(\"duck\", \"tiger\")\n",
        "print(text)"
      ],
      "execution_count": null,
      "outputs": [
        {
          "output_type": "stream",
          "name": "stdout",
          "text": [
            "a tiger walks into a bar.\n"
          ]
        }
      ]
    },
    {
      "cell_type": "code",
      "metadata": {
        "colab": {
          "base_uri": "https://localhost:8080/"
        },
        "id": "f2qmGfazNFz_",
        "outputId": "8d030fe7-272e-4999-e0e0-72aa1186f078"
      },
      "source": [
        "# example - join \n",
        "list_of_words = [\"python\", \"is\", \"cool\"]\n",
        "print(list_of_words)"
      ],
      "execution_count": null,
      "outputs": [
        {
          "output_type": "stream",
          "name": "stdout",
          "text": [
            "['python', 'is', 'cool']\n"
          ]
        }
      ]
    },
    {
      "cell_type": "code",
      "metadata": {
        "colab": {
          "base_uri": "https://localhost:8080/"
        },
        "id": "_srtLWf-NHSs",
        "outputId": "448e6a90-0f07-4528-a4e2-7de4bec34116"
      },
      "source": [
        "text = \"--\".join(list_of_words)\n",
        "print(text)"
      ],
      "execution_count": null,
      "outputs": [
        {
          "output_type": "stream",
          "name": "stdout",
          "text": [
            "python--is--cool\n"
          ]
        }
      ]
    },
    {
      "cell_type": "code",
      "metadata": {
        "colab": {
          "base_uri": "https://localhost:8080/"
        },
        "id": "Q0mBSBagN-E9",
        "outputId": "562469a5-9d22-437f-a985-807ab033bda7"
      },
      "source": [
        "# index in python starts with 0\n",
        "text = \"Hello World\"\n",
        "\n",
        "print(text[6: ])\n",
        "print(text[0:5])\n",
        "print(text[6:9])"
      ],
      "execution_count": null,
      "outputs": [
        {
          "output_type": "stream",
          "name": "stdout",
          "text": [
            "World\n",
            "Hello\n",
            "Wor\n"
          ]
        }
      ]
    },
    {
      "cell_type": "code",
      "metadata": {
        "id": "x8f_D2bVOXwH"
      },
      "source": [
        ""
      ],
      "execution_count": null,
      "outputs": []
    },
    {
      "cell_type": "markdown",
      "metadata": {
        "id": "0ZXC86mZPpiF"
      },
      "source": [
        "## **Function**"
      ]
    },
    {
      "cell_type": "code",
      "metadata": {
        "id": "bDTpMJwNProJ"
      },
      "source": [
        "# define your own function\n",
        "def greeting(name: str) -> str:\n",
        "    \"\"\" Say hello! to our user \"\"\" \n",
        "    return f\"Hello! {name}\""
      ],
      "execution_count": null,
      "outputs": []
    },
    {
      "cell_type": "code",
      "metadata": {
        "colab": {
          "base_uri": "https://localhost:8080/"
        },
        "id": "WhaGB33aPt4S",
        "outputId": "98bf7acd-53a1-4503-936c-99238ba5edbd"
      },
      "source": [
        "text = greeting(\"Toy\")\n",
        "print(text)"
      ],
      "execution_count": null,
      "outputs": [
        {
          "output_type": "stream",
          "name": "stdout",
          "text": [
            "Hello! Toy\n"
          ]
        }
      ]
    },
    {
      "cell_type": "code",
      "metadata": {
        "colab": {
          "base_uri": "https://localhost:8080/"
        },
        "id": "1Oicpwd1Pu13",
        "outputId": "4bd62db5-6172-4cc1-c7f2-727c93462de5"
      },
      "source": [
        "# type hint\n",
        "gpa: float = 3.0\n",
        "my_name: str = \"Toy\"\n",
        "honor: bool = gpa > 3.25\n",
        "\n",
        "print(gpa, my_name, honor)\n",
        "print(type(gpa))"
      ],
      "execution_count": null,
      "outputs": [
        {
          "output_type": "stream",
          "name": "stdout",
          "text": [
            "3.0 Toy False\n",
            "<class 'float'>\n"
          ]
        }
      ]
    },
    {
      "cell_type": "code",
      "metadata": {
        "colab": {
          "base_uri": "https://localhost:8080/"
        },
        "id": "Q5VVQ6A8Q6Z3",
        "outputId": "cdd63061-3967-40dc-fcc7-49b5aedfd07e"
      },
      "source": [
        "# get input from user\n",
        "\n",
        "username = input(\"What is your username: \")"
      ],
      "execution_count": null,
      "outputs": [
        {
          "name": "stdout",
          "output_type": "stream",
          "text": [
            "What is your username: toyeiei\n"
          ]
        }
      ]
    },
    {
      "cell_type": "code",
      "metadata": {
        "colab": {
          "base_uri": "https://localhost:8080/"
        },
        "id": "r9jyTw_VSq9Y",
        "outputId": "3498c66b-9014-4e56-a93a-676d4fb52fea"
      },
      "source": [
        "user_age = int(input(\"How old are you? \"))\n",
        "\n",
        "print(user_age)\n",
        "print(type(user_age))"
      ],
      "execution_count": null,
      "outputs": [
        {
          "output_type": "stream",
          "name": "stdout",
          "text": [
            "How old are you? 44\n",
            "44\n",
            "<class 'int'>\n"
          ]
        }
      ]
    },
    {
      "cell_type": "code",
      "metadata": {
        "colab": {
          "base_uri": "https://localhost:8080/"
        },
        "id": "D7gboZwtSxt0",
        "outputId": "0ae97ab4-102e-4218-ca3a-f494d77352f9"
      },
      "source": [
        "user_age"
      ],
      "execution_count": null,
      "outputs": [
        {
          "output_type": "execute_result",
          "data": {
            "text/plain": [
              "44"
            ]
          },
          "metadata": {},
          "execution_count": 7
        }
      ]
    },
    {
      "cell_type": "code",
      "metadata": {
        "id": "RqGIqH4GS6RI"
      },
      "source": [
        "# check username and password to authentication\n",
        "def check_un_pw():\n",
        "    username = str(input(\"Username : \")) # str\n",
        "    password = input(\"Password: \") # str\n",
        "    if (username == 'nutchapol') and (password == 'password'):\n",
        "        print(\"Welcome to our server!\")\n",
        "    else:\n",
        "        print(\"Cant'! user server, Your username or password is wrong.\")"
      ],
      "execution_count": null,
      "outputs": []
    },
    {
      "cell_type": "code",
      "metadata": {
        "colab": {
          "base_uri": "https://localhost:8080/"
        },
        "id": "Ctt3AbmsTs7J",
        "outputId": "e56e3a00-c07e-4589-9a9d-24716132775e"
      },
      "source": [
        "check_un_pw()"
      ],
      "execution_count": null,
      "outputs": [
        {
          "output_type": "stream",
          "name": "stdout",
          "text": [
            "Username : nutchapol\n",
            "Password: password\n",
            "Welcome to our server!\n"
          ]
        }
      ]
    },
    {
      "cell_type": "code",
      "metadata": {
        "id": "dGWi6f--TuQm"
      },
      "source": [
        "# control flow \n",
        "# if-else, for loop, while loop"
      ],
      "execution_count": null,
      "outputs": []
    },
    {
      "cell_type": "code",
      "metadata": {
        "id": "r1opnXy-UCJ_"
      },
      "source": [
        "def grading():\n",
        "    score = int(input(\"Input your Score : \")) # force int \n",
        "    if (score >= 85):\n",
        "        return \"Grade A\"\n",
        "    elif (score >= 75):\n",
        "        return \"Grade B+\"\n",
        "    elif (score >= 70):\n",
        "        return \"Grade B\"\n",
        "    elif (score >= 65):\n",
        "        return \"Grade C+\"\n",
        "    elif (score >= 60):\n",
        "        return \"Grade C\"\n",
        "    elif (score > 55):\n",
        "        return \"Grade D\"\n",
        "    else:\n",
        "        return \"Grade F\"    "
      ],
      "execution_count": null,
      "outputs": []
    },
    {
      "cell_type": "code",
      "metadata": {
        "colab": {
          "base_uri": "https://localhost:8080/"
        },
        "id": "fsGle1PsUQ76",
        "outputId": "7914f86c-59dc-4d4b-afca-50e1c2e57b1e"
      },
      "source": [
        "dx_grade = grading()\n",
        "print(dx_grade)"
      ],
      "execution_count": null,
      "outputs": [
        {
          "output_type": "stream",
          "name": "stdout",
          "text": [
            "Input your Score : 76\n",
            "Grade B+\n"
          ]
        }
      ]
    },
    {
      "cell_type": "code",
      "metadata": {
        "colab": {
          "base_uri": "https://localhost:8080/"
        },
        "id": "w97zXo9YVrrm",
        "outputId": "48fba20b-09d5-49a6-808e-0bc31fa4bb10"
      },
      "source": [
        "# for loop\n",
        "text = \"hello\"\n",
        "print(len(text))\n",
        "\n",
        "for char in text:\n",
        "     print(char.upper() )"
      ],
      "execution_count": 24,
      "outputs": [
        {
          "output_type": "stream",
          "name": "stdout",
          "text": [
            "5\n",
            "H\n",
            "E\n",
            "L\n",
            "L\n",
            "O\n"
          ]
        }
      ]
    },
    {
      "cell_type": "code",
      "metadata": {
        "colab": {
          "base_uri": "https://localhost:8080/"
        },
        "id": "Tz0Gb70tX3cZ",
        "outputId": "6902e7a3-8b94-40f4-a654-e75cf25bd31a"
      },
      "source": [
        "# data structures: list tuple dictionary\n",
        "friends = [\"Gift\", \"Nine\", \"Ploy\", \"Grape\", \"Suguxs\"]\n",
        "print(type(friends))"
      ],
      "execution_count": null,
      "outputs": [
        {
          "output_type": "stream",
          "name": "stdout",
          "text": [
            "<class 'list'>\n"
          ]
        }
      ]
    },
    {
      "cell_type": "code",
      "metadata": {
        "colab": {
          "base_uri": "https://localhost:8080/"
        },
        "id": "ZDthv9h8Y4Nv",
        "outputId": "882e3914-6e7a-431b-86f0-d224b304f7b9"
      },
      "source": [
        "# list methods\n",
        "friends.append(\"Fiat\")\n",
        "print(friends)"
      ],
      "execution_count": null,
      "outputs": [
        {
          "output_type": "stream",
          "name": "stdout",
          "text": [
            "['Gift', 'Nine', 'Ploy', 'Grape', 'Suguxs', 'Fait', 'Fiatt', 'Fiat']\n"
          ]
        }
      ]
    },
    {
      "cell_type": "code",
      "metadata": {
        "colab": {
          "base_uri": "https://localhost:8080/"
        },
        "id": "R2KwzurPZ5aT",
        "outputId": "7f8d229a-d187-43de-8cef-a234d9db56be"
      },
      "source": [
        "friends.remove('Fiatt')\n",
        "friends.remove('Fait')\n",
        "print(friends)"
      ],
      "execution_count": null,
      "outputs": [
        {
          "output_type": "stream",
          "name": "stdout",
          "text": [
            "['Gift', 'Nine', 'Ploy', 'Grape', 'Suguxs', 'Fiat']\n"
          ]
        }
      ]
    },
    {
      "cell_type": "code",
      "metadata": {
        "id": "ozUYlkZQaXCe",
        "colab": {
          "base_uri": "https://localhost:8080/"
        },
        "outputId": "9b6b26c3-36a3-441f-893c-a3b9a864431a"
      },
      "source": [
        "friends = friends + ['Jijie', 'Pun', 'Aom']\n",
        "friends\n",
        "#if write friends don't have print()result จากบนลงล่าง ถ้ามีจะเป็น list ด้านข้าง"
      ],
      "execution_count": null,
      "outputs": [
        {
          "output_type": "execute_result",
          "data": {
            "text/plain": [
              "['Gift',\n",
              " 'Nine',\n",
              " 'Ploy',\n",
              " 'Grape',\n",
              " 'Suguxs',\n",
              " 'Fiat',\n",
              " 'Jijie',\n",
              " 'Pun',\n",
              " 'Aom',\n",
              " 'Jijie',\n",
              " 'Pun',\n",
              " 'Aom',\n",
              " 'Jijie',\n",
              " 'Pun',\n",
              " 'Aom',\n",
              " 'Jijie',\n",
              " 'Pun',\n",
              " 'Aom']"
            ]
          },
          "metadata": {},
          "execution_count": 44
        }
      ]
    },
    {
      "cell_type": "code",
      "metadata": {
        "id": "W9Dh3SJzaouN",
        "colab": {
          "base_uri": "https://localhost:8080/"
        },
        "outputId": "6ea93886-59e5-4ebc-ea06-cf4e9b17771c"
      },
      "source": [
        "print(friends)"
      ],
      "execution_count": null,
      "outputs": [
        {
          "output_type": "stream",
          "name": "stdout",
          "text": [
            "['Gift', 'Nine', 'Ploy', 'Grape', 'Suguxs', 'Fiat', 'Jijie', 'Pun', 'Aom', 'Jijie', 'Pun', 'Aom', 'Jijie', 'Pun', 'Aom', 'Jijie', 'Pun', 'Aom']\n"
          ]
        }
      ]
    },
    {
      "cell_type": "code",
      "metadata": {
        "colab": {
          "base_uri": "https://localhost:8080/"
        },
        "id": "nZZ4YYwbauX-",
        "outputId": "b0b77ddb-7db9-4a9c-a5d7-1214a13ec66a"
      },
      "source": [
        "friends.insert(2, 'God') # insert ตำแหน่งที่ insert(x,) python start with 0\n",
        "print(friends)"
      ],
      "execution_count": null,
      "outputs": [
        {
          "output_type": "stream",
          "name": "stdout",
          "text": [
            "['Gift', 'Nine', 'God', 'Ploy', 'Grape', 'Suguxs', 'Fiat', 'Jijie', 'Pun', 'Aom', 'Jijie', 'Pun', 'Aom', 'Jijie', 'Pun', 'Aom', 'Jijie', 'Pun', 'Aom']\n"
          ]
        }
      ]
    },
    {
      "cell_type": "code",
      "metadata": {
        "colab": {
          "base_uri": "https://localhost:8080/"
        },
        "id": "dhHIM1ANbOq5",
        "outputId": "31004cca-e1b7-48de-94f9-23712b806b2b"
      },
      "source": [
        "# list index\n",
        "print(friends[0])\n",
        "print(friends[1])\n",
        "print(friends[-1]) #1 from backward\n",
        "print(friends[-2]) #2 from backward \n",
        "print(friends[1:4])"
      ],
      "execution_count": null,
      "outputs": [
        {
          "output_type": "stream",
          "name": "stdout",
          "text": [
            "Gift\n",
            "Nine\n",
            "Aom\n",
            "Pun\n",
            "['Nine', 'God', 'Ploy']\n"
          ]
        }
      ]
    },
    {
      "cell_type": "code",
      "metadata": {
        "colab": {
          "base_uri": "https://localhost:8080/"
        },
        "id": "gFtAwEsibm92",
        "outputId": "f249feca-aa77-4d62-90f0-3b2ef0c5d94a"
      },
      "source": [
        "fruits = ['apple','apple', 'banana', 'orange']\n",
        "print(fruits)"
      ],
      "execution_count": null,
      "outputs": [
        {
          "output_type": "stream",
          "name": "stdout",
          "text": [
            "['apple', 'apple', 'banana', 'orange']\n"
          ]
        }
      ]
    },
    {
      "cell_type": "code",
      "metadata": {
        "colab": {
          "base_uri": "https://localhost:8080/"
        },
        "id": "WFG4dw3kb0Et",
        "outputId": "e9c93009-d398-4a89-bd93-9b13d6ec6be8"
      },
      "source": [
        "# replace index 0 with mango\n",
        "fruits[0] = 'mango'\n",
        "print(fruits)\n",
        "#[2] 0:mango, 1:apple, 2:banana, 3:orange:"
      ],
      "execution_count": null,
      "outputs": [
        {
          "output_type": "stream",
          "name": "stdout",
          "text": [
            "['mango', 'apple', 'grape', 'orange']\n"
          ]
        }
      ]
    },
    {
      "cell_type": "code",
      "metadata": {
        "colab": {
          "base_uri": "https://localhost:8080/"
        },
        "id": "B3MtMmimb4gj",
        "outputId": "f0928617-fc84-49aa-f134-174aa3f44a5d"
      },
      "source": [
        "# list is MUTABLE (we can update value in a list)\n",
        "fruits[2] = 'grape' \n",
        "print(fruits)"
      ],
      "execution_count": null,
      "outputs": [
        {
          "output_type": "stream",
          "name": "stdout",
          "text": [
            "['mango', 'apple', 'grape', 'orange']\n"
          ]
        }
      ]
    },
    {
      "cell_type": "code",
      "metadata": {
        "colab": {
          "base_uri": "https://localhost:8080/"
        },
        "id": "1Hj9XP9AcPMa",
        "outputId": "f139eba6-ad6e-47ea-a132-d1b062572ac6"
      },
      "source": [
        "# string is IMMUTABLE\n",
        "name = \"John Wick\" # -> \"Jack Wick\"\n",
        "print(name)"
      ],
      "execution_count": null,
      "outputs": [
        {
          "output_type": "stream",
          "name": "stdout",
          "text": [
            "John Wick\n"
          ]
        }
      ]
    },
    {
      "cell_type": "code",
      "metadata": {
        "colab": {
          "base_uri": "https://localhost:8080/"
        },
        "id": "6GJNBlzIcedS",
        "outputId": "1045e3a9-f9d2-4d89-e4c1-fed97d554df2"
      },
      "source": [
        "name = \"Jack \" + name[5: ]\n",
        "print(name)"
      ],
      "execution_count": null,
      "outputs": [
        {
          "output_type": "stream",
          "name": "stdout",
          "text": [
            "Jack Wick\n"
          ]
        }
      ]
    },
    {
      "cell_type": "code",
      "metadata": {
        "colab": {
          "base_uri": "https://localhost:8080/"
        },
        "id": "NoUm7Gobcg4i",
        "outputId": "54b713d0-da81-40f3-a6ff-d9e297061914"
      },
      "source": [
        "name = name.replace(\"Jack\", \"John\")\n",
        "print(name)"
      ],
      "execution_count": null,
      "outputs": [
        {
          "output_type": "stream",
          "name": "stdout",
          "text": [
            "John Wick\n"
          ]
        }
      ]
    },
    {
      "cell_type": "code",
      "metadata": {
        "id": "BmoL6-Xqc9yJ"
      },
      "source": [
        ""
      ],
      "execution_count": null,
      "outputs": []
    },
    {
      "cell_type": "markdown",
      "metadata": {
        "id": "P14wdmn6fjxY"
      },
      "source": [
        "## **Data Structures**\n",
        "\n",
        "- List (mutable)\n",
        "- Tuple (immutable)\n",
        "- Dictionary (mutable)"
      ]
    },
    {
      "cell_type": "code",
      "metadata": {
        "colab": {
          "base_uri": "https://localhost:8080/"
        },
        "id": "p3_Dp5RtfsXg",
        "outputId": "1eb92469-5ef9-4621-d7a0-6c85b00bd148"
      },
      "source": [
        "# list\n",
        "fruits = ['apple', 'orange', 'banana']\n",
        "print(type(fruits))"
      ],
      "execution_count": null,
      "outputs": [
        {
          "output_type": "stream",
          "name": "stdout",
          "text": [
            "<class 'list'>\n"
          ]
        }
      ]
    },
    {
      "cell_type": "code",
      "metadata": {
        "id": "cJJkxzxXf0e0"
      },
      "source": [
        "# tuple (immutable)\n",
        "fruits = ('apple', 'orange', 'banana', 'apple')\n",
        "\n",
        "# tuple unpacking\n",
        "x, y, z, w = fruits"
      ],
      "execution_count": null,
      "outputs": []
    },
    {
      "cell_type": "code",
      "metadata": {
        "colab": {
          "base_uri": "https://localhost:8080/"
        },
        "id": "n0NRNeoXf93O",
        "outputId": "760178d3-38a9-45b4-9f7a-149e0eaed4b1"
      },
      "source": [
        "print(x, y , z, w)"
      ],
      "execution_count": null,
      "outputs": [
        {
          "output_type": "stream",
          "name": "stdout",
          "text": [
            "apple orange banana apple\n"
          ]
        }
      ]
    },
    {
      "cell_type": "code",
      "metadata": {
        "id": "EsFkrrNFgoaL"
      },
      "source": [
        "# dictionary {key: value}\n",
        "customer = {\n",
        "    \"first_name\": \"New\",\n",
        "    \"last_name\": \"Clear\",\n",
        "    \"age\": 32\n",
        "}"
      ],
      "execution_count": 41,
      "outputs": []
    },
    {
      "cell_type": "code",
      "metadata": {
        "colab": {
          "base_uri": "https://localhost:8080/"
        },
        "id": "fEuRSiT-iB8R",
        "outputId": "80ac7d1b-74d7-4009-8b8b-8079cadc21c4"
      },
      "source": [
        "# update value in dictionary (mutable)\n",
        "customer[\"first_name\"] = \"New\"\n",
        "print(customer)"
      ],
      "execution_count": 38,
      "outputs": [
        {
          "output_type": "stream",
          "name": "stdout",
          "text": [
            "{'first_name': 'New'}\n"
          ]
        }
      ]
    },
    {
      "cell_type": "code",
      "metadata": {
        "colab": {
          "base_uri": "https://localhost:8080/"
        },
        "id": "mUOn83VniTKH",
        "outputId": "c2181741-b05b-441c-a742-11e08fd9acd2"
      },
      "source": [
        "# create new key in dictionary\n",
        "customer[\"nationality\"] = \"Thai\"\n",
        "print(customer)\n"
      ],
      "execution_count": 43,
      "outputs": [
        {
          "output_type": "stream",
          "name": "stdout",
          "text": [
            "{'first_name': 'New', 'last_name': 'Clear', 'age': 32, 'nationality': 'Thai'}\n"
          ]
        }
      ]
    },
    {
      "cell_type": "code",
      "source": [
        "# create new key in dictionary \n",
        "customer['salary'] = 90000\n",
        "print(customer)"
      ],
      "metadata": {
        "colab": {
          "base_uri": "https://localhost:8080/"
        },
        "id": "pdlZjRVAZl_a",
        "outputId": "b42916cf-9414-4eef-a11c-4891b2caf120"
      },
      "execution_count": 45,
      "outputs": [
        {
          "output_type": "stream",
          "name": "stdout",
          "text": [
            "{'first_name': 'New', 'last_name': 'Clear', 'age': 32, 'nationality': 'Thai', 'salary': 90000}\n"
          ]
        }
      ]
    },
    {
      "cell_type": "code",
      "source": [
        "print(customer)"
      ],
      "metadata": {
        "colab": {
          "base_uri": "https://localhost:8080/"
        },
        "id": "dJ3RsZ16ZvZ9",
        "outputId": "a529f315-57e4-4fb3-9111-977b03d6c5ce"
      },
      "execution_count": 44,
      "outputs": [
        {
          "output_type": "stream",
          "name": "stdout",
          "text": [
            "{'first_name': 'New', 'last_name': 'Clear', 'age': 32, 'nationality': 'Thai'}\n"
          ]
        }
      ]
    },
    {
      "cell_type": "code",
      "metadata": {
        "id": "s_Mxt9ZciiQV"
      },
      "source": [
        "# delete key\n",
        "del customer['salary']\n"
      ],
      "execution_count": 48,
      "outputs": []
    },
    {
      "cell_type": "code",
      "metadata": {
        "colab": {
          "base_uri": "https://localhost:8080/"
        },
        "id": "2-7jYGTNhDVk",
        "outputId": "0663e714-d7b2-4296-d81f-60a5d4f5d9ee"
      },
      "source": [
        "customer"
      ],
      "execution_count": 49,
      "outputs": [
        {
          "output_type": "execute_result",
          "data": {
            "text/plain": [
              "{'age': 32, 'first_name': 'New', 'last_name': 'Clear', 'nationality': 'Thai'}"
            ]
          },
          "metadata": {},
          "execution_count": 49
        }
      ]
    },
    {
      "cell_type": "code",
      "metadata": {
        "colab": {
          "base_uri": "https://localhost:8080/"
        },
        "id": "_L5hCO6FhIWc",
        "outputId": "d06993f8-a0d3-4313-c466-e5a0fb8de9cf"
      },
      "source": [
        "customer.values()"
      ],
      "execution_count": 50,
      "outputs": [
        {
          "output_type": "execute_result",
          "data": {
            "text/plain": [
              "dict_values(['New', 'Clear', 32, 'Thai'])"
            ]
          },
          "metadata": {},
          "execution_count": 50
        }
      ]
    },
    {
      "cell_type": "code",
      "metadata": {
        "colab": {
          "base_uri": "https://localhost:8080/"
        },
        "id": "xT2z5_eEh3S4",
        "outputId": "ee460eac-9f24-4d5b-f4ae-3be31930819e"
      },
      "source": [
        "customer.items()"
      ],
      "execution_count": 61,
      "outputs": [
        {
          "output_type": "execute_result",
          "data": {
            "text/plain": [
              "dict_items([('first_name', 'New'), ('last_name', 'Clear'), ('age', 32), ('nationality', 'Thai')])"
            ]
          },
          "metadata": {},
          "execution_count": 61
        }
      ]
    },
    {
      "cell_type": "code",
      "metadata": {
        "colab": {
          "base_uri": "https://localhost:8080/"
        },
        "id": "Wvpc82jWh7wu",
        "outputId": "8689549e-ad63-4d65-9b1f-ef74626040b2"
      },
      "source": [
        "customer"
      ],
      "execution_count": 62,
      "outputs": [
        {
          "output_type": "execute_result",
          "data": {
            "text/plain": [
              "{'age': 32, 'first_name': 'New', 'last_name': 'Clear', 'nationality': 'Thai'}"
            ]
          },
          "metadata": {},
          "execution_count": 62
        }
      ]
    },
    {
      "cell_type": "code",
      "metadata": {
        "colab": {
          "base_uri": "https://localhost:8080/"
        },
        "id": "VZyQsDfNjAuY",
        "outputId": "ffe1fdec-217a-4f18-c6ae-a3505000e832"
      },
      "source": [
        "# for loop through dictionary\n",
        "# in dictionary {key}: {Value}\n",
        "for key, value in customer.items():\n",
        "    print(f\"{key}: {value}\")"
      ],
      "execution_count": 64,
      "outputs": [
        {
          "output_type": "stream",
          "name": "stdout",
          "text": [
            "first_name: New\n",
            "last_name: Clear\n",
            "age: 32\n",
            "nationality: Thai\n"
          ]
        }
      ]
    },
    {
      "cell_type": "code",
      "metadata": {
        "id": "CyKnfYocjDve"
      },
      "source": [
        "# dictionary values can hold many data types/ structures\n",
        "customers = {\n",
        "    \"customer_01\": {\"name\": \"John Wick\", \"age\": 44, \"city\": \"Bangkok\"},\n",
        "    \"customer_02\": {\"name\": \"Donald Miller\", \"age\": 52},\n",
        "    \"customer_03\": {\"name\": \"Jack Dorsey\", \"age\": 35, \"mobile\": \"+66995551234\"},\n",
        "    \"customer_04\": {\"name\": \"Kevin DeBrune\", \n",
        "                     \"football_teams\": [\"Man City\", \"Liverpool\", \"Paris\"]\n",
        "                    }\n",
        "}\n"
      ],
      "execution_count": 68,
      "outputs": []
    },
    {
      "cell_type": "code",
      "metadata": {
        "colab": {
          "base_uri": "https://localhost:8080/"
        },
        "id": "sShfRnoFkgM5",
        "outputId": "8d7bd29b-8225-4654-8552-e5140bb1c1fe"
      },
      "source": [
        "# semi-structured data\n",
        "customers"
      ],
      "execution_count": 69,
      "outputs": [
        {
          "output_type": "execute_result",
          "data": {
            "text/plain": [
              "{'customer_01': {'age': 44, 'city': 'Bangkok', 'name': 'John Wick'},\n",
              " 'customer_02': {'age': 52, 'name': 'Donald Miller'},\n",
              " 'customer_03': {'age': 35, 'mobile': '+66995551234', 'name': 'Jack Dorsey'},\n",
              " 'customer_04': {'football_teams': ['Man City', 'Liverpool', 'Paris'],\n",
              "  'name': 'Kevin DeBrune'}}"
            ]
          },
          "metadata": {},
          "execution_count": 69
        }
      ]
    },
    {
      "cell_type": "code",
      "metadata": {
        "colab": {
          "base_uri": "https://localhost:8080/",
          "height": 35
        },
        "id": "SPpFpQW9khAJ",
        "outputId": "37c51f43-4091-48fd-d816-795b7b61cf34"
      },
      "source": [
        "# [] subset data\n",
        "customers[\"customer_04\"][\"football_teams\"][0]"
      ],
      "execution_count": 71,
      "outputs": [
        {
          "output_type": "execute_result",
          "data": {
            "application/vnd.google.colaboratory.intrinsic+json": {
              "type": "string"
            },
            "text/plain": [
              "'Man City'"
            ]
          },
          "metadata": {},
          "execution_count": 71
        }
      ]
    },
    {
      "cell_type": "code",
      "metadata": {
        "id": "d3pmkNaEkruk",
        "colab": {
          "base_uri": "https://localhost:8080/"
        },
        "outputId": "c0702700-0924-4cda-99f0-8c9562a69cfa"
      },
      "source": [
        "print(customers[\"customer_01\"])\n",
        "print(customers[\"customer_02\"])\n",
        "print(customers[\"customer_03\"])\n",
        "print(customers[\"customer_04\"])"
      ],
      "execution_count": 75,
      "outputs": [
        {
          "output_type": "stream",
          "name": "stdout",
          "text": [
            "{'name': 'John Wick', 'age': 44, 'city': 'Bangkok'}\n",
            "{'name': 'Donald Miller', 'age': 52}\n",
            "{'name': 'Jack Dorsey', 'age': 35, 'mobile': '+66995551234'}\n",
            "{'name': 'Kevin DeBrune', 'football_teams': ['Man City', 'Liverpool', 'Paris']}\n"
          ]
        }
      ]
    },
    {
      "cell_type": "markdown",
      "metadata": {
        "id": "T535DmOalPUS"
      },
      "source": [
        "## **Control Flow**\n",
        "\n",
        "- if else\n",
        "- for loop\n",
        "- while loop"
      ]
    },
    {
      "cell_type": "code",
      "metadata": {
        "colab": {
          "base_uri": "https://localhost:8080/"
        },
        "id": "m3hgBBmLlUxt",
        "outputId": "b4d72834-ee89-4116-dd2a-422da54d87f7"
      },
      "source": [
        "# while loop example\n",
        "x = 0\n",
        "\n",
        "while (x < 5):\n",
        "    print(x, \"hello\")\n",
        "    # update value of x\n",
        "    x += 1"
      ],
      "execution_count": null,
      "outputs": [
        {
          "output_type": "stream",
          "name": "stdout",
          "text": [
            "0 hello\n",
            "1 hello\n",
            "2 hello\n",
            "3 hello\n",
            "4 hello\n"
          ]
        }
      ]
    },
    {
      "cell_type": "code",
      "metadata": {
        "colab": {
          "base_uri": "https://localhost:8080/"
        },
        "id": "iS61eOrKl3pS",
        "outputId": "384c924c-0bff-4df0-e50d-1e31c0fc500c"
      },
      "source": [
        "1# guess football score ManU vs. Liverpool\n",
        "# guess how many goals Liverpool ยิง ManU (1-1)\n",
        "\n",
        "liverpool_score = 1\n",
        "man_u_score = 1\n",
        "condition = True\n",
        "\n",
        "while (condition):\n",
        "    user_guess_li = int(input(\"Guess Liverpool goals: \"))\n",
        "    user_guess_ma = int(input(\"Guess Man_U goals: \"))\n",
        "    if user_guess_li == liverpool_score and user_guess_ma == man_u_score :\n",
        "        print(\"You are correct! Liverpool 1-1 ManU!\")\n",
        "        break\n",
        "    else:\n",
        "        print(\"Please try again!\")"
      ],
      "execution_count": 23,
      "outputs": [
        {
          "output_type": "stream",
          "name": "stdout",
          "text": [
            "Guess Liverpool goals: 1\n",
            "Guess Man_U goals: 1\n",
            "You are correct! Liverpool 1-1 ManU!\n"
          ]
        }
      ]
    },
    {
      "cell_type": "code",
      "metadata": {
        "id": "OpnFeNvPm9G7"
      },
      "source": [
        "def is_odd(num):\n",
        "    if num %2 == 1 :\n",
        "        return True\n",
        "    else:\n",
        "        return False\n",
        "def is_even():\n",
        "    num = int(input(\"Please put you number : \"))\n",
        "    if num %2 == 0 :\n",
        "        return True\n",
        "    else: \n",
        "        return False \n",
        "        "
      ],
      "execution_count": null,
      "outputs": []
    },
    {
      "cell_type": "code",
      "source": [
        "is_even()"
      ],
      "metadata": {
        "colab": {
          "base_uri": "https://localhost:8080/"
        },
        "id": "m8Dc76sDE8vq",
        "outputId": "f2061834-27e4-459c-c10e-c0d3751f2bd5"
      },
      "execution_count": null,
      "outputs": [
        {
          "name": "stdout",
          "output_type": "stream",
          "text": [
            "Please put you number : 54\n"
          ]
        },
        {
          "output_type": "execute_result",
          "data": {
            "text/plain": [
              "True"
            ]
          },
          "metadata": {},
          "execution_count": 18
        }
      ]
    },
    {
      "cell_type": "markdown",
      "metadata": {
        "id": "XxHb5jd9niJn"
      },
      "source": [
        "## **OOP**\n",
        "\n",
        "Object Oriented Programming"
      ]
    },
    {
      "cell_type": "code",
      "metadata": {
        "id": "9V0N9OCHnlhR"
      },
      "source": [
        "class Dog:\n",
        "    name = \"ManU\"\n",
        "    age = 5\n",
        "    color = \"red\"\n",
        "    owner = \"Ole\""
      ],
      "execution_count": 76,
      "outputs": []
    },
    {
      "cell_type": "code",
      "metadata": {
        "colab": {
          "base_uri": "https://localhost:8080/"
        },
        "id": "G-ukOe6En8DK",
        "outputId": "8b22d6b9-a918-4fe4-f6e3-264a2da314b0"
      },
      "source": [
        "# declare new class object: Dog\n",
        "my_dog = Dog()\n",
        "\n",
        "print(my_dog.age)\n",
        "print(my_dog.owner)\n",
        "print(my_dog.color)\n",
        "print(my_dog.name)"
      ],
      "execution_count": 77,
      "outputs": [
        {
          "output_type": "stream",
          "name": "stdout",
          "text": [
            "5\n",
            "Ole\n",
            "red\n",
            "ManU\n"
          ]
        }
      ]
    },
    {
      "cell_type": "code",
      "metadata": {
        "colab": {
          "base_uri": "https://localhost:8080/"
        },
        "id": "vCxAbHW7oQfI",
        "outputId": "005b6e8e-e66d-417a-b077-837ffc48af3a"
      },
      "source": [
        "second_dog = Dog()\n",
        "print(second_dog.owner, second_dog.age)"
      ],
      "execution_count": 78,
      "outputs": [
        {
          "output_type": "stream",
          "name": "stdout",
          "text": [
            "Ole 5\n"
          ]
        }
      ]
    },
    {
      "cell_type": "code",
      "metadata": {
        "id": "c0_ywT2Cok1c"
      },
      "source": [
        "# create new Dog class with customization\n",
        "class Dog:\n",
        "    def __init__(self, name, age, color):\n",
        "        self.name = name\n",
        "        self.age = age\n",
        "        self.color = color\n",
        "\n",
        "    def barking(self):\n",
        "        print(f\"I am a dog and my name is {self.name}.\")\n",
        "\n",
        "    def sitting(self):\n",
        "        print(\"I'm sitting now!\")\n",
        "\n",
        "    def get_older(self, years):\n",
        "        self.age += years\n",
        "\n",
        "    def hungry(self, food):\n",
        "        self.food = food\n",
        "        print(f'my dog want to eat {self.food}')\n"
      ],
      "execution_count": 3,
      "outputs": []
    },
    {
      "cell_type": "code",
      "metadata": {
        "id": "mgD2quAspNCm"
      },
      "source": [
        "joey = Dog(\"Lucky\", 6, \"brown\")"
      ],
      "execution_count": 4,
      "outputs": []
    },
    {
      "cell_type": "code",
      "metadata": {
        "colab": {
          "base_uri": "https://localhost:8080/"
        },
        "id": "DoatUnrlpal3",
        "outputId": "3ed386b4-e6c8-476b-ec3a-5ed8653d5076"
      },
      "source": [
        "# Dog method\n",
        "joey.barking()"
      ],
      "execution_count": 5,
      "outputs": [
        {
          "output_type": "stream",
          "name": "stdout",
          "text": [
            "I am a dog and my name is Lucky.\n"
          ]
        }
      ]
    },
    {
      "cell_type": "code",
      "metadata": {
        "colab": {
          "base_uri": "https://localhost:8080/"
        },
        "id": "p5nx8f9fpc1F",
        "outputId": "0fb6121b-0c88-4b3f-a24f-e6066473c3f8"
      },
      "source": [
        "joey.sitting()"
      ],
      "execution_count": 6,
      "outputs": [
        {
          "output_type": "stream",
          "name": "stdout",
          "text": [
            "I'm sitting now!\n"
          ]
        }
      ]
    },
    {
      "cell_type": "code",
      "source": [
        "joey.hungry('pizza')"
      ],
      "metadata": {
        "colab": {
          "base_uri": "https://localhost:8080/"
        },
        "id": "1gKyvecViBI3",
        "outputId": "df7f2682-6358-4257-e2ae-4816fdc06ce5"
      },
      "execution_count": 7,
      "outputs": [
        {
          "output_type": "stream",
          "name": "stdout",
          "text": [
            "my dog want to eat pizza\n"
          ]
        }
      ]
    },
    {
      "cell_type": "code",
      "metadata": {
        "colab": {
          "base_uri": "https://localhost:8080/"
        },
        "id": "hutzMQfnq28U",
        "outputId": "b86f6403-e4bd-4160-9dcb-303f1f71cc07"
      },
      "source": [
        "print(\"Current age\", joey.age)\n",
        "joey.get_older(2)\n",
        "print(\"New age\", joey.age)"
      ],
      "execution_count": 8,
      "outputs": [
        {
          "output_type": "stream",
          "name": "stdout",
          "text": [
            "Current age 6\n",
            "New age 8\n"
          ]
        }
      ]
    },
    {
      "cell_type": "code",
      "metadata": {
        "colab": {
          "base_uri": "https://localhost:8080/"
        },
        "id": "e0KFgqbwq7k_",
        "outputId": "680d2937-b982-4fbf-cf41-79fe6a16df1d"
      },
      "source": [
        "joey.name # attribute\n",
        "joey.barking() # method/ function Dog"
      ],
      "execution_count": 11,
      "outputs": [
        {
          "output_type": "stream",
          "name": "stdout",
          "text": [
            "I am a dog and my name is Lucky.\n"
          ]
        }
      ]
    },
    {
      "cell_type": "code",
      "metadata": {
        "id": "JSKQTVburHx6"
      },
      "source": [
        "# most popular Python package for data science\n",
        "# pandas\n",
        "import pandas as pd\n",
        "\n",
        "hotel = pd.read_csv(\"hotel.csv\")"
      ],
      "execution_count": 1,
      "outputs": []
    },
    {
      "cell_type": "code",
      "source": [
        "print(hotel)"
      ],
      "metadata": {
        "colab": {
          "base_uri": "https://localhost:8080/"
        },
        "id": "N5xNaSRN-HIv",
        "outputId": "8f4a4691-226e-4d90-97e0-0b645cf108c3"
      },
      "execution_count": 3,
      "outputs": [
        {
          "output_type": "stream",
          "name": "stdout",
          "text": [
            "   id       hotel location  pricepernight\n",
            "0   1        Ideo  Bangkok             20\n",
            "1   2       Accor   London             25\n",
            "2   3     Premium    Seoul             32\n",
            "3   4  Super Star    Dubai             50\n",
            "4   5      Planet    Tokyo             22\n",
            "5   6        Joby  Bangkok             30\n",
            "6   7  JW Marriot  Bangkok             35\n",
            "7   8     Kenshin    Tokyo             20\n",
            "8   9    Eloquent   London             42\n",
            "9  10     Big Ben   London             45\n"
          ]
        }
      ]
    },
    {
      "cell_type": "code",
      "source": [
        "hotel"
      ],
      "metadata": {
        "colab": {
          "base_uri": "https://localhost:8080/",
          "height": 363
        },
        "id": "xxawxKmI-M9o",
        "outputId": "0326a5ad-faf8-4456-b950-49151c9076ec"
      },
      "execution_count": 7,
      "outputs": [
        {
          "output_type": "execute_result",
          "data": {
            "text/html": [
              "\n",
              "  <div id=\"df-e2650d5f-8f43-40e1-8883-63139b3b9efc\">\n",
              "    <div class=\"colab-df-container\">\n",
              "      <div>\n",
              "<style scoped>\n",
              "    .dataframe tbody tr th:only-of-type {\n",
              "        vertical-align: middle;\n",
              "    }\n",
              "\n",
              "    .dataframe tbody tr th {\n",
              "        vertical-align: top;\n",
              "    }\n",
              "\n",
              "    .dataframe thead th {\n",
              "        text-align: right;\n",
              "    }\n",
              "</style>\n",
              "<table border=\"1\" class=\"dataframe\">\n",
              "  <thead>\n",
              "    <tr style=\"text-align: right;\">\n",
              "      <th></th>\n",
              "      <th>id</th>\n",
              "      <th>hotel</th>\n",
              "      <th>location</th>\n",
              "      <th>pricepernight</th>\n",
              "    </tr>\n",
              "  </thead>\n",
              "  <tbody>\n",
              "    <tr>\n",
              "      <th>0</th>\n",
              "      <td>1</td>\n",
              "      <td>Ideo</td>\n",
              "      <td>Bangkok</td>\n",
              "      <td>20</td>\n",
              "    </tr>\n",
              "    <tr>\n",
              "      <th>1</th>\n",
              "      <td>2</td>\n",
              "      <td>Accor</td>\n",
              "      <td>London</td>\n",
              "      <td>25</td>\n",
              "    </tr>\n",
              "    <tr>\n",
              "      <th>2</th>\n",
              "      <td>3</td>\n",
              "      <td>Premium</td>\n",
              "      <td>Seoul</td>\n",
              "      <td>32</td>\n",
              "    </tr>\n",
              "    <tr>\n",
              "      <th>3</th>\n",
              "      <td>4</td>\n",
              "      <td>Super Star</td>\n",
              "      <td>Dubai</td>\n",
              "      <td>50</td>\n",
              "    </tr>\n",
              "    <tr>\n",
              "      <th>4</th>\n",
              "      <td>5</td>\n",
              "      <td>Planet</td>\n",
              "      <td>Tokyo</td>\n",
              "      <td>22</td>\n",
              "    </tr>\n",
              "    <tr>\n",
              "      <th>5</th>\n",
              "      <td>6</td>\n",
              "      <td>Joby</td>\n",
              "      <td>Bangkok</td>\n",
              "      <td>30</td>\n",
              "    </tr>\n",
              "    <tr>\n",
              "      <th>6</th>\n",
              "      <td>7</td>\n",
              "      <td>JW Marriot</td>\n",
              "      <td>Bangkok</td>\n",
              "      <td>35</td>\n",
              "    </tr>\n",
              "    <tr>\n",
              "      <th>7</th>\n",
              "      <td>8</td>\n",
              "      <td>Kenshin</td>\n",
              "      <td>Tokyo</td>\n",
              "      <td>20</td>\n",
              "    </tr>\n",
              "    <tr>\n",
              "      <th>8</th>\n",
              "      <td>9</td>\n",
              "      <td>Eloquent</td>\n",
              "      <td>London</td>\n",
              "      <td>42</td>\n",
              "    </tr>\n",
              "    <tr>\n",
              "      <th>9</th>\n",
              "      <td>10</td>\n",
              "      <td>Big Ben</td>\n",
              "      <td>London</td>\n",
              "      <td>45</td>\n",
              "    </tr>\n",
              "  </tbody>\n",
              "</table>\n",
              "</div>\n",
              "      <button class=\"colab-df-convert\" onclick=\"convertToInteractive('df-e2650d5f-8f43-40e1-8883-63139b3b9efc')\"\n",
              "              title=\"Convert this dataframe to an interactive table.\"\n",
              "              style=\"display:none;\">\n",
              "        \n",
              "  <svg xmlns=\"http://www.w3.org/2000/svg\" height=\"24px\"viewBox=\"0 0 24 24\"\n",
              "       width=\"24px\">\n",
              "    <path d=\"M0 0h24v24H0V0z\" fill=\"none\"/>\n",
              "    <path d=\"M18.56 5.44l.94 2.06.94-2.06 2.06-.94-2.06-.94-.94-2.06-.94 2.06-2.06.94zm-11 1L8.5 8.5l.94-2.06 2.06-.94-2.06-.94L8.5 2.5l-.94 2.06-2.06.94zm10 10l.94 2.06.94-2.06 2.06-.94-2.06-.94-.94-2.06-.94 2.06-2.06.94z\"/><path d=\"M17.41 7.96l-1.37-1.37c-.4-.4-.92-.59-1.43-.59-.52 0-1.04.2-1.43.59L10.3 9.45l-7.72 7.72c-.78.78-.78 2.05 0 2.83L4 21.41c.39.39.9.59 1.41.59.51 0 1.02-.2 1.41-.59l7.78-7.78 2.81-2.81c.8-.78.8-2.07 0-2.86zM5.41 20L4 18.59l7.72-7.72 1.47 1.35L5.41 20z\"/>\n",
              "  </svg>\n",
              "      </button>\n",
              "      \n",
              "  <style>\n",
              "    .colab-df-container {\n",
              "      display:flex;\n",
              "      flex-wrap:wrap;\n",
              "      gap: 12px;\n",
              "    }\n",
              "\n",
              "    .colab-df-convert {\n",
              "      background-color: #E8F0FE;\n",
              "      border: none;\n",
              "      border-radius: 50%;\n",
              "      cursor: pointer;\n",
              "      display: none;\n",
              "      fill: #1967D2;\n",
              "      height: 32px;\n",
              "      padding: 0 0 0 0;\n",
              "      width: 32px;\n",
              "    }\n",
              "\n",
              "    .colab-df-convert:hover {\n",
              "      background-color: #E2EBFA;\n",
              "      box-shadow: 0px 1px 2px rgba(60, 64, 67, 0.3), 0px 1px 3px 1px rgba(60, 64, 67, 0.15);\n",
              "      fill: #174EA6;\n",
              "    }\n",
              "\n",
              "    [theme=dark] .colab-df-convert {\n",
              "      background-color: #3B4455;\n",
              "      fill: #D2E3FC;\n",
              "    }\n",
              "\n",
              "    [theme=dark] .colab-df-convert:hover {\n",
              "      background-color: #434B5C;\n",
              "      box-shadow: 0px 1px 3px 1px rgba(0, 0, 0, 0.15);\n",
              "      filter: drop-shadow(0px 1px 2px rgba(0, 0, 0, 0.3));\n",
              "      fill: #FFFFFF;\n",
              "    }\n",
              "  </style>\n",
              "\n",
              "      <script>\n",
              "        const buttonEl =\n",
              "          document.querySelector('#df-e2650d5f-8f43-40e1-8883-63139b3b9efc button.colab-df-convert');\n",
              "        buttonEl.style.display =\n",
              "          google.colab.kernel.accessAllowed ? 'block' : 'none';\n",
              "\n",
              "        async function convertToInteractive(key) {\n",
              "          const element = document.querySelector('#df-e2650d5f-8f43-40e1-8883-63139b3b9efc');\n",
              "          const dataTable =\n",
              "            await google.colab.kernel.invokeFunction('convertToInteractive',\n",
              "                                                     [key], {});\n",
              "          if (!dataTable) return;\n",
              "\n",
              "          const docLinkHtml = 'Like what you see? Visit the ' +\n",
              "            '<a target=\"_blank\" href=https://colab.research.google.com/notebooks/data_table.ipynb>data table notebook</a>'\n",
              "            + ' to learn more about interactive tables.';\n",
              "          element.innerHTML = '';\n",
              "          dataTable['output_type'] = 'display_data';\n",
              "          await google.colab.output.renderOutput(dataTable, element);\n",
              "          const docLink = document.createElement('div');\n",
              "          docLink.innerHTML = docLinkHtml;\n",
              "          element.appendChild(docLink);\n",
              "        }\n",
              "      </script>\n",
              "    </div>\n",
              "  </div>\n",
              "  "
            ],
            "text/plain": [
              "   id       hotel location  pricepernight\n",
              "0   1        Ideo  Bangkok             20\n",
              "1   2       Accor   London             25\n",
              "2   3     Premium    Seoul             32\n",
              "3   4  Super Star    Dubai             50\n",
              "4   5      Planet    Tokyo             22\n",
              "5   6        Joby  Bangkok             30\n",
              "6   7  JW Marriot  Bangkok             35\n",
              "7   8     Kenshin    Tokyo             20\n",
              "8   9    Eloquent   London             42\n",
              "9  10     Big Ben   London             45"
            ]
          },
          "metadata": {},
          "execution_count": 7
        }
      ]
    },
    {
      "cell_type": "code",
      "metadata": {
        "colab": {
          "base_uri": "https://localhost:8080/"
        },
        "id": "422u_231siBX",
        "outputId": "74317048-52a8-4230-bb64-cb7fc1aadd14"
      },
      "source": [
        "type(hotel)"
      ],
      "execution_count": 8,
      "outputs": [
        {
          "output_type": "execute_result",
          "data": {
            "text/plain": [
              "pandas.core.frame.DataFrame"
            ]
          },
          "metadata": {},
          "execution_count": 8
        }
      ]
    },
    {
      "cell_type": "code",
      "source": [
        "hotel.isnull()"
      ],
      "metadata": {
        "colab": {
          "base_uri": "https://localhost:8080/",
          "height": 363
        },
        "id": "bn2klDZd-cGS",
        "outputId": "3268fa83-f6e0-49e3-cbf7-bb6fb04915be"
      },
      "execution_count": 14,
      "outputs": [
        {
          "output_type": "execute_result",
          "data": {
            "text/html": [
              "\n",
              "  <div id=\"df-04040f64-a9e5-4620-a6ca-10c7ca3b560c\">\n",
              "    <div class=\"colab-df-container\">\n",
              "      <div>\n",
              "<style scoped>\n",
              "    .dataframe tbody tr th:only-of-type {\n",
              "        vertical-align: middle;\n",
              "    }\n",
              "\n",
              "    .dataframe tbody tr th {\n",
              "        vertical-align: top;\n",
              "    }\n",
              "\n",
              "    .dataframe thead th {\n",
              "        text-align: right;\n",
              "    }\n",
              "</style>\n",
              "<table border=\"1\" class=\"dataframe\">\n",
              "  <thead>\n",
              "    <tr style=\"text-align: right;\">\n",
              "      <th></th>\n",
              "      <th>id</th>\n",
              "      <th>hotel</th>\n",
              "      <th>location</th>\n",
              "      <th>pricepernight</th>\n",
              "    </tr>\n",
              "  </thead>\n",
              "  <tbody>\n",
              "    <tr>\n",
              "      <th>0</th>\n",
              "      <td>False</td>\n",
              "      <td>False</td>\n",
              "      <td>False</td>\n",
              "      <td>False</td>\n",
              "    </tr>\n",
              "    <tr>\n",
              "      <th>1</th>\n",
              "      <td>False</td>\n",
              "      <td>False</td>\n",
              "      <td>False</td>\n",
              "      <td>False</td>\n",
              "    </tr>\n",
              "    <tr>\n",
              "      <th>2</th>\n",
              "      <td>False</td>\n",
              "      <td>False</td>\n",
              "      <td>False</td>\n",
              "      <td>False</td>\n",
              "    </tr>\n",
              "    <tr>\n",
              "      <th>3</th>\n",
              "      <td>False</td>\n",
              "      <td>False</td>\n",
              "      <td>False</td>\n",
              "      <td>False</td>\n",
              "    </tr>\n",
              "    <tr>\n",
              "      <th>4</th>\n",
              "      <td>False</td>\n",
              "      <td>False</td>\n",
              "      <td>False</td>\n",
              "      <td>False</td>\n",
              "    </tr>\n",
              "    <tr>\n",
              "      <th>5</th>\n",
              "      <td>False</td>\n",
              "      <td>False</td>\n",
              "      <td>False</td>\n",
              "      <td>False</td>\n",
              "    </tr>\n",
              "    <tr>\n",
              "      <th>6</th>\n",
              "      <td>False</td>\n",
              "      <td>False</td>\n",
              "      <td>False</td>\n",
              "      <td>False</td>\n",
              "    </tr>\n",
              "    <tr>\n",
              "      <th>7</th>\n",
              "      <td>False</td>\n",
              "      <td>False</td>\n",
              "      <td>False</td>\n",
              "      <td>False</td>\n",
              "    </tr>\n",
              "    <tr>\n",
              "      <th>8</th>\n",
              "      <td>False</td>\n",
              "      <td>False</td>\n",
              "      <td>False</td>\n",
              "      <td>False</td>\n",
              "    </tr>\n",
              "    <tr>\n",
              "      <th>9</th>\n",
              "      <td>False</td>\n",
              "      <td>False</td>\n",
              "      <td>False</td>\n",
              "      <td>False</td>\n",
              "    </tr>\n",
              "  </tbody>\n",
              "</table>\n",
              "</div>\n",
              "      <button class=\"colab-df-convert\" onclick=\"convertToInteractive('df-04040f64-a9e5-4620-a6ca-10c7ca3b560c')\"\n",
              "              title=\"Convert this dataframe to an interactive table.\"\n",
              "              style=\"display:none;\">\n",
              "        \n",
              "  <svg xmlns=\"http://www.w3.org/2000/svg\" height=\"24px\"viewBox=\"0 0 24 24\"\n",
              "       width=\"24px\">\n",
              "    <path d=\"M0 0h24v24H0V0z\" fill=\"none\"/>\n",
              "    <path d=\"M18.56 5.44l.94 2.06.94-2.06 2.06-.94-2.06-.94-.94-2.06-.94 2.06-2.06.94zm-11 1L8.5 8.5l.94-2.06 2.06-.94-2.06-.94L8.5 2.5l-.94 2.06-2.06.94zm10 10l.94 2.06.94-2.06 2.06-.94-2.06-.94-.94-2.06-.94 2.06-2.06.94z\"/><path d=\"M17.41 7.96l-1.37-1.37c-.4-.4-.92-.59-1.43-.59-.52 0-1.04.2-1.43.59L10.3 9.45l-7.72 7.72c-.78.78-.78 2.05 0 2.83L4 21.41c.39.39.9.59 1.41.59.51 0 1.02-.2 1.41-.59l7.78-7.78 2.81-2.81c.8-.78.8-2.07 0-2.86zM5.41 20L4 18.59l7.72-7.72 1.47 1.35L5.41 20z\"/>\n",
              "  </svg>\n",
              "      </button>\n",
              "      \n",
              "  <style>\n",
              "    .colab-df-container {\n",
              "      display:flex;\n",
              "      flex-wrap:wrap;\n",
              "      gap: 12px;\n",
              "    }\n",
              "\n",
              "    .colab-df-convert {\n",
              "      background-color: #E8F0FE;\n",
              "      border: none;\n",
              "      border-radius: 50%;\n",
              "      cursor: pointer;\n",
              "      display: none;\n",
              "      fill: #1967D2;\n",
              "      height: 32px;\n",
              "      padding: 0 0 0 0;\n",
              "      width: 32px;\n",
              "    }\n",
              "\n",
              "    .colab-df-convert:hover {\n",
              "      background-color: #E2EBFA;\n",
              "      box-shadow: 0px 1px 2px rgba(60, 64, 67, 0.3), 0px 1px 3px 1px rgba(60, 64, 67, 0.15);\n",
              "      fill: #174EA6;\n",
              "    }\n",
              "\n",
              "    [theme=dark] .colab-df-convert {\n",
              "      background-color: #3B4455;\n",
              "      fill: #D2E3FC;\n",
              "    }\n",
              "\n",
              "    [theme=dark] .colab-df-convert:hover {\n",
              "      background-color: #434B5C;\n",
              "      box-shadow: 0px 1px 3px 1px rgba(0, 0, 0, 0.15);\n",
              "      filter: drop-shadow(0px 1px 2px rgba(0, 0, 0, 0.3));\n",
              "      fill: #FFFFFF;\n",
              "    }\n",
              "  </style>\n",
              "\n",
              "      <script>\n",
              "        const buttonEl =\n",
              "          document.querySelector('#df-04040f64-a9e5-4620-a6ca-10c7ca3b560c button.colab-df-convert');\n",
              "        buttonEl.style.display =\n",
              "          google.colab.kernel.accessAllowed ? 'block' : 'none';\n",
              "\n",
              "        async function convertToInteractive(key) {\n",
              "          const element = document.querySelector('#df-04040f64-a9e5-4620-a6ca-10c7ca3b560c');\n",
              "          const dataTable =\n",
              "            await google.colab.kernel.invokeFunction('convertToInteractive',\n",
              "                                                     [key], {});\n",
              "          if (!dataTable) return;\n",
              "\n",
              "          const docLinkHtml = 'Like what you see? Visit the ' +\n",
              "            '<a target=\"_blank\" href=https://colab.research.google.com/notebooks/data_table.ipynb>data table notebook</a>'\n",
              "            + ' to learn more about interactive tables.';\n",
              "          element.innerHTML = '';\n",
              "          dataTable['output_type'] = 'display_data';\n",
              "          await google.colab.output.renderOutput(dataTable, element);\n",
              "          const docLink = document.createElement('div');\n",
              "          docLink.innerHTML = docLinkHtml;\n",
              "          element.appendChild(docLink);\n",
              "        }\n",
              "      </script>\n",
              "    </div>\n",
              "  </div>\n",
              "  "
            ],
            "text/plain": [
              "      id  hotel  location  pricepernight\n",
              "0  False  False     False          False\n",
              "1  False  False     False          False\n",
              "2  False  False     False          False\n",
              "3  False  False     False          False\n",
              "4  False  False     False          False\n",
              "5  False  False     False          False\n",
              "6  False  False     False          False\n",
              "7  False  False     False          False\n",
              "8  False  False     False          False\n",
              "9  False  False     False          False"
            ]
          },
          "metadata": {},
          "execution_count": 14
        }
      ]
    },
    {
      "cell_type": "code",
      "metadata": {
        "colab": {
          "base_uri": "https://localhost:8080/"
        },
        "id": "WrKkjOBKsryp",
        "outputId": "4394315c-8f83-488f-a552-e6aca5e470ec"
      },
      "source": [
        "hotel.shape # attribute doesn't have ()"
      ],
      "execution_count": 11,
      "outputs": [
        {
          "output_type": "execute_result",
          "data": {
            "text/plain": [
              "(10, 4)"
            ]
          },
          "metadata": {},
          "execution_count": 11
        }
      ]
    },
    {
      "cell_type": "code",
      "metadata": {
        "colab": {
          "base_uri": "https://localhost:8080/"
        },
        "id": "JMBCfk9us2Th",
        "outputId": "929a5ee7-ed04-4faa-a15b-879338688a80"
      },
      "source": [
        "hotel.info() # function/ method have ()"
      ],
      "execution_count": 13,
      "outputs": [
        {
          "output_type": "stream",
          "name": "stdout",
          "text": [
            "<class 'pandas.core.frame.DataFrame'>\n",
            "RangeIndex: 10 entries, 0 to 9\n",
            "Data columns (total 4 columns):\n",
            " #   Column         Non-Null Count  Dtype \n",
            "---  ------         --------------  ----- \n",
            " 0   id             10 non-null     int64 \n",
            " 1   hotel          10 non-null     object\n",
            " 2   location       10 non-null     object\n",
            " 3   pricepernight  10 non-null     int64 \n",
            "dtypes: int64(2), object(2)\n",
            "memory usage: 448.0+ bytes\n"
          ]
        }
      ]
    },
    {
      "cell_type": "code",
      "metadata": {
        "id": "vLRJnc0JtDYr"
      },
      "source": [
        ""
      ],
      "execution_count": null,
      "outputs": []
    },
    {
      "cell_type": "markdown",
      "metadata": {
        "id": "mjnZ4WsruOd7"
      },
      "source": [
        "\n",
        "### API requests"
      ]
    },
    {
      "cell_type": "code",
      "source": [
        "import pandas as pd "
      ],
      "metadata": {
        "id": "Qgibu-a6Enq-"
      },
      "execution_count": 17,
      "outputs": []
    },
    {
      "cell_type": "code",
      "metadata": {
        "colab": {
          "base_uri": "https://localhost:8080/"
        },
        "id": "kxflTIocuP3N",
        "outputId": "5ee6ff71-5fd3-4fa0-8e27-a696657c6691"
      },
      "source": [
        "import requests ## library\n",
        "\n",
        "url = \"https://swapi.dev/api/people/10\" # เส้น api \n",
        "\n",
        "response = requests.get(url)\n",
        "\n",
        "response.status_code # ans 200 = success ,404 not found"
      ],
      "execution_count": 20,
      "outputs": [
        {
          "output_type": "execute_result",
          "data": {
            "text/plain": [
              "200"
            ]
          },
          "metadata": {},
          "execution_count": 20
        }
      ]
    },
    {
      "cell_type": "code",
      "source": [
        "response.content"
      ],
      "metadata": {
        "colab": {
          "base_uri": "https://localhost:8080/"
        },
        "id": "WpnP4rpLAtsk",
        "outputId": "9ac6969e-fbc2-42c4-8cef-2bbf4d2448d8"
      },
      "execution_count": 21,
      "outputs": [
        {
          "output_type": "execute_result",
          "data": {
            "text/plain": [
              "b'{\"name\":\"Obi-Wan Kenobi\",\"height\":\"182\",\"mass\":\"77\",\"hair_color\":\"auburn, white\",\"skin_color\":\"fair\",\"eye_color\":\"blue-gray\",\"birth_year\":\"57BBY\",\"gender\":\"male\",\"homeworld\":\"https://swapi.dev/api/planets/20/\",\"films\":[\"https://swapi.dev/api/films/1/\",\"https://swapi.dev/api/films/2/\",\"https://swapi.dev/api/films/3/\",\"https://swapi.dev/api/films/4/\",\"https://swapi.dev/api/films/5/\",\"https://swapi.dev/api/films/6/\"],\"species\":[],\"vehicles\":[\"https://swapi.dev/api/vehicles/38/\"],\"starships\":[\"https://swapi.dev/api/starships/48/\",\"https://swapi.dev/api/starships/59/\",\"https://swapi.dev/api/starships/64/\",\"https://swapi.dev/api/starships/65/\",\"https://swapi.dev/api/starships/74/\"],\"created\":\"2014-12-10T16:16:29.192000Z\",\"edited\":\"2014-12-20T21:17:50.325000Z\",\"url\":\"https://swapi.dev/api/people/10/\"}'"
            ]
          },
          "metadata": {},
          "execution_count": 21
        }
      ]
    },
    {
      "cell_type": "code",
      "metadata": {
        "id": "Uy88S3ExumRZ"
      },
      "source": [
        "json_response = response.json() # api = json format like dictionary in python\n"
      ],
      "execution_count": 23,
      "outputs": []
    },
    {
      "cell_type": "code",
      "metadata": {
        "colab": {
          "base_uri": "https://localhost:8080/"
        },
        "id": "beLtNY8qu9Ko",
        "outputId": "48252d39-86c3-47a8-e40f-2fd29b97c4fb"
      },
      "source": [
        "json_response"
      ],
      "execution_count": 24,
      "outputs": [
        {
          "output_type": "execute_result",
          "data": {
            "text/plain": [
              "{'birth_year': '57BBY',\n",
              " 'created': '2014-12-10T16:16:29.192000Z',\n",
              " 'edited': '2014-12-20T21:17:50.325000Z',\n",
              " 'eye_color': 'blue-gray',\n",
              " 'films': ['https://swapi.dev/api/films/1/',\n",
              "  'https://swapi.dev/api/films/2/',\n",
              "  'https://swapi.dev/api/films/3/',\n",
              "  'https://swapi.dev/api/films/4/',\n",
              "  'https://swapi.dev/api/films/5/',\n",
              "  'https://swapi.dev/api/films/6/'],\n",
              " 'gender': 'male',\n",
              " 'hair_color': 'auburn, white',\n",
              " 'height': '182',\n",
              " 'homeworld': 'https://swapi.dev/api/planets/20/',\n",
              " 'mass': '77',\n",
              " 'name': 'Obi-Wan Kenobi',\n",
              " 'skin_color': 'fair',\n",
              " 'species': [],\n",
              " 'starships': ['https://swapi.dev/api/starships/48/',\n",
              "  'https://swapi.dev/api/starships/59/',\n",
              "  'https://swapi.dev/api/starships/64/',\n",
              "  'https://swapi.dev/api/starships/65/',\n",
              "  'https://swapi.dev/api/starships/74/'],\n",
              " 'url': 'https://swapi.dev/api/people/10/',\n",
              " 'vehicles': ['https://swapi.dev/api/vehicles/38/']}"
            ]
          },
          "metadata": {},
          "execution_count": 24
        }
      ]
    },
    {
      "cell_type": "code",
      "source": [
        "json_response['name']"
      ],
      "metadata": {
        "colab": {
          "base_uri": "https://localhost:8080/",
          "height": 35
        },
        "id": "Jv7w63IEBLNX",
        "outputId": "63b7a3bd-6243-4218-cb00-9a34d8a7b5df"
      },
      "execution_count": 25,
      "outputs": [
        {
          "output_type": "execute_result",
          "data": {
            "application/vnd.google.colaboratory.intrinsic+json": {
              "type": "string"
            },
            "text/plain": [
              "'Obi-Wan Kenobi'"
            ]
          },
          "metadata": {},
          "execution_count": 25
        }
      ]
    },
    {
      "cell_type": "code",
      "source": [
        "import requests\n",
        "import time \n",
        "\n",
        "url = \"https://swapi.dev/api/people/\" \n",
        "\n",
        "for num in [1,2,3,4,5]:\n",
        "    response = requests.get(url+ str(num))\n",
        "    json_response = response.json()\n",
        "    print(json_response['name'])\n",
        "    time.sleep(2) # delay two seconds\n"
      ],
      "metadata": {
        "colab": {
          "base_uri": "https://localhost:8080/"
        },
        "id": "KFOyS34lCjwS",
        "outputId": "520c0899-aa6d-4614-b833-502ddd204418"
      },
      "execution_count": 30,
      "outputs": [
        {
          "output_type": "stream",
          "name": "stdout",
          "text": [
            "Luke Skywalker\n",
            "C-3PO\n",
            "R2-D2\n",
            "Darth Vader\n",
            "Leia Organa\n"
          ]
        }
      ]
    },
    {
      "cell_type": "code",
      "metadata": {
        "colab": {
          "base_uri": "https://localhost:8080/"
        },
        "id": "2IzvrGM6vTxy",
        "outputId": "618c4050-2c1b-406c-a709-6a1f22c1a7d0"
      },
      "source": [
        "# get people data  1-5 from starwars API\n",
        "\n",
        "import requests\n",
        "import time\n",
        "\n",
        "# base url\n",
        "url = \"https://swapi.dev/api/people/\" \n",
        "\n",
        "characters = [] # empty list\n",
        "\n",
        "for num in [3,4,5,6,10]: \n",
        "    response = requests.get(url + str(num)) #change num form int to str \n",
        "    json_response = response.json()\n",
        "    data = [\n",
        "            json_response['name'], \n",
        "            json_response['mass'],\n",
        "            json_response['skin_color'],\n",
        "            json_response['height'],\n",
        "            json_response['gender']\n",
        "        ]\n",
        "    characters.append(data) # append in empty list \n",
        "\n",
        "print(characters)"
      ],
      "execution_count": 31,
      "outputs": [
        {
          "output_type": "stream",
          "name": "stdout",
          "text": [
            "[['R2-D2', '32', 'white, blue', '96', 'n/a'], ['Darth Vader', '136', 'white', '202', 'male'], ['Leia Organa', '49', 'light', '150', 'female'], ['Owen Lars', '120', 'light', '178', 'male'], ['Obi-Wan Kenobi', '77', 'fair', '182', 'male']]\n"
          ]
        }
      ]
    },
    {
      "cell_type": "code",
      "source": [
        "characters"
      ],
      "metadata": {
        "colab": {
          "base_uri": "https://localhost:8080/"
        },
        "id": "t3f4bVZADwz8",
        "outputId": "3615e628-9fc1-4b3c-94c9-4c2d42643e75"
      },
      "execution_count": 34,
      "outputs": [
        {
          "output_type": "execute_result",
          "data": {
            "text/plain": [
              "[['R2-D2', '32', 'white, blue', '96', 'n/a'],\n",
              " ['Darth Vader', '136', 'white', '202', 'male'],\n",
              " ['Leia Organa', '49', 'light', '150', 'female'],\n",
              " ['Owen Lars', '120', 'light', '178', 'male'],\n",
              " ['Obi-Wan Kenobi', '77', 'fair', '182', 'male']]"
            ]
          },
          "metadata": {},
          "execution_count": 34
        }
      ]
    },
    {
      "cell_type": "code",
      "metadata": {
        "id": "NyeFz2MSwbQ6"
      },
      "source": [
        "import pandas as pd  # change to data frame\n",
        "\n",
        "starwars_data = pd.DataFrame(characters, columns = ['name', 'mass', 'skin','height', 'sex']) \n",
        "#columns = [ can rename columns name ]"
      ],
      "execution_count": 41,
      "outputs": []
    },
    {
      "cell_type": "code",
      "metadata": {
        "colab": {
          "base_uri": "https://localhost:8080/",
          "height": 206
        },
        "id": "nwXgita1yAhY",
        "outputId": "119ebeaa-c59e-418f-d9ee-aa6a3253f085"
      },
      "source": [
        "starwars_data"
      ],
      "execution_count": 45,
      "outputs": [
        {
          "output_type": "execute_result",
          "data": {
            "text/html": [
              "\n",
              "  <div id=\"df-5de777c9-373e-47a5-83d2-8f9fa0745429\">\n",
              "    <div class=\"colab-df-container\">\n",
              "      <div>\n",
              "<style scoped>\n",
              "    .dataframe tbody tr th:only-of-type {\n",
              "        vertical-align: middle;\n",
              "    }\n",
              "\n",
              "    .dataframe tbody tr th {\n",
              "        vertical-align: top;\n",
              "    }\n",
              "\n",
              "    .dataframe thead th {\n",
              "        text-align: right;\n",
              "    }\n",
              "</style>\n",
              "<table border=\"1\" class=\"dataframe\">\n",
              "  <thead>\n",
              "    <tr style=\"text-align: right;\">\n",
              "      <th></th>\n",
              "      <th>name</th>\n",
              "      <th>mass</th>\n",
              "      <th>skin</th>\n",
              "      <th>height</th>\n",
              "      <th>sex</th>\n",
              "    </tr>\n",
              "  </thead>\n",
              "  <tbody>\n",
              "    <tr>\n",
              "      <th>0</th>\n",
              "      <td>R2-D2</td>\n",
              "      <td>32</td>\n",
              "      <td>white, blue</td>\n",
              "      <td>96</td>\n",
              "      <td>n/a</td>\n",
              "    </tr>\n",
              "    <tr>\n",
              "      <th>1</th>\n",
              "      <td>Darth Vader</td>\n",
              "      <td>136</td>\n",
              "      <td>white</td>\n",
              "      <td>202</td>\n",
              "      <td>male</td>\n",
              "    </tr>\n",
              "    <tr>\n",
              "      <th>2</th>\n",
              "      <td>Leia Organa</td>\n",
              "      <td>49</td>\n",
              "      <td>light</td>\n",
              "      <td>150</td>\n",
              "      <td>female</td>\n",
              "    </tr>\n",
              "    <tr>\n",
              "      <th>3</th>\n",
              "      <td>Owen Lars</td>\n",
              "      <td>120</td>\n",
              "      <td>light</td>\n",
              "      <td>178</td>\n",
              "      <td>male</td>\n",
              "    </tr>\n",
              "    <tr>\n",
              "      <th>4</th>\n",
              "      <td>Obi-Wan Kenobi</td>\n",
              "      <td>77</td>\n",
              "      <td>fair</td>\n",
              "      <td>182</td>\n",
              "      <td>male</td>\n",
              "    </tr>\n",
              "  </tbody>\n",
              "</table>\n",
              "</div>\n",
              "      <button class=\"colab-df-convert\" onclick=\"convertToInteractive('df-5de777c9-373e-47a5-83d2-8f9fa0745429')\"\n",
              "              title=\"Convert this dataframe to an interactive table.\"\n",
              "              style=\"display:none;\">\n",
              "        \n",
              "  <svg xmlns=\"http://www.w3.org/2000/svg\" height=\"24px\"viewBox=\"0 0 24 24\"\n",
              "       width=\"24px\">\n",
              "    <path d=\"M0 0h24v24H0V0z\" fill=\"none\"/>\n",
              "    <path d=\"M18.56 5.44l.94 2.06.94-2.06 2.06-.94-2.06-.94-.94-2.06-.94 2.06-2.06.94zm-11 1L8.5 8.5l.94-2.06 2.06-.94-2.06-.94L8.5 2.5l-.94 2.06-2.06.94zm10 10l.94 2.06.94-2.06 2.06-.94-2.06-.94-.94-2.06-.94 2.06-2.06.94z\"/><path d=\"M17.41 7.96l-1.37-1.37c-.4-.4-.92-.59-1.43-.59-.52 0-1.04.2-1.43.59L10.3 9.45l-7.72 7.72c-.78.78-.78 2.05 0 2.83L4 21.41c.39.39.9.59 1.41.59.51 0 1.02-.2 1.41-.59l7.78-7.78 2.81-2.81c.8-.78.8-2.07 0-2.86zM5.41 20L4 18.59l7.72-7.72 1.47 1.35L5.41 20z\"/>\n",
              "  </svg>\n",
              "      </button>\n",
              "      \n",
              "  <style>\n",
              "    .colab-df-container {\n",
              "      display:flex;\n",
              "      flex-wrap:wrap;\n",
              "      gap: 12px;\n",
              "    }\n",
              "\n",
              "    .colab-df-convert {\n",
              "      background-color: #E8F0FE;\n",
              "      border: none;\n",
              "      border-radius: 50%;\n",
              "      cursor: pointer;\n",
              "      display: none;\n",
              "      fill: #1967D2;\n",
              "      height: 32px;\n",
              "      padding: 0 0 0 0;\n",
              "      width: 32px;\n",
              "    }\n",
              "\n",
              "    .colab-df-convert:hover {\n",
              "      background-color: #E2EBFA;\n",
              "      box-shadow: 0px 1px 2px rgba(60, 64, 67, 0.3), 0px 1px 3px 1px rgba(60, 64, 67, 0.15);\n",
              "      fill: #174EA6;\n",
              "    }\n",
              "\n",
              "    [theme=dark] .colab-df-convert {\n",
              "      background-color: #3B4455;\n",
              "      fill: #D2E3FC;\n",
              "    }\n",
              "\n",
              "    [theme=dark] .colab-df-convert:hover {\n",
              "      background-color: #434B5C;\n",
              "      box-shadow: 0px 1px 3px 1px rgba(0, 0, 0, 0.15);\n",
              "      filter: drop-shadow(0px 1px 2px rgba(0, 0, 0, 0.3));\n",
              "      fill: #FFFFFF;\n",
              "    }\n",
              "  </style>\n",
              "\n",
              "      <script>\n",
              "        const buttonEl =\n",
              "          document.querySelector('#df-5de777c9-373e-47a5-83d2-8f9fa0745429 button.colab-df-convert');\n",
              "        buttonEl.style.display =\n",
              "          google.colab.kernel.accessAllowed ? 'block' : 'none';\n",
              "\n",
              "        async function convertToInteractive(key) {\n",
              "          const element = document.querySelector('#df-5de777c9-373e-47a5-83d2-8f9fa0745429');\n",
              "          const dataTable =\n",
              "            await google.colab.kernel.invokeFunction('convertToInteractive',\n",
              "                                                     [key], {});\n",
              "          if (!dataTable) return;\n",
              "\n",
              "          const docLinkHtml = 'Like what you see? Visit the ' +\n",
              "            '<a target=\"_blank\" href=https://colab.research.google.com/notebooks/data_table.ipynb>data table notebook</a>'\n",
              "            + ' to learn more about interactive tables.';\n",
              "          element.innerHTML = '';\n",
              "          dataTable['output_type'] = 'display_data';\n",
              "          await google.colab.output.renderOutput(dataTable, element);\n",
              "          const docLink = document.createElement('div');\n",
              "          docLink.innerHTML = docLinkHtml;\n",
              "          element.appendChild(docLink);\n",
              "        }\n",
              "      </script>\n",
              "    </div>\n",
              "  </div>\n",
              "  "
            ],
            "text/plain": [
              "             name mass         skin height     sex\n",
              "0           R2-D2   32  white, blue     96     n/a\n",
              "1     Darth Vader  136        white    202    male\n",
              "2     Leia Organa   49        light    150  female\n",
              "3       Owen Lars  120        light    178    male\n",
              "4  Obi-Wan Kenobi   77         fair    182    male"
            ]
          },
          "metadata": {},
          "execution_count": 45
        }
      ]
    },
    {
      "cell_type": "code",
      "metadata": {
        "id": "7NGjR9IJyKvQ"
      },
      "source": [
        "# pandas\n",
        "starwars_data.to_csv(\"starwars.csv\")"
      ],
      "execution_count": 55,
      "outputs": []
    },
    {
      "cell_type": "markdown",
      "metadata": {
        "id": "5PoD9Iziyjgg"
      },
      "source": [
        "## **SQL in Python (SQLite)**"
      ]
    },
    {
      "cell_type": "code",
      "metadata": {
        "id": "S3xKMiEbylQd"
      },
      "source": [
        "import sqlite3 #standard library"
      ],
      "execution_count": 95,
      "outputs": []
    },
    {
      "cell_type": "code",
      "metadata": {
        "id": "e8oSrHgoyuxG"
      },
      "source": [
        "# create connection connect python to database  :open\n",
        "conn = sqlite3.connect(\"school_v4.db\")"
      ],
      "execution_count": 100,
      "outputs": []
    },
    {
      "cell_type": "code",
      "metadata": {
        "id": "yyCXVspky_Mo"
      },
      "source": [
        "# create a table in school database\n",
        "c = conn.cursor() # mouse run in database \n",
        "\n",
        "c.execute(\"create table students (id int, name text, gpa real)\") #(columns)\n",
        "c.execute(\"\"\"insert into students values  \n",
        "    (1, 'Nut', 3.55), \n",
        "    (2, 'Gift', 3.45), \n",
        "    (3, 'Nine', 3.69)\"\"\") #triple code = long string สามารถเคาะขึ้นใหม่ได้ \n",
        "\n",
        "# commit change to database\n",
        "conn.commit()\n",
        "\n",
        "# close connection\n",
        "conn.close()"
      ],
      "execution_count": 101,
      "outputs": []
    },
    {
      "cell_type": "code",
      "metadata": {
        "colab": {
          "base_uri": "https://localhost:8080/"
        },
        "id": "GoGtDa63z1wa",
        "outputId": "1f27b83b-4831-4474-e597-00786f4eabbc"
      },
      "source": [
        "# query data\n",
        "import sqlite3\n",
        "conn = sqlite3.connect(\"school_v4.db\")\n",
        "c = conn.cursor()\n",
        "\n",
        "# run query\n",
        "c.execute(\"select * from students\")"
      ],
      "execution_count": 102,
      "outputs": [
        {
          "output_type": "execute_result",
          "data": {
            "text/plain": [
              "<sqlite3.Cursor at 0x7f86cb23eea0>"
            ]
          },
          "metadata": {},
          "execution_count": 102
        }
      ]
    },
    {
      "cell_type": "code",
      "metadata": {
        "colab": {
          "base_uri": "https://localhost:8080/"
        },
        "id": "gL1DVfdQ2X8o",
        "outputId": "58284147-c99a-4181-a8e0-f22375f9fa27"
      },
      "source": [
        "# fetch all data from cursor\n",
        "c.fetchall()"
      ],
      "execution_count": 103,
      "outputs": [
        {
          "output_type": "execute_result",
          "data": {
            "text/plain": [
              "[(1, 'Nut', 3.55), (2, 'Gift', 3.45), (3, 'Nine', 3.69)]"
            ]
          },
          "metadata": {},
          "execution_count": 103
        }
      ]
    },
    {
      "cell_type": "code",
      "source": [
        "c.fetchone()"
      ],
      "metadata": {
        "id": "HE4W3N6EJ72A"
      },
      "execution_count": 104,
      "outputs": []
    },
    {
      "cell_type": "code",
      "metadata": {
        "id": "-AkttNtD0Zo6"
      },
      "source": [
        "conn.close()"
      ],
      "execution_count": 105,
      "outputs": []
    },
    {
      "cell_type": "markdown",
      "metadata": {
        "id": "uVxfVxBG1RVb"
      },
      "source": [
        "## **SQLite3 example**"
      ]
    },
    {
      "cell_type": "code",
      "metadata": {
        "id": "b4r19PgU1Ut7"
      },
      "source": [
        "# 1. create connection\n",
        "# 2. create cursor\n",
        "# 3. cursor execute SQL queries\n",
        "# 4. commit change\n",
        "# 5. close connection"
      ],
      "execution_count": null,
      "outputs": []
    },
    {
      "cell_type": "markdown",
      "metadata": {
        "id": "vf4Yopuw4wyJ"
      },
      "source": [
        "See variables in memory"
      ]
    },
    {
      "cell_type": "code",
      "metadata": {
        "id": "z0HOZMT44yzy"
      },
      "source": [
        "x = 10\n",
        "y = 20\n",
        "z = 30"
      ],
      "execution_count": null,
      "outputs": []
    },
    {
      "cell_type": "code",
      "metadata": {
        "colab": {
          "base_uri": "https://localhost:8080/"
        },
        "id": "uZzMLCcq40t2",
        "outputId": "9160d992-1229-4af1-e021-1615de2bf0d1"
      },
      "source": [
        "%who"
      ],
      "execution_count": null,
      "outputs": [
        {
          "output_type": "stream",
          "name": "stdout",
          "text": [
            "Dog\t c\t char\t characters\t check_un_pw\t condition\t conn\t count_a\t customer\t \n",
            "customers\t data\t first_dog\t friend\t friends\t fruits\t gpa\t grade\t grading\t \n",
            "greeting\t honor\t hotel\t joey\t json_response\t key\t list_of_words\t liverpool_score\t my_age\t \n",
            "my_dog\t my_name\t name\t num\t pandas\t pd\t requests\t response\t result\t \n",
            "score\t second_dog\t sqlite3\t starwars\t text\t time\t url\t user_age\t user_guess\t \n",
            "username\t value\t w\t x\t y\t z\t \n"
          ]
        }
      ]
    },
    {
      "cell_type": "code",
      "metadata": {
        "id": "GSyC0x5541tB"
      },
      "source": [
        ""
      ],
      "execution_count": null,
      "outputs": []
    },
    {
      "cell_type": "markdown",
      "source": [
        ""
      ],
      "metadata": {
        "id": "w2tzChBcLHnD"
      }
    },
    {
      "cell_type": "markdown",
      "source": [
        ""
      ],
      "metadata": {
        "id": "g4nLnbnMLHl5"
      }
    }
  ]
}