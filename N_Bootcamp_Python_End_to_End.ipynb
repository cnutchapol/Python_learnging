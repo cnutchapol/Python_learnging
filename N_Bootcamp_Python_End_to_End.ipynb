{
  "nbformat": 4,
  "nbformat_minor": 0,
  "metadata": {
    "colab": {
      "name": "N_Bootcamp_Python_End-to-End",
      "provenance": [],
      "collapsed_sections": [
        "7OBM5c8tzJAp"
      ],
      "authorship_tag": "ABX9TyPuwXPfX7om0VHr9ko+iwvh",
      "include_colab_link": true
    },
    "kernelspec": {
      "name": "python3",
      "display_name": "Python 3"
    },
    "language_info": {
      "name": "python"
    }
  },
  "cells": [
    {
      "cell_type": "markdown",
      "metadata": {
        "id": "view-in-github",
        "colab_type": "text"
      },
      "source": [
        "<a href=\"https://colab.research.google.com/github/cnutchapol/Python_learning/blob/main/N_Bootcamp_Python_End_to_End.ipynb\" target=\"_parent\"><img src=\"https://colab.research.google.com/assets/colab-badge.svg\" alt=\"Open In Colab\"/></a>"
      ]
    },
    {
      "cell_type": "markdown",
      "source": [
        "### Topics\n",
        "- basic calculation\n",
        "- variables\n",
        "- type hints\n",
        "- string methods\n",
        "- data structures : list tuple dictionary\n",
        "- control flow, try catch syntax\n",
        "- function\n",
        "- OOP\n",
        "- import modules\n",
        "- csv example\n",
        "- a little bit of numpy and pandas\n",
        "- intro to sklearn basics/ machine learning\n",
        "- glimpse fo tensorflow\n"
      ],
      "metadata": {
        "id": "7OBM5c8tzJAp"
      }
    },
    {
      "cell_type": "code",
      "source": [
        "# calculation \n",
        "print(1+1)\n",
        "print(8-4)\n",
        "print(2*2)\n",
        "print(5 /2)\n",
        "print(5**2)"
      ],
      "metadata": {
        "colab": {
          "base_uri": "https://localhost:8080/"
        },
        "id": "RuVSFbUyzvAJ",
        "outputId": "bfa39baa-e912-4775-ec6a-0d83fecbbbce"
      },
      "execution_count": null,
      "outputs": [
        {
          "output_type": "stream",
          "name": "stdout",
          "text": [
            "2\n",
            "4\n",
            "4\n",
            "2.5\n",
            "25\n"
          ]
        }
      ]
    },
    {
      "cell_type": "code",
      "source": [
        "# variable can use \"\" '' both \n",
        "my_name = \"Nut\"\n",
        "my_school = 'Thammasath University'\n",
        "print(my_name)"
      ],
      "metadata": {
        "colab": {
          "base_uri": "https://localhost:8080/"
        },
        "id": "JAkXSqHDz0ph",
        "outputId": "3dae973d-f182-4889-9371-5364a795f135"
      },
      "execution_count": null,
      "outputs": [
        {
          "output_type": "stream",
          "name": "stdout",
          "text": [
            "Nut\n"
          ]
        }
      ]
    },
    {
      "cell_type": "code",
      "source": [
        "print(\"I'm learning python\") # if in text have ', use \"\" "
      ],
      "metadata": {
        "colab": {
          "base_uri": "https://localhost:8080/"
        },
        "id": "xvbuQl7q01So",
        "outputId": "43842c3e-2e0f-4fae-81ba-70136a6c67bb"
      },
      "execution_count": null,
      "outputs": [
        {
          "output_type": "stream",
          "name": "stdout",
          "text": [
            "I'm learning python\n"
          ]
        }
      ]
    },
    {
      "cell_type": "code",
      "source": [
        "## long string \"\"\"\"\n",
        "long_quote = \"\"\"This is a very long quote\n",
        "I am learning Python\n",
        "The Zen of Python\"\"\"\n",
        "print(long_quote)"
      ],
      "metadata": {
        "colab": {
          "base_uri": "https://localhost:8080/"
        },
        "id": "JvUODNa61BuB",
        "outputId": "6d7592ae-4e1f-4000-f8a4-fa05fa8ec762"
      },
      "execution_count": null,
      "outputs": [
        {
          "output_type": "stream",
          "name": "stdout",
          "text": [
            "This is a very long quote\n",
            "I am learning Python\n",
            "The Zen of Python\n"
          ]
        }
      ]
    },
    {
      "cell_type": "code",
      "source": [
        "# data types\n",
        "# int, float, str, boolean\n",
        "my_name = \"Nut\"\n",
        "age = 21\n",
        "income = 70000.5\n",
        "movie_lover = True # False"
      ],
      "metadata": {
        "id": "8znrTmQJ1XID"
      },
      "execution_count": null,
      "outputs": []
    },
    {
      "cell_type": "code",
      "source": [
        "print(type(my_name))\n",
        "print(type(age))\n",
        "print(type(income))\n",
        "print(type(movie_lover))"
      ],
      "metadata": {
        "colab": {
          "base_uri": "https://localhost:8080/"
        },
        "id": "2wrZmSxZ19qz",
        "outputId": "777c17a1-e778-4ecb-851d-e4787c047d75"
      },
      "execution_count": null,
      "outputs": [
        {
          "output_type": "stream",
          "name": "stdout",
          "text": [
            "<class 'str'>\n",
            "<class 'int'>\n",
            "<class 'float'>\n",
            "<class 'bool'>\n"
          ]
        }
      ]
    },
    {
      "cell_type": "code",
      "source": [
        "# check type\n",
        "print(isinstance(my_name, str))\n",
        "print(isinstance(age, int))\n",
        "print(isinstance(income, float))\n",
        "print(isinstance(movie_lover, bool))\n"
      ],
      "metadata": {
        "colab": {
          "base_uri": "https://localhost:8080/"
        },
        "id": "lQQD_Glg2D5o",
        "outputId": "ff10b61a-29f9-404f-d1bc-84afd9583f07"
      },
      "execution_count": null,
      "outputs": [
        {
          "output_type": "stream",
          "name": "stdout",
          "text": [
            "True\n",
            "True\n",
            "True\n",
            "True\n"
          ]
        }
      ]
    },
    {
      "cell_type": "code",
      "source": [
        "# print fsting template \n",
        "my_name = \"Nut\"\n",
        "my_age = 21\n",
        "print(f\"Hello my name is {my_name} and I'm {my_age} years old. \" )\n",
        "#old way .format()\n",
        "print(\"Hello my name is {} and I'm {} years old.\".format(my_name,my_age))"
      ],
      "metadata": {
        "colab": {
          "base_uri": "https://localhost:8080/"
        },
        "id": "DVqjY1m72o-B",
        "outputId": "4b859a9a-3b94-4190-c96f-291f8eac8793"
      },
      "execution_count": null,
      "outputs": [
        {
          "output_type": "stream",
          "name": "stdout",
          "text": [
            "Hello my name is Nut and I'm 21 years old. \n",
            "Hello my name is Nut and I'm 21 years old.\n"
          ]
        }
      ]
    },
    {
      "cell_type": "code",
      "source": [
        "# string + string \n",
        "text = 'Hello' + 'World'\n",
        "print(text)\n",
        "print('Hello '*5)\n"
      ],
      "metadata": {
        "colab": {
          "base_uri": "https://localhost:8080/"
        },
        "id": "JjjS_F7M3ZYp",
        "outputId": "3895b9c9-1767-4969-f2e3-23fbefebbe3d"
      },
      "execution_count": null,
      "outputs": [
        {
          "output_type": "stream",
          "name": "stdout",
          "text": [
            "HelloWorld\n",
            "Hello Hello Hello Hello Hello \n"
          ]
        }
      ]
    },
    {
      "cell_type": "code",
      "source": [
        "# typer hints- just hints don't enforced\n",
        "# dynamic typed\n",
        "my_name : str = 'nut'\n",
        "my_age : int = 21"
      ],
      "metadata": {
        "id": "oOS7VIh7-3yU"
      },
      "execution_count": null,
      "outputs": []
    },
    {
      "cell_type": "code",
      "source": [
        "# defin function\n",
        "def hello(name: str) -> None :\n",
        "    print(f\"hello {name}!\")\n",
        "\n",
        "# test function\n",
        "hello(name = 'Nut') # hello('Nut')\n",
        "\n"
      ],
      "metadata": {
        "colab": {
          "base_uri": "https://localhost:8080/"
        },
        "id": "fFtJQIRrAVfE",
        "outputId": "3d03e053-dd9e-473e-cfea-3d2b61126d57"
      },
      "execution_count": null,
      "outputs": [
        {
          "output_type": "stream",
          "name": "stdout",
          "text": [
            "hello Nut!\n"
          ]
        }
      ]
    },
    {
      "cell_type": "code",
      "source": [
        "def sum_two_num(a: int,b: int) -> int :\n",
        "    assert isinstance(a, int), \" a should be interger\"    #check condition \n",
        "    assert isinstance(b, int), \" b should be interger\"   #if a and b is not interger, it return error\n",
        "    return a+b\n",
        "result = sum_two_num(10,15) \n",
        "print(result)"
      ],
      "metadata": {
        "colab": {
          "base_uri": "https://localhost:8080/"
        },
        "id": "_trMuUcpByFn",
        "outputId": "a19636a2-1d79-4108-9500-5611bee1d47f"
      },
      "execution_count": null,
      "outputs": [
        {
          "output_type": "stream",
          "name": "stdout",
          "text": [
            "25\n"
          ]
        }
      ]
    },
    {
      "cell_type": "markdown",
      "source": [
        "### String Methods"
      ],
      "metadata": {
        "id": "rz4wZioHFSlM"
      }
    },
    {
      "cell_type": "code",
      "source": [
        "text = \"a duck walks into a bar\"\n",
        "print(text)\n",
        "print(len(text))"
      ],
      "metadata": {
        "colab": {
          "base_uri": "https://localhost:8080/"
        },
        "id": "5JAWKyQFFVRJ",
        "outputId": "7c458054-fbae-46c0-e37c-beb3772cbcb8"
      },
      "execution_count": 2,
      "outputs": [
        {
          "output_type": "stream",
          "name": "stdout",
          "text": [
            "a duck walks into a bar\n",
            "23\n"
          ]
        }
      ]
    },
    {
      "cell_type": "code",
      "source": [
        "text.upper()"
      ],
      "metadata": {
        "colab": {
          "base_uri": "https://localhost:8080/",
          "height": 35
        },
        "id": "ZqAAIqHUF5n2",
        "outputId": "f2d50f55-5e82-436b-c2c3-a5be9f9ccaf2"
      },
      "execution_count": null,
      "outputs": [
        {
          "output_type": "execute_result",
          "data": {
            "application/vnd.google.colaboratory.intrinsic+json": {
              "type": "string"
            },
            "text/plain": [
              "'A DUCK WALKS INTO A BAR'"
            ]
          },
          "metadata": {},
          "execution_count": 47
        }
      ]
    },
    {
      "cell_type": "code",
      "source": [
        "text.split(\" \") #extract in List. in(\"\" = white space)"
      ],
      "metadata": {
        "colab": {
          "base_uri": "https://localhost:8080/"
        },
        "id": "JzRRJMY_GR5d",
        "outputId": "e82aadfa-de5e-4a26-86a2-a23d45c3d601"
      },
      "execution_count": 3,
      "outputs": [
        {
          "output_type": "execute_result",
          "data": {
            "text/plain": [
              "['a', 'duck', 'walks', 'into', 'a', 'bar']"
            ]
          },
          "metadata": {},
          "execution_count": 3
        }
      ]
    },
    {
      "cell_type": "code",
      "source": [
        "text.replace(\"duck\",\"lion\") #just print not replace \n",
        "#if want assign in variable , want to replace lion replace duck \n",
        "text = text.replace(\"duck\",\"lion\")"
      ],
      "metadata": {
        "id": "T3DFRkVUGdoa"
      },
      "execution_count": 5,
      "outputs": []
    },
    {
      "cell_type": "code",
      "source": [
        "text"
      ],
      "metadata": {
        "colab": {
          "base_uri": "https://localhost:8080/",
          "height": 35
        },
        "id": "ljqRcwCyGvds",
        "outputId": "e1f70b1e-3821-4ea3-8c03-2706f69bfa1a"
      },
      "execution_count": null,
      "outputs": [
        {
          "output_type": "execute_result",
          "data": {
            "application/vnd.google.colaboratory.intrinsic+json": {
              "type": "string"
            },
            "text/plain": [
              "'a lion walks into a bar'"
            ]
          },
          "metadata": {},
          "execution_count": 52
        }
      ]
    },
    {
      "cell_type": "code",
      "source": [
        "# python index start with 0 / subset string \n",
        "print(text[0])\n",
        "print(text[0:4]) #0 1 2 3  not include 4 \n",
        "print(text[-1]) # at the end\n",
        "print(text[-2])\n",
        "print(text[2:6])\n",
        "print(text[7:12])\n",
        "print(text[13: ]) #after : เว้นว่าง = จนจบ"
      ],
      "metadata": {
        "colab": {
          "base_uri": "https://localhost:8080/"
        },
        "id": "SX_lvK04G3U0",
        "outputId": "8eceab9a-a440-40db-d10c-647dc431e631"
      },
      "execution_count": 8,
      "outputs": [
        {
          "output_type": "stream",
          "name": "stdout",
          "text": [
            "a\n",
            "a li\n",
            "r\n",
            "a\n",
            "lion\n",
            "walks\n",
            "into a bar\n"
          ]
        }
      ]
    },
    {
      "cell_type": "code",
      "source": [
        "print(text)\n",
        "print(text[0: :2]) #start:stop:step"
      ],
      "metadata": {
        "id": "sfaRKdoLHQJf",
        "colab": {
          "base_uri": "https://localhost:8080/"
        },
        "outputId": "8d9685b6-3e1f-461c-ee90-dc37db238c6e"
      },
      "execution_count": 10,
      "outputs": [
        {
          "output_type": "stream",
          "name": "stdout",
          "text": [
            "a lion walks into a bar\n",
            "alo ak noabr\n"
          ]
        }
      ]
    },
    {
      "cell_type": "code",
      "source": [
        "#string is immutable\n",
        "text = \"I love hotdog\"\n",
        "#text = text.replace('hotdog','hamburger')\n"
      ],
      "metadata": {
        "id": "UuMlboBqDcFW"
      },
      "execution_count": 11,
      "outputs": []
    },
    {
      "cell_type": "code",
      "source": [
        " text2 = 'He' + text[1:]\n",
        " print(text2)"
      ],
      "metadata": {
        "colab": {
          "base_uri": "https://localhost:8080/"
        },
        "id": "QFWE_aBZEC0o",
        "outputId": "591a3cb4-223c-4a89-b0c4-f585ba3da0f1"
      },
      "execution_count": 14,
      "outputs": [
        {
          "output_type": "stream",
          "name": "stdout",
          "text": [
            "He love hotdog\n"
          ]
        }
      ]
    },
    {
      "cell_type": "code",
      "source": [
        ""
      ],
      "metadata": {
        "id": "qaCsfFTsEUyc"
      },
      "execution_count": null,
      "outputs": []
    },
    {
      "cell_type": "markdown",
      "source": [
        "### Data Structue \n",
        "- list \n",
        "- tuple \n",
        "- dictionary "
      ],
      "metadata": {
        "id": "zXYHDngVGLB5"
      }
    },
    {
      "cell_type": "code",
      "source": [
        "# list []\n",
        "shopping_list = ['eggs','milk','bread']\n",
        "print(shopping_list)"
      ],
      "metadata": {
        "colab": {
          "base_uri": "https://localhost:8080/"
        },
        "id": "YZf9xudeGUAf",
        "outputId": "4a19a197-e9d5-4135-c060-acaf7284db9e"
      },
      "execution_count": 16,
      "outputs": [
        {
          "output_type": "stream",
          "name": "stdout",
          "text": [
            "['eggs', 'milk', 'bread']\n"
          ]
        }
      ]
    },
    {
      "cell_type": "code",
      "source": [
        "# update list ( mutable object )\n",
        "shopping_list[0] = 'carrot'\n",
        "print(shopping_list)"
      ],
      "metadata": {
        "colab": {
          "base_uri": "https://localhost:8080/"
        },
        "id": "MCOkz0NHGeY-",
        "outputId": "af384e9a-f2b9-4d71-d725-38ea510b0ed5"
      },
      "execution_count": 17,
      "outputs": [
        {
          "output_type": "stream",
          "name": "stdout",
          "text": [
            "['carrot', 'milk', 'bread']\n"
          ]
        }
      ]
    },
    {
      "cell_type": "code",
      "source": [
        "another_shopping_list = ['sugar','salt']\n",
        "total_shopping_list = shopping_list + another_shopping_list\n",
        "print(total_shopping_list)"
      ],
      "metadata": {
        "colab": {
          "base_uri": "https://localhost:8080/"
        },
        "id": "zGnm_dWkG3n_",
        "outputId": "eb92f630-e0d9-4aea-bebd-56595d789e74"
      },
      "execution_count": 18,
      "outputs": [
        {
          "output_type": "stream",
          "name": "stdout",
          "text": [
            "['carrot', 'milk', 'bread', 'sugar', 'salt']\n"
          ]
        }
      ]
    },
    {
      "cell_type": "code",
      "source": [
        "# type hints : list\n",
        "from typing import List\n",
        "friends : List[str] = ['gift','grape','nine','ploy','sugus']\n",
        "salary : List[int] = [400,333,5342,543,222,960]\n",
        "print(friends )\n",
        "print(salary)"
      ],
      "metadata": {
        "colab": {
          "base_uri": "https://localhost:8080/"
        },
        "id": "Wa7gdzPgHPdg",
        "outputId": "dfdbe03c-30d1-4b08-fa5a-56d3f978f438"
      },
      "execution_count": 23,
      "outputs": [
        {
          "output_type": "stream",
          "name": "stdout",
          "text": [
            "['gift', 'grape', 'nine', 'ploy', 'sugus']\n",
            "[400, 333, 5342, 543, 222, 960]\n"
          ]
        }
      ]
    },
    {
      "cell_type": "code",
      "source": [
        "## method vs. fuction \n",
        "# list methods \n",
        "shopping_list.append('sugar')\n",
        "print(shopping_list)"
      ],
      "metadata": {
        "colab": {
          "base_uri": "https://localhost:8080/"
        },
        "id": "nB83p66oHqdE",
        "outputId": "ed06fc94-4d37-4f6b-ed12-cb7a0d7455f3"
      },
      "execution_count": 24,
      "outputs": [
        {
          "output_type": "stream",
          "name": "stdout",
          "text": [
            "['carrot', 'milk', 'bread', 'sugar']\n"
          ]
        }
      ]
    },
    {
      "cell_type": "code",
      "source": [
        "shopping_list.append('chocolate milk')\n",
        "print(shopping_list)"
      ],
      "metadata": {
        "colab": {
          "base_uri": "https://localhost:8080/"
        },
        "id": "bGuxgFS1Invx",
        "outputId": "80f66eb7-2f53-4ec9-d73e-9b8f7b836d1a"
      },
      "execution_count": 25,
      "outputs": [
        {
          "output_type": "stream",
          "name": "stdout",
          "text": [
            "['carrot', 'milk', 'bread', 'sugar', 'chocolate milk']\n"
          ]
        }
      ]
    },
    {
      "cell_type": "code",
      "source": [
        "shopping_list.insert(1,'tomato')\n",
        "print(shopping_list)"
      ],
      "metadata": {
        "colab": {
          "base_uri": "https://localhost:8080/"
        },
        "id": "B7ViaXx0It1f",
        "outputId": "15c21a1d-5aee-4768-da26-1708fce52fd5"
      },
      "execution_count": 27,
      "outputs": [
        {
          "output_type": "stream",
          "name": "stdout",
          "text": [
            "['carrot', 'tomato', 'carrot', 'milk', 'bread', 'sugar', 'chocolate milk']\n"
          ]
        }
      ]
    },
    {
      "cell_type": "code",
      "source": [
        "shopping_list.remove('carrot')\n",
        "print(shopping_list)"
      ],
      "metadata": {
        "colab": {
          "base_uri": "https://localhost:8080/"
        },
        "id": "3iU11XE5I6Cd",
        "outputId": "3a7fd3de-8072-4d87-c764-87806b0e223c"
      },
      "execution_count": 36,
      "outputs": [
        {
          "output_type": "stream",
          "name": "stdout",
          "text": [
            "['carrot', 'tomato', 'milk', 'bread', 'sugar', 'chocolate milk']\n"
          ]
        }
      ]
    },
    {
      "cell_type": "code",
      "source": [
        "print(shopping_list)"
      ],
      "metadata": {
        "colab": {
          "base_uri": "https://localhost:8080/"
        },
        "id": "ZAaEK7F9JONG",
        "outputId": "f4b16a92-24c3-4f0a-b3cf-747f8e18882f"
      },
      "execution_count": 37,
      "outputs": [
        {
          "output_type": "stream",
          "name": "stdout",
          "text": [
            "['carrot', 'tomato', 'milk', 'bread', 'sugar', 'chocolate milk']\n"
          ]
        }
      ]
    },
    {
      "cell_type": "code",
      "source": [
        "#tuple - immutable - ordered \n",
        "username = ('nutchapolc','chaiyanon','curiousman')\n",
        "username[0]\n",
        "type(username)"
      ],
      "metadata": {
        "colab": {
          "base_uri": "https://localhost:8080/"
        },
        "id": "i9-YIDaqMgqh",
        "outputId": "50a85d2e-d793-48ed-c2a9-ace8f75936ec"
      },
      "execution_count": 4,
      "outputs": [
        {
          "output_type": "execute_result",
          "data": {
            "text/plain": [
              "tuple"
            ]
          },
          "metadata": {},
          "execution_count": 4
        }
      ]
    },
    {
      "cell_type": "code",
      "source": [
        "## tuple assignment multiple assingment \n",
        "username1, username2,username3 =  username \n",
        "print(username1)\n",
        "print(username2)\n",
        "print(username3)"
      ],
      "metadata": {
        "colab": {
          "base_uri": "https://localhost:8080/"
        },
        "id": "IPxrVkuxM3JX",
        "outputId": "e87e9da9-89f5-409c-a571-cabae0a2c6bb"
      },
      "execution_count": 7,
      "outputs": [
        {
          "output_type": "stream",
          "name": "stdout",
          "text": [
            "nutchapolc\n",
            "chaiyanon\n",
            "curiousman\n"
          ]
        }
      ]
    },
    {
      "cell_type": "code",
      "source": [
        "## dictionary - mutable, unordered.  / similar to Json\n",
        "# key-value pair\n",
        "\n",
        "customer ={\n",
        "    \"name\": \"David\", \n",
        "    \"age\":32,\n",
        "    \"city\":\"London\",\n",
        "    \"fav_movies\": [\"Dark night\", \"Avengers\",\"Iron man\"]\n",
        "    } \n",
        "    #{key:value}\n",
        "print(customer)"
      ],
      "metadata": {
        "colab": {
          "base_uri": "https://localhost:8080/"
        },
        "id": "FkooS0HuNpUs",
        "outputId": "881d2a0c-0e83-4347-b033-39e1572e8cb7"
      },
      "execution_count": 10,
      "outputs": [
        {
          "output_type": "stream",
          "name": "stdout",
          "text": [
            "{'name': 'David', 'age': 32, 'city': 'London', 'fav_movies': ['Dark night', 'Avengers', 'Iron man']}\n"
          ]
        }
      ]
    },
    {
      "cell_type": "code",
      "source": [
        "#subset data \n",
        "print(customer[\"name\"])\n",
        "print(customer[\"fav_movies\"][0])"
      ],
      "metadata": {
        "colab": {
          "base_uri": "https://localhost:8080/"
        },
        "id": "hUZ57ZTQOhYj",
        "outputId": "ffd8ca35-e4d7-49c2-e578-9dbbf14347e6"
      },
      "execution_count": 17,
      "outputs": [
        {
          "output_type": "stream",
          "name": "stdout",
          "text": [
            "David\n",
            "Dark night\n"
          ]
        }
      ]
    },
    {
      "cell_type": "code",
      "source": [
        "# list of dictionary \n",
        "list_customer = [ \n",
        "    {\n",
        "        \"name\": \"David\", \n",
        "        \"age\":32,\n",
        "        \"city\":\"London\",\n",
        "        \"fav_movies\": [\"Dark night\", \"Avengers\",\"Iron man\"]\n",
        "    } ,\n",
        "    {\n",
        "        \"name\": \"Dash\", \n",
        "        \"age\":35,\n",
        "        \"city\":\"Paris\",\n",
        "        \"fav_movies\": [\"Barbie\", \"Amily in paris\",\"Iron man3\"]\n",
        "    } ,\n",
        "    {\n",
        "        \"name\": \"tomsam\", \n",
        "        \"age\":21,\n",
        "        \"city\":\"bangkok\",\n",
        "        \"gender\":\"Female\", \n",
        "        \"fav_movies\": [\"425 degree \", \"sing2\"]\n",
        "    } \n",
        "]\n"
      ],
      "metadata": {
        "id": "F7rIwTZCPH1A"
      },
      "execution_count": 22,
      "outputs": []
    },
    {
      "cell_type": "code",
      "source": [
        "list_customer"
      ],
      "metadata": {
        "colab": {
          "base_uri": "https://localhost:8080/"
        },
        "id": "wGw2sHccQOee",
        "outputId": "94a9ea0d-6bb8-4769-f701-ba20d53e3b0e"
      },
      "execution_count": 23,
      "outputs": [
        {
          "output_type": "execute_result",
          "data": {
            "text/plain": [
              "[{'age': 32,\n",
              "  'city': 'London',\n",
              "  'fav_movies': ['Dark night', 'Avengers', 'Iron man'],\n",
              "  'name': 'David'},\n",
              " {'age': 35,\n",
              "  'city': 'Paris',\n",
              "  'fav_movies': ['Barbie', 'Amily in paris', 'Iron man3'],\n",
              "  'name': 'Dash'},\n",
              " {'age': 21,\n",
              "  'city': 'bangkok',\n",
              "  'fav_movies': ['425 degree ', 'sing2'],\n",
              "  'gender': 'Female',\n",
              "  'name': 'tomsam'}]"
            ]
          },
          "metadata": {},
          "execution_count": 23
        }
      ]
    },
    {
      "cell_type": "code",
      "source": [
        "list_customer[2]['name']"
      ],
      "metadata": {
        "colab": {
          "base_uri": "https://localhost:8080/",
          "height": 35
        },
        "id": "D7MjbZOFRBqi",
        "outputId": "15562d76-2bb7-4cc5-e8b5-7a0d6cc3c50d"
      },
      "execution_count": 28,
      "outputs": [
        {
          "output_type": "execute_result",
          "data": {
            "application/vnd.google.colaboratory.intrinsic+json": {
              "type": "string"
            },
            "text/plain": [
              "'tomsam'"
            ]
          },
          "metadata": {},
          "execution_count": 28
        }
      ]
    },
    {
      "cell_type": "code",
      "source": [
        "list_customer[1][\"fav_movies\"][2]"
      ],
      "metadata": {
        "colab": {
          "base_uri": "https://localhost:8080/",
          "height": 35
        },
        "id": "3U7-NUAaRJxb",
        "outputId": "d03b7e28-6d74-4290-dad1-58858cc80f3a"
      },
      "execution_count": 30,
      "outputs": [
        {
          "output_type": "execute_result",
          "data": {
            "application/vnd.google.colaboratory.intrinsic+json": {
              "type": "string"
            },
            "text/plain": [
              "'Iron man3'"
            ]
          },
          "metadata": {},
          "execution_count": 30
        }
      ]
    },
    {
      "cell_type": "code",
      "source": [
        "customer ={\n",
        "    \"name\": \"David\", \n",
        "    \"age\":32,\n",
        "    \"city\":\"London\",\n",
        "    \"fav_movies\": [\"Dark night\", \"Avengers\",\"Iron man\"]\n",
        "    } \n"
      ],
      "metadata": {
        "id": "mTSfdQhuRaMu"
      },
      "execution_count": 31,
      "outputs": []
    },
    {
      "cell_type": "code",
      "source": [
        "list(customer.keys())"
      ],
      "metadata": {
        "colab": {
          "base_uri": "https://localhost:8080/"
        },
        "id": "WQyMZcSiSddd",
        "outputId": "b621979d-cbc2-4717-8f4d-ac182c736e95"
      },
      "execution_count": 33,
      "outputs": [
        {
          "output_type": "execute_result",
          "data": {
            "text/plain": [
              "['name', 'age', 'city', 'fav_movies']"
            ]
          },
          "metadata": {},
          "execution_count": 33
        }
      ]
    },
    {
      "cell_type": "code",
      "source": [
        "list(customer.values())"
      ],
      "metadata": {
        "colab": {
          "base_uri": "https://localhost:8080/"
        },
        "id": "82c4DYUeSi_D",
        "outputId": "f0d8dcdb-5510-462e-d2eb-aa811748149a"
      },
      "execution_count": 35,
      "outputs": [
        {
          "output_type": "execute_result",
          "data": {
            "text/plain": [
              "['David', 32, 'London', ['Dark night', 'Avengers', 'Iron man']]"
            ]
          },
          "metadata": {},
          "execution_count": 35
        }
      ]
    },
    {
      "cell_type": "code",
      "source": [
        "customer.get('city')"
      ],
      "metadata": {
        "colab": {
          "base_uri": "https://localhost:8080/",
          "height": 35
        },
        "id": "mU-ZuO8KSrBI",
        "outputId": "0824eef3-cde9-4ad1-9a36-4a9b56b36e8b"
      },
      "execution_count": 37,
      "outputs": [
        {
          "output_type": "execute_result",
          "data": {
            "application/vnd.google.colaboratory.intrinsic+json": {
              "type": "string"
            },
            "text/plain": [
              "'London'"
            ]
          },
          "metadata": {},
          "execution_count": 37
        }
      ]
    },
    {
      "cell_type": "code",
      "source": [
        "customer.get('cities') # if it's wrong it isn't return anything"
      ],
      "metadata": {
        "id": "h0WndCmMSx7U"
      },
      "execution_count": 40,
      "outputs": []
    },
    {
      "cell_type": "markdown",
      "source": [
        "## control flow \n",
        "\n",
        "- if \n",
        "- for \n",
        "- while \n",
        "- try catch "
      ],
      "metadata": {
        "id": "ISAN-HTvTuyu"
      }
    },
    {
      "cell_type": "code",
      "source": [
        "## if 1:30\n",
        "s"
      ],
      "metadata": {
        "id": "rJg2M7boUOBk"
      },
      "execution_count": null,
      "outputs": []
    }
  ]
}