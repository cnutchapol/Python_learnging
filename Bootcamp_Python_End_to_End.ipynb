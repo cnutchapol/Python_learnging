{
  "nbformat": 4,
  "nbformat_minor": 0,
  "metadata": {
    "colab": {
      "name": "Bootcamp_Python_End-to-End",
      "provenance": [],
      "collapsed_sections": [],
      "authorship_tag": "ABX9TyNK/LeTTIHDCOfYBvild6wH",
      "include_colab_link": true
    },
    "kernelspec": {
      "name": "python3",
      "display_name": "Python 3"
    },
    "language_info": {
      "name": "python"
    }
  },
  "cells": [
    {
      "cell_type": "markdown",
      "metadata": {
        "id": "view-in-github",
        "colab_type": "text"
      },
      "source": [
        "<a href=\"https://colab.research.google.com/github/cnutchapol/Python_learning/blob/main/Bootcamp_Python_End_to_End.ipynb\" target=\"_parent\"><img src=\"https://colab.research.google.com/assets/colab-badge.svg\" alt=\"Open In Colab\"/></a>"
      ]
    },
    {
      "cell_type": "markdown",
      "source": [
        "### Topics\n",
        "- basic calculation\n",
        "- variables\n",
        "- type hints\n",
        "- string methods\n",
        "- data structures : list tuple dictionary\n",
        "- control flow, try catch syntax\n",
        "- function\n",
        "- OOP\n",
        "- import modules\n",
        "- csv example\n",
        "- a little bit of numpy and pandas\n",
        "- intro to sklearn basics/ machine learning\n",
        "- glimpse fo tensorflow\n"
      ],
      "metadata": {
        "id": "7OBM5c8tzJAp"
      }
    },
    {
      "cell_type": "code",
      "source": [
        "# calculation \n",
        "print(1+1)\n",
        "print(8-4)\n",
        "print(2*2)\n",
        "print(5 /2)\n",
        "print(5**2)"
      ],
      "metadata": {
        "colab": {
          "base_uri": "https://localhost:8080/"
        },
        "id": "RuVSFbUyzvAJ",
        "outputId": "bfa39baa-e912-4775-ec6a-0d83fecbbbce"
      },
      "execution_count": 6,
      "outputs": [
        {
          "output_type": "stream",
          "name": "stdout",
          "text": [
            "2\n",
            "4\n",
            "4\n",
            "2.5\n",
            "25\n"
          ]
        }
      ]
    },
    {
      "cell_type": "code",
      "source": [
        "# variable can use \"\" '' both \n",
        "my_name = \"Nut\"\n",
        "my_school = 'Thammasath University'\n",
        "print(my_name)"
      ],
      "metadata": {
        "colab": {
          "base_uri": "https://localhost:8080/"
        },
        "id": "JAkXSqHDz0ph",
        "outputId": "3dae973d-f182-4889-9371-5364a795f135"
      },
      "execution_count": 8,
      "outputs": [
        {
          "output_type": "stream",
          "name": "stdout",
          "text": [
            "Nut\n"
          ]
        }
      ]
    },
    {
      "cell_type": "code",
      "source": [
        "print(\"I'm learning python\") # if in text have ', use \"\" "
      ],
      "metadata": {
        "colab": {
          "base_uri": "https://localhost:8080/"
        },
        "id": "xvbuQl7q01So",
        "outputId": "43842c3e-2e0f-4fae-81ba-70136a6c67bb"
      },
      "execution_count": 9,
      "outputs": [
        {
          "output_type": "stream",
          "name": "stdout",
          "text": [
            "I'm learning python\n"
          ]
        }
      ]
    },
    {
      "cell_type": "code",
      "source": [
        "## long string \"\"\"\"\n",
        "long_quote = \"\"\"This is a very long quote\n",
        "I am learning Python\n",
        "The Zen of Python\"\"\"\n",
        "print(long_quote)"
      ],
      "metadata": {
        "colab": {
          "base_uri": "https://localhost:8080/"
        },
        "id": "JvUODNa61BuB",
        "outputId": "6d7592ae-4e1f-4000-f8a4-fa05fa8ec762"
      },
      "execution_count": 12,
      "outputs": [
        {
          "output_type": "stream",
          "name": "stdout",
          "text": [
            "This is a very long quote\n",
            "I am learning Python\n",
            "The Zen of Python\n"
          ]
        }
      ]
    },
    {
      "cell_type": "code",
      "source": [
        "# data types\n",
        "# int, float, str, boolean\n",
        "my_name = \"Nut\"\n",
        "age = 21\n",
        "income = 70000.5\n",
        "movie_lover = True # False"
      ],
      "metadata": {
        "id": "8znrTmQJ1XID"
      },
      "execution_count": 13,
      "outputs": []
    },
    {
      "cell_type": "code",
      "source": [
        "print(type(my_name))\n",
        "print(type(age))\n",
        "print(type(income))\n",
        "print(type(movie_lover))"
      ],
      "metadata": {
        "colab": {
          "base_uri": "https://localhost:8080/"
        },
        "id": "2wrZmSxZ19qz",
        "outputId": "777c17a1-e778-4ecb-851d-e4787c047d75"
      },
      "execution_count": 18,
      "outputs": [
        {
          "output_type": "stream",
          "name": "stdout",
          "text": [
            "<class 'str'>\n",
            "<class 'int'>\n",
            "<class 'float'>\n",
            "<class 'bool'>\n"
          ]
        }
      ]
    },
    {
      "cell_type": "code",
      "source": [
        "# check type\n",
        "print(isinstance(my_name, str))\n",
        "print(isinstance(age, int))\n",
        "print(isinstance(income, float))\n",
        "print(isinstance(movie_lover, bool))\n"
      ],
      "metadata": {
        "colab": {
          "base_uri": "https://localhost:8080/"
        },
        "id": "lQQD_Glg2D5o",
        "outputId": "ff10b61a-29f9-404f-d1bc-84afd9583f07"
      },
      "execution_count": 22,
      "outputs": [
        {
          "output_type": "stream",
          "name": "stdout",
          "text": [
            "True\n",
            "True\n",
            "True\n",
            "True\n"
          ]
        }
      ]
    },
    {
      "cell_type": "code",
      "source": [
        "# print fsting template \n",
        "my_name = \"Nut\"\n",
        "my_age = 21\n",
        "print(f\"Hello my name is {my_name} and I'm {my_age} years old. \" )\n",
        "#old way .format()\n",
        "print(\"Hello my name is {} and I'm {} years old.\".format(my_name,my_age))"
      ],
      "metadata": {
        "colab": {
          "base_uri": "https://localhost:8080/"
        },
        "id": "DVqjY1m72o-B",
        "outputId": "4b859a9a-3b94-4190-c96f-291f8eac8793"
      },
      "execution_count": 24,
      "outputs": [
        {
          "output_type": "stream",
          "name": "stdout",
          "text": [
            "Hello my name is Nut and I'm 21 years old. \n",
            "Hello my name is Nut and I'm 21 years old.\n"
          ]
        }
      ]
    },
    {
      "cell_type": "code",
      "source": [
        "# string + string \n",
        "text = 'Hello' + 'World'\n",
        "print(text)\n",
        "print('Hello '*5)\n"
      ],
      "metadata": {
        "colab": {
          "base_uri": "https://localhost:8080/"
        },
        "id": "JjjS_F7M3ZYp",
        "outputId": "3895b9c9-1767-4969-f2e3-23fbefebbe3d"
      },
      "execution_count": 28,
      "outputs": [
        {
          "output_type": "stream",
          "name": "stdout",
          "text": [
            "HelloWorld\n",
            "Hello Hello Hello Hello Hello \n"
          ]
        }
      ]
    },
    {
      "cell_type": "code",
      "source": [
        "# typer hints- just hints don't enforced\n",
        "# dynamic typed\n",
        "my_name : str = 'nut'\n",
        "my_age : int = 21"
      ],
      "metadata": {
        "id": "oOS7VIh7-3yU"
      },
      "execution_count": 29,
      "outputs": []
    },
    {
      "cell_type": "code",
      "source": [
        "# defin function\n",
        "def hello(name: str) -> None :\n",
        "    print(f\"hello {name}!\")\n",
        "\n",
        "# test function\n",
        "hello(name = 'Nut') # hello('Nut')\n",
        "\n"
      ],
      "metadata": {
        "colab": {
          "base_uri": "https://localhost:8080/"
        },
        "id": "fFtJQIRrAVfE",
        "outputId": "3d03e053-dd9e-473e-cfea-3d2b61126d57"
      },
      "execution_count": 34,
      "outputs": [
        {
          "output_type": "stream",
          "name": "stdout",
          "text": [
            "hello Nut!\n"
          ]
        }
      ]
    },
    {
      "cell_type": "code",
      "source": [
        "def sum_two_num(a: int,b: int) -> int :\n",
        "    assert isinstance(a, int), \" a should be interger\"    #check condition \n",
        "    assert isinstance(b, int), \" b should be interger\"   #if a and b is not interger, it return error\n",
        "    return a+b\n",
        "result = sum_two_num(10,15) \n",
        "print(result)"
      ],
      "metadata": {
        "colab": {
          "base_uri": "https://localhost:8080/"
        },
        "id": "_trMuUcpByFn",
        "outputId": "a19636a2-1d79-4108-9500-5611bee1d47f"
      },
      "execution_count": 43,
      "outputs": [
        {
          "output_type": "stream",
          "name": "stdout",
          "text": [
            "25\n"
          ]
        }
      ]
    },
    {
      "cell_type": "markdown",
      "source": [
        "### String Methods"
      ],
      "metadata": {
        "id": "rz4wZioHFSlM"
      }
    },
    {
      "cell_type": "code",
      "source": [
        "text = \"a duck walks into a bar\"\n",
        "print(text)\n",
        "print(len(text))"
      ],
      "metadata": {
        "colab": {
          "base_uri": "https://localhost:8080/"
        },
        "id": "5JAWKyQFFVRJ",
        "outputId": "f8ef212d-36ee-4344-a474-73a14d238b43"
      },
      "execution_count": 46,
      "outputs": [
        {
          "output_type": "stream",
          "name": "stdout",
          "text": [
            "a duck walks into a bar\n",
            "23\n"
          ]
        }
      ]
    },
    {
      "cell_type": "code",
      "source": [
        "text.upper()"
      ],
      "metadata": {
        "colab": {
          "base_uri": "https://localhost:8080/",
          "height": 35
        },
        "id": "ZqAAIqHUF5n2",
        "outputId": "f2d50f55-5e82-436b-c2c3-a5be9f9ccaf2"
      },
      "execution_count": 47,
      "outputs": [
        {
          "output_type": "execute_result",
          "data": {
            "application/vnd.google.colaboratory.intrinsic+json": {
              "type": "string"
            },
            "text/plain": [
              "'A DUCK WALKS INTO A BAR'"
            ]
          },
          "metadata": {},
          "execution_count": 47
        }
      ]
    },
    {
      "cell_type": "code",
      "source": [
        "text.split(\" \") #extract in List"
      ],
      "metadata": {
        "colab": {
          "base_uri": "https://localhost:8080/"
        },
        "id": "JzRRJMY_GR5d",
        "outputId": "b9845a8c-0d81-4999-9a04-574e817e2ba5"
      },
      "execution_count": 48,
      "outputs": [
        {
          "output_type": "execute_result",
          "data": {
            "text/plain": [
              "['a', 'duck', 'walks', 'into', 'a', 'bar']"
            ]
          },
          "metadata": {},
          "execution_count": 48
        }
      ]
    },
    {
      "cell_type": "code",
      "source": [
        "text.replace(\"duck\",\"lion\") #just print not replace\n",
        "#if want assign in variable\n",
        "text = text.replace(\"duck\",\"lion\")"
      ],
      "metadata": {
        "id": "T3DFRkVUGdoa"
      },
      "execution_count": 51,
      "outputs": []
    },
    {
      "cell_type": "code",
      "source": [
        "text"
      ],
      "metadata": {
        "colab": {
          "base_uri": "https://localhost:8080/",
          "height": 35
        },
        "id": "ljqRcwCyGvds",
        "outputId": "e1f70b1e-3821-4ea3-8c03-2706f69bfa1a"
      },
      "execution_count": 52,
      "outputs": [
        {
          "output_type": "execute_result",
          "data": {
            "application/vnd.google.colaboratory.intrinsic+json": {
              "type": "string"
            },
            "text/plain": [
              "'a lion walks into a bar'"
            ]
          },
          "metadata": {},
          "execution_count": 52
        }
      ]
    },
    {
      "cell_type": "code",
      "source": [
        "# python index start with 0 \n",
        "print(text[0])\n",
        "print(text[0:4]) #0 1 2 3  not include 4 \n",
        "print(text[-1]) # at the end\n",
        "print(text[-2])\n",
        "print(text[13: ]) #start at 13 to the end"
      ],
      "metadata": {
        "colab": {
          "base_uri": "https://localhost:8080/"
        },
        "id": "SX_lvK04G3U0",
        "outputId": "03808be0-561d-4b0f-8c67-91e420618cf3"
      },
      "execution_count": 61,
      "outputs": [
        {
          "output_type": "stream",
          "name": "stdout",
          "text": [
            "a\n",
            "a li\n",
            "r\n",
            "a\n",
            "into a bar\n"
          ]
        }
      ]
    },
    {
      "cell_type": "code",
      "source": [
        "print(text)\n",
        "print(text[0: :3]) # start at 0 : stop : step \n"
      ],
      "metadata": {
        "colab": {
          "base_uri": "https://localhost:8080/"
        },
        "id": "sfaRKdoLHQJf",
        "outputId": "f4fd465e-e5f6-48cd-db83-094e2e782c5f"
      },
      "execution_count": 64,
      "outputs": [
        {
          "output_type": "stream",
          "name": "stdout",
          "text": [
            "a lion walks into a bar\n",
            "ai l taa\n"
          ]
        }
      ]
    },
    {
      "cell_type": "code",
      "source": [
        "# string is immutable \n",
        "text = \"I love hotdog\"\n",
        "# text = text.replace(\"hotdog\",\"hamburger\")"
      ],
      "metadata": {
        "id": "0sSwmZn3JJRk"
      },
      "execution_count": 65,
      "outputs": []
    },
    {
      "cell_type": "code",
      "source": [
        "text2 = \"he\"+text[1: ]\n",
        "print(text2)"
      ],
      "metadata": {
        "colab": {
          "base_uri": "https://localhost:8080/"
        },
        "id": "ODqFkLTeJl2-",
        "outputId": "40cd92fb-394d-4023-f0a8-12692156b014"
      },
      "execution_count": 69,
      "outputs": [
        {
          "output_type": "stream",
          "name": "stdout",
          "text": [
            "he love hamburger\n"
          ]
        }
      ]
    },
    {
      "cell_type": "markdown",
      "source": [
        "### Data Structure\n",
        "- list\n",
        "- tuple\n",
        "- dictionary\n",
        "\n"
      ],
      "metadata": {
        "id": "nANRGHQcKOzz"
      }
    },
    {
      "cell_type": "code",
      "source": [
        "# list[] \n",
        "shopping_list = [\"eggs\", \"milk\", \"bread\"]\n",
        "print(shopping_list)"
      ],
      "metadata": {
        "colab": {
          "base_uri": "https://localhost:8080/"
        },
        "id": "bKAxjRmqKQ5X",
        "outputId": "6dc5fb97-a2f1-45a3-9be7-9067c3eb2e59"
      },
      "execution_count": 71,
      "outputs": [
        {
          "output_type": "stream",
          "name": "stdout",
          "text": [
            "['eggs', 'milk', 'bread']\n"
          ]
        }
      ]
    },
    {
      "cell_type": "code",
      "source": [
        "# update list (list is mutable)\n",
        "shopping_list[0] = 'carrot' #update list\n",
        "print(shopping_list) #change eggs to carrots"
      ],
      "metadata": {
        "colab": {
          "base_uri": "https://localhost:8080/"
        },
        "id": "n1wEQn6oKtZN",
        "outputId": "716433c7-73b2-4078-d253-e11ca1bfccd5"
      },
      "execution_count": 74,
      "outputs": [
        {
          "output_type": "stream",
          "name": "stdout",
          "text": [
            "['carrot', 'milk', 'bread']\n"
          ]
        }
      ]
    },
    {
      "cell_type": "code",
      "source": [
        "another_shopping_list = ['sugar','salt']\n",
        "total_shopping_list = shopping_list + another_shopping_list\n",
        "print(total_shopping_list)"
      ],
      "metadata": {
        "colab": {
          "base_uri": "https://localhost:8080/"
        },
        "id": "fkPorA0eK29n",
        "outputId": "425bf130-534c-4186-8f03-eba6a02fac8b"
      },
      "execution_count": 76,
      "outputs": [
        {
          "output_type": "stream",
          "name": "stdout",
          "text": [
            "['carrot', 'milk', 'bread', 'sugar', 'salt']\n"
          ]
        }
      ]
    },
    {
      "cell_type": "code",
      "source": [
        "# type hints : list\n",
        "from typing import List\n",
        "friends: List[str] = ['David', 'Joe', 'anna']\n",
        "salary : List[int] = [5000,3444,3145]\n",
        "print(friends)\n",
        "print(salary)"
      ],
      "metadata": {
        "colab": {
          "base_uri": "https://localhost:8080/"
        },
        "id": "ZYV-5ALgR9cm",
        "outputId": "a595d6e4-9938-4f25-a170-1293aa4cbd0c"
      },
      "execution_count": 80,
      "outputs": [
        {
          "output_type": "stream",
          "name": "stdout",
          "text": [
            "['David', 'Joe', 'anna']\n",
            "[5000, 3444, 3145]\n"
          ]
        }
      ]
    },
    {
      "cell_type": "code",
      "source": [
        ""
      ],
      "metadata": {
        "id": "I53y3cnOSWa8"
      },
      "execution_count": null,
      "outputs": []
    }
  ]
}