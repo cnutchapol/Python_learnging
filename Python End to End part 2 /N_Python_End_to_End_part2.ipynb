{
  "nbformat": 4,
  "nbformat_minor": 0,
  "metadata": {
    "colab": {
      "name": "N_Python End-to-End_part2.ipynb",
      "provenance": [],
      "collapsed_sections": [],
      "authorship_tag": "ABX9TyPomtb+SzDw6TiG1g4J5sTv",
      "include_colab_link": true
    },
    "kernelspec": {
      "name": "python3",
      "display_name": "Python 3"
    },
    "language_info": {
      "name": "python"
    }
  },
  "cells": [
    {
      "cell_type": "markdown",
      "metadata": {
        "id": "view-in-github",
        "colab_type": "text"
      },
      "source": [
        "<a href=\"https://colab.research.google.com/github/cnutchapol/Python_learning/blob/main/N_Python_End_to_End_part2.ipynb\" target=\"_parent\"><img src=\"https://colab.research.google.com/assets/colab-badge.svg\" alt=\"Open In Colab\"/></a>"
      ]
    },
    {
      "cell_type": "markdown",
      "source": [
        "### Basics Python "
      ],
      "metadata": {
        "id": "sHJKbfOgiEk9"
      }
    },
    {
      "cell_type": "code",
      "execution_count": 2,
      "metadata": {
        "colab": {
          "base_uri": "https://localhost:8080/"
        },
        "id": "8_2GEtM1ha_t",
        "outputId": "e82d99cb-162e-4568-992b-5dcca13a3562"
      },
      "outputs": [
        {
          "output_type": "stream",
          "name": "stdout",
          "text": [
            "Nut\n",
            "21\n"
          ]
        }
      ],
      "source": [
        "# create new variable\n",
        "name = \"Nut\"\n",
        "age = 21\n",
        "print(name)\n",
        "print(age)"
      ]
    },
    {
      "cell_type": "code",
      "source": [
        "# fstring template\n",
        "print( f\"Hello my name is {name} and I'm {age} years old \")"
      ],
      "metadata": {
        "colab": {
          "base_uri": "https://localhost:8080/"
        },
        "id": "_GPv1bHtiJKZ",
        "outputId": "7b68726c-255b-4157-cf80-8b739cbdea71"
      },
      "execution_count": 4,
      "outputs": [
        {
          "output_type": "stream",
          "name": "stdout",
          "text": [
            "Hello my name is Nut and I'm 21 years old \n"
          ]
        }
      ]
    },
    {
      "cell_type": "code",
      "source": [
        "# data structures in python // what is arrays \n",
        "# list \n",
        "shopping_list = [\"eggs\",\"milk\",\"bread\",\"carrot\"]\n",
        "print(shopping_list)"
      ],
      "metadata": {
        "colab": {
          "base_uri": "https://localhost:8080/"
        },
        "id": "sWmASmXCi_k0",
        "outputId": "c3a5bb3b-0f22-4a01-e60a-1d26aef5d14a"
      },
      "execution_count": 6,
      "outputs": [
        {
          "output_type": "stream",
          "name": "stdout",
          "text": [
            "['eggs', 'milk', 'bread', 'carrot']\n"
          ]
        }
      ]
    },
    {
      "cell_type": "code",
      "source": [
        "shopping_list[0]\n",
        "#python start with 0"
      ],
      "metadata": {
        "colab": {
          "base_uri": "https://localhost:8080/",
          "height": 36
        },
        "id": "nZl2kBJZjQDx",
        "outputId": "1efcfdee-d07d-4473-ccf7-af3d8e61b08b"
      },
      "execution_count": 8,
      "outputs": [
        {
          "output_type": "execute_result",
          "data": {
            "application/vnd.google.colaboratory.intrinsic+json": {
              "type": "string"
            },
            "text/plain": [
              "'eggs'"
            ]
          },
          "metadata": {},
          "execution_count": 8
        }
      ]
    },
    {
      "cell_type": "code",
      "source": [
        "print(shopping_list[3])"
      ],
      "metadata": {
        "colab": {
          "base_uri": "https://localhost:8080/"
        },
        "id": "sfUfUJ8MjZMq",
        "outputId": "87bffe5a-97c4-48a9-88d9-961af7aa3255"
      },
      "execution_count": 9,
      "outputs": [
        {
          "output_type": "stream",
          "name": "stdout",
          "text": [
            "carrot\n"
          ]
        }
      ]
    },
    {
      "cell_type": "code",
      "source": [
        "# control flow\n",
        "for item in shopping_list: \n",
        "    print(item.upper())"
      ],
      "metadata": {
        "colab": {
          "base_uri": "https://localhost:8080/"
        },
        "id": "E6kCYMW4jgz9",
        "outputId": "c3198221-d6b6-47f1-e849-b77d856a3e0e"
      },
      "execution_count": 11,
      "outputs": [
        {
          "output_type": "stream",
          "name": "stdout",
          "text": [
            "EGGS\n",
            "MILK\n",
            "BREAD\n",
            "CARROT\n"
          ]
        }
      ]
    },
    {
      "cell_type": "code",
      "source": [
        "# list comprehension \n",
        "upper_shopping_list = [item.upper() for item in shopping_list]"
      ],
      "metadata": {
        "id": "ChNXvdXdky47"
      },
      "execution_count": 12,
      "outputs": []
    },
    {
      "cell_type": "code",
      "source": [
        "print(upper_shopping_list)"
      ],
      "metadata": {
        "colab": {
          "base_uri": "https://localhost:8080/"
        },
        "id": "ji5_cWfolaIh",
        "outputId": "a2652ebf-bb98-4f66-ff58-79d678d6d581"
      },
      "execution_count": 13,
      "outputs": [
        {
          "output_type": "stream",
          "name": "stdout",
          "text": [
            "['EGGS', 'MILK', 'BREAD', 'CARROT']\n"
          ]
        }
      ]
    },
    {
      "cell_type": "code",
      "source": [
        "print(shopping_list)"
      ],
      "metadata": {
        "colab": {
          "base_uri": "https://localhost:8080/"
        },
        "id": "Pku8Lig_lbxf",
        "outputId": "056474c1-6057-4bc2-bc3a-54b68feab316"
      },
      "execution_count": 14,
      "outputs": [
        {
          "output_type": "stream",
          "name": "stdout",
          "text": [
            "['eggs', 'milk', 'bread', 'carrot']\n"
          ]
        }
      ]
    },
    {
      "cell_type": "code",
      "source": [
        "# def : create new function + type hints \n",
        "def hello(name: str) -> None:\n",
        "    print(f\"Hello {name} nice to see you\")"
      ],
      "metadata": {
        "id": "OkwJdSu_lge6"
      },
      "execution_count": 19,
      "outputs": []
    },
    {
      "cell_type": "code",
      "source": [
        "hello(\"nut\")"
      ],
      "metadata": {
        "colab": {
          "base_uri": "https://localhost:8080/"
        },
        "id": "k5fTzSdrlx8f",
        "outputId": "fec88374-4647-4e7e-ad9b-5381f03c737b"
      },
      "execution_count": 18,
      "outputs": [
        {
          "output_type": "stream",
          "name": "stdout",
          "text": [
            "Hello nut nice to see you\n"
          ]
        }
      ]
    },
    {
      "cell_type": "code",
      "source": [
        "# new fuction \n",
        "def sum_two_nums(x : int,y : int) -> int : # type hint not enforce  \n",
        "    return x+y"
      ],
      "metadata": {
        "id": "DeLuKYI_l0DW"
      },
      "execution_count": 21,
      "outputs": []
    },
    {
      "cell_type": "code",
      "source": [
        "result = sum_two_nums(19,31)\n",
        "print(result)"
      ],
      "metadata": {
        "colab": {
          "base_uri": "https://localhost:8080/"
        },
        "id": "PZDBmWelmuvy",
        "outputId": "8ddac354-a6b8-47dc-c43a-c6d1aea3beb2"
      },
      "execution_count": 24,
      "outputs": [
        {
          "output_type": "stream",
          "name": "stdout",
          "text": [
            "50\n"
          ]
        }
      ]
    },
    {
      "cell_type": "markdown",
      "source": [
        "### OOP\n",
        "object oriented programming\n"
      ],
      "metadata": {
        "id": "zlewvs0ynvMC"
      }
    },
    {
      "cell_type": "code",
      "source": [
        "class Cat():   # attribute \n",
        "    def __init__ (self,cat_name,age, breed):  #always start with self\n",
        "        self.name = cat_name \n",
        "        self.age = age\n",
        "        self.breed = breed\n",
        "    \n",
        "    def __str__(self): #dunder\n",
        "        return f\"I'am a dog name {self.name}\"\n",
        "    def barking(self):\n",
        "        print(\"Meow Meow\")\n",
        "\n",
        "    def eating(self,food):\n",
        "        print(f\"she eating {food} , she love it\")"
      ],
      "metadata": {
        "id": "wm-iUcbTn6-J"
      },
      "execution_count": 67,
      "outputs": []
    },
    {
      "cell_type": "code",
      "source": [
        "my_cat = Cat(\"Doraemon\",5,\"thai\")\n",
        "print(my_cat)"
      ],
      "metadata": {
        "colab": {
          "base_uri": "https://localhost:8080/"
        },
        "id": "H_WNKAcpolGY",
        "outputId": "faed9628-434f-47c0-a21b-cb7a6591aed9"
      },
      "execution_count": 69,
      "outputs": [
        {
          "output_type": "stream",
          "name": "stdout",
          "text": [
            "I'am a dog name Doraemon\n"
          ]
        }
      ]
    },
    {
      "cell_type": "code",
      "source": [
        "print(my_cat.name)\n",
        "print(my_cat.breed)"
      ],
      "metadata": {
        "colab": {
          "base_uri": "https://localhost:8080/"
        },
        "id": "0lwKPc1zo3CY",
        "outputId": "36945e23-5b96-43c0-fd22-822d22e79cf4"
      },
      "execution_count": 55,
      "outputs": [
        {
          "output_type": "stream",
          "name": "stdout",
          "text": [
            "Doraemon\n",
            "thai\n"
          ]
        }
      ]
    },
    {
      "cell_type": "code",
      "source": [
        "my_cat2 = Cat('kitty',5,'japan') # cat class "
      ],
      "metadata": {
        "id": "sMwU8RHvo7qq"
      },
      "execution_count": 56,
      "outputs": []
    },
    {
      "cell_type": "code",
      "source": [
        "my_cat.barking()\n",
        "my_cat.eating(\"ham\")"
      ],
      "metadata": {
        "colab": {
          "base_uri": "https://localhost:8080/"
        },
        "id": "zWpa9adNpHEz",
        "outputId": "1293c13c-b068-4a0a-f02e-157f9ab37459"
      },
      "execution_count": 65,
      "outputs": [
        {
          "output_type": "stream",
          "name": "stdout",
          "text": [
            "Meow Meow\n",
            "she eatingham , she love it\n"
          ]
        }
      ]
    },
    {
      "cell_type": "code",
      "source": [
        "print(my_cat)"
      ],
      "metadata": {
        "colab": {
          "base_uri": "https://localhost:8080/"
        },
        "id": "9c8me4DIqOi3",
        "outputId": "8c8070c3-7171-4890-db7a-6ca582e855de"
      },
      "execution_count": 70,
      "outputs": [
        {
          "output_type": "stream",
          "name": "stdout",
          "text": [
            "I'am a dog name Doraemon\n"
          ]
        }
      ]
    },
    {
      "cell_type": "code",
      "source": [
        "## book_class\n",
        "class Book():\n",
        "    def __init__ (self, title, year, genre, pages):\n",
        "        self.title = title\n",
        "        self.year = year\n",
        "        self.genre = genre\n",
        "        self.pages = pages\n",
        "    \n",
        "    def __str__(self):\n",
        "        return f\"Book title: {self.title} Author: {self.author}\"\n",
        "\n",
        "    def add_author(self, author):  # create new attributes\n",
        "        self.author =  author\n",
        "\n"
      ],
      "metadata": {
        "id": "PWlLcewar_Yz"
      },
      "execution_count": 88,
      "outputs": []
    },
    {
      "cell_type": "code",
      "source": [
        "my_book = Book('business made simple',2021,'Business',250)"
      ],
      "metadata": {
        "id": "YWotHBXXsMV5"
      },
      "execution_count": 89,
      "outputs": []
    },
    {
      "cell_type": "code",
      "source": [
        "print(my_book.title)\n",
        "print(my_book.year)\n",
        "print(my_book.pages)\n"
      ],
      "metadata": {
        "colab": {
          "base_uri": "https://localhost:8080/"
        },
        "id": "LTcfiDwSso7h",
        "outputId": "4cd27bd6-939f-4dc0-847f-c7307ce0730f"
      },
      "execution_count": 75,
      "outputs": [
        {
          "output_type": "stream",
          "name": "stdout",
          "text": [
            "business made simple\n",
            "2021\n",
            "250\n"
          ]
        }
      ]
    },
    {
      "cell_type": "code",
      "source": [
        "my_book.add_author(\"Donald\"). # from __str__\n",
        "print(my_book)"
      ],
      "metadata": {
        "colab": {
          "base_uri": "https://localhost:8080/"
        },
        "id": "tbZcF6uxszEj",
        "outputId": "23983933-4bdd-48e9-a2b1-c2ab0a5c940d"
      },
      "execution_count": 90,
      "outputs": [
        {
          "output_type": "stream",
          "name": "stdout",
          "text": [
            "Book title: business made simple Author: Donald\n"
          ]
        }
      ]
    },
    {
      "cell_type": "code",
      "source": [
        ""
      ],
      "metadata": {
        "id": "ulgqBkDGtWcd"
      },
      "execution_count": null,
      "outputs": []
    },
    {
      "cell_type": "markdown",
      "source": [
        "### mini project CSV Monster"
      ],
      "metadata": {
        "id": "PkFXebocnJys"
      }
    },
    {
      "cell_type": "code",
      "source": [
        "import csv\n",
        "\n",
        "#with = scope\n",
        "# list \n",
        "list_data = []\n",
        "\n",
        "with open('hotel.csv', 'r') as file:  #Open and close file \n",
        "    data = csv.reader(file)\n",
        "    for row in data: \n",
        "        list_data.append(row) #เอา data ไปต่อใน list list_data\n",
        "\n",
        "print(list_data[0]) # header\\\n",
        "print(list_data[1])\n"
      ],
      "metadata": {
        "colab": {
          "base_uri": "https://localhost:8080/"
        },
        "id": "5JrCGSKLmvuE",
        "outputId": "b7472e63-e203-4451-eb0e-8e125f7804cd"
      },
      "execution_count": 10,
      "outputs": [
        {
          "output_type": "stream",
          "name": "stdout",
          "text": [
            "['id', 'hotel', 'location', 'pricepernight']\n",
            "['1', 'Ideo', 'Bangkok', '20']\n"
          ]
        }
      ]
    },
    {
      "cell_type": "code",
      "source": [
        "print(len(list_data))"
      ],
      "metadata": {
        "colab": {
          "base_uri": "https://localhost:8080/"
        },
        "id": "pMk6uiERoQK6",
        "outputId": "c641cb00-b674-4492-8197-5ea742222862"
      },
      "execution_count": 12,
      "outputs": [
        {
          "output_type": "stream",
          "name": "stdout",
          "text": [
            "11\n"
          ]
        }
      ]
    },
    {
      "cell_type": "code",
      "source": [
        "# new class CSV Monster\n",
        "class CSVMonster():\n",
        "    list_data = []\n",
        "\n",
        "    def read_csv(self,filename):\n",
        "        try:\n",
        "            with open(filename,'r') as file:  # read mode\n",
        "                data = csv.reader(file)\n",
        "                for row in data : \n",
        "                    self.list_data.append(row)\n",
        "            print(\"Success - csv data has been loaded.\")\n",
        "        except : #ดังจับ error\n",
        "            print(\"Error Couldn't load data\")\n",
        "\n",
        "    def head(self):\n",
        "        for row in self.list_data[0:6]:\n",
        "            print(row)\n",
        "\n",
        "    def tail(self):\n",
        "        print(self.list_data[0])\n",
        "        for row in self.list_data[-5:]:  #5 items from back \n",
        "            print(row)\n",
        "\n",
        "    def columns_names(self):\n",
        "        print(self.list_data[0])\n",
        "\n",
        "    def info(self):\n",
        "        print(f\"Number of columns : {len(self.list_data[0])}\")\n",
        "        print(f\"Number of rows : {len(self.list_data[1:])}\") # 1 to end\n",
        "\n",
        "    def filter_city(self, city):\n",
        "        result = []\n",
        "        for row in self.list_data[1:]:\n",
        "            if row[2] == city:\n",
        "                print(row)\n",
        "\n",
        "    def find_mean_price(self):\n",
        "        prices = []\n",
        "        for row in self.list_data[1:]:\n",
        "            prices.append(int(row[3]))\n",
        "        avg_price = (sum(prices)/len(prices))\n",
        "        print(f\"Average of price per nigt : {avg_price}\")\n",
        "\n",
        "    def price_plus_vat(self,percent_vat):\n",
        "        old_prices = []\n",
        "        new_prices = [] #include vat 18%\n",
        "        for row in self.list_data[1:]:\n",
        "            price = int(row[3])\n",
        "            old_prices.append(price)\n",
        "            new_prices.append(round(price *(1+percent_vat),2))\n",
        "        print(f'old prices :{old_prices}')\n",
        "        print(f'new prices :{new_prices}')\n",
        "       \n",
        "\n",
        "    \n"
      ],
      "metadata": {
        "id": "tEVYRz05oSFd"
      },
      "execution_count": 186,
      "outputs": []
    },
    {
      "cell_type": "code",
      "source": [
        "my_csv_monster = CSVMonster()"
      ],
      "metadata": {
        "id": "ze08S_bAq28s"
      },
      "execution_count": 187,
      "outputs": []
    },
    {
      "cell_type": "code",
      "source": [
        "my_csv_monster.read_csv('hotel.csv')"
      ],
      "metadata": {
        "colab": {
          "base_uri": "https://localhost:8080/"
        },
        "id": "ZQaYbwc_pi7I",
        "outputId": "8d335878-2a58-4e6d-9127-eed4ff114573"
      },
      "execution_count": 188,
      "outputs": [
        {
          "output_type": "stream",
          "name": "stdout",
          "text": [
            "Success - csv data has been loaded.\n"
          ]
        }
      ]
    },
    {
      "cell_type": "code",
      "source": [
        "my_csv_monster.head()"
      ],
      "metadata": {
        "colab": {
          "base_uri": "https://localhost:8080/"
        },
        "id": "9Km_pnGUrEch",
        "outputId": "c1979cb8-239f-4b00-84fa-5dde47acb1c1"
      },
      "execution_count": 189,
      "outputs": [
        {
          "output_type": "stream",
          "name": "stdout",
          "text": [
            "['id', 'hotel', 'location', 'pricepernight']\n",
            "['1', 'Ideo', 'Bangkok', '20']\n",
            "['2', 'Accor', 'London', '25']\n",
            "['3', 'Premium', 'Seoul', '32']\n",
            "['4', 'Super Star', 'Dubai', '50']\n",
            "['5', 'Planet', 'Tokyo', '22']\n"
          ]
        }
      ]
    },
    {
      "cell_type": "code",
      "source": [
        "my_csv_monster.tail()"
      ],
      "metadata": {
        "colab": {
          "base_uri": "https://localhost:8080/"
        },
        "id": "b5Fl3Op8ra1T",
        "outputId": "90a7acc2-7e96-4a3f-c9ed-5265d7f7f82d"
      },
      "execution_count": 190,
      "outputs": [
        {
          "output_type": "stream",
          "name": "stdout",
          "text": [
            "['id', 'hotel', 'location', 'pricepernight']\n",
            "['6', 'Joby', 'Bangkok', '30']\n",
            "['7', 'JW Marriot', 'Bangkok', '35']\n",
            "['8', 'Kenshin', 'Tokyo', '20']\n",
            "['9', 'Eloquent', 'London', '42']\n",
            "['10', 'Big Ben', 'London', '45']\n"
          ]
        }
      ]
    },
    {
      "cell_type": "code",
      "source": [
        "my_csv_monster.columns_names()"
      ],
      "metadata": {
        "colab": {
          "base_uri": "https://localhost:8080/"
        },
        "id": "-k73_nGjtDVW",
        "outputId": "c4c31462-6cf1-47be-b223-3617c60d7bd2"
      },
      "execution_count": 191,
      "outputs": [
        {
          "output_type": "stream",
          "name": "stdout",
          "text": [
            "['id', 'hotel', 'location', 'pricepernight']\n"
          ]
        }
      ]
    },
    {
      "cell_type": "code",
      "source": [
        "my_csv_monster.info()"
      ],
      "metadata": {
        "colab": {
          "base_uri": "https://localhost:8080/"
        },
        "id": "ItjpCGUOuwJU",
        "outputId": "85a93618-e29b-4999-ae0c-709043fd7052"
      },
      "execution_count": 192,
      "outputs": [
        {
          "output_type": "stream",
          "name": "stdout",
          "text": [
            "Number of columns : 4\n",
            "Number of rows : 10\n"
          ]
        }
      ]
    },
    {
      "cell_type": "code",
      "source": [
        "my_csv_monster.filter_city(\"Bangkok\")"
      ],
      "metadata": {
        "colab": {
          "base_uri": "https://localhost:8080/"
        },
        "id": "nvLTI3XguyDM",
        "outputId": "b55e215e-7457-4932-fcec-848a2e75a440"
      },
      "execution_count": 193,
      "outputs": [
        {
          "output_type": "stream",
          "name": "stdout",
          "text": [
            "['1', 'Ideo', 'Bangkok', '20']\n",
            "['6', 'Joby', 'Bangkok', '30']\n",
            "['7', 'JW Marriot', 'Bangkok', '35']\n"
          ]
        }
      ]
    },
    {
      "cell_type": "code",
      "source": [
        "my_csv_monster.filter_city('London')"
      ],
      "metadata": {
        "colab": {
          "base_uri": "https://localhost:8080/"
        },
        "id": "s36-F0YywrCz",
        "outputId": "b4471db8-9127-4ac0-b154-673ea3efbda5"
      },
      "execution_count": 194,
      "outputs": [
        {
          "output_type": "stream",
          "name": "stdout",
          "text": [
            "['2', 'Accor', 'London', '25']\n",
            "['9', 'Eloquent', 'London', '42']\n",
            "['10', 'Big Ben', 'London', '45']\n"
          ]
        }
      ]
    },
    {
      "cell_type": "code",
      "source": [
        "x = '100'\n",
        "x = int(x)\n",
        "type(x)\n",
        "print(x)"
      ],
      "metadata": {
        "colab": {
          "base_uri": "https://localhost:8080/"
        },
        "id": "uboDYOvJwzfL",
        "outputId": "1cca5962-01df-4314-b11d-31df9c9076e8"
      },
      "execution_count": 195,
      "outputs": [
        {
          "output_type": "stream",
          "name": "stdout",
          "text": [
            "100\n"
          ]
        }
      ]
    },
    {
      "cell_type": "code",
      "source": [
        "my_csv_monster.find_mean_price()"
      ],
      "metadata": {
        "colab": {
          "base_uri": "https://localhost:8080/"
        },
        "id": "O0k5ulrMx0aG",
        "outputId": "ef48ed1d-bab2-472d-e751-3437763340ea"
      },
      "execution_count": 196,
      "outputs": [
        {
          "output_type": "stream",
          "name": "stdout",
          "text": [
            "Average of price per nigt : 32.1\n"
          ]
        }
      ]
    },
    {
      "cell_type": "code",
      "source": [
        "my_csv_monster.price_plus_vat(0.14)"
      ],
      "metadata": {
        "colab": {
          "base_uri": "https://localhost:8080/"
        },
        "id": "Q2nZJIWZy_r_",
        "outputId": "3679d403-7ec7-4fbb-db90-e8493cc0bbe6"
      },
      "execution_count": 198,
      "outputs": [
        {
          "output_type": "stream",
          "name": "stdout",
          "text": [
            "old prices :[20, 25, 32, 50, 22, 30, 35, 20, 42, 45]\n",
            "new prices :[22.8, 28.5, 36.48, 57.0, 25.08, 34.2, 39.9, 22.8, 47.88, 51.3]\n"
          ]
        }
      ]
    },
    {
      "cell_type": "code",
      "source": [
        ""
      ],
      "metadata": {
        "id": "e5gEXOqb0B9U"
      },
      "execution_count": 197,
      "outputs": []
    }
  ]
}