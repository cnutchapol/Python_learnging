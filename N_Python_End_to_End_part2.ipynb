{
  "nbformat": 4,
  "nbformat_minor": 0,
  "metadata": {
    "colab": {
      "name": "N_Python End-to-End_part2.ipynb",
      "provenance": [],
      "collapsed_sections": [],
      "authorship_tag": "ABX9TyOP7fQvvStC+LTRT7eUctho",
      "include_colab_link": true
    },
    "kernelspec": {
      "name": "python3",
      "display_name": "Python 3"
    },
    "language_info": {
      "name": "python"
    }
  },
  "cells": [
    {
      "cell_type": "markdown",
      "metadata": {
        "id": "view-in-github",
        "colab_type": "text"
      },
      "source": [
        "<a href=\"https://colab.research.google.com/github/cnutchapol/Python_learning/blob/main/N_Python_End_to_End_part2.ipynb\" target=\"_parent\"><img src=\"https://colab.research.google.com/assets/colab-badge.svg\" alt=\"Open In Colab\"/></a>"
      ]
    },
    {
      "cell_type": "markdown",
      "source": [
        "### Basics Python "
      ],
      "metadata": {
        "id": "sHJKbfOgiEk9"
      }
    },
    {
      "cell_type": "code",
      "execution_count": 2,
      "metadata": {
        "colab": {
          "base_uri": "https://localhost:8080/"
        },
        "id": "8_2GEtM1ha_t",
        "outputId": "e82d99cb-162e-4568-992b-5dcca13a3562"
      },
      "outputs": [
        {
          "output_type": "stream",
          "name": "stdout",
          "text": [
            "Nut\n",
            "21\n"
          ]
        }
      ],
      "source": [
        "# create new variable\n",
        "name = \"Nut\"\n",
        "age = 21\n",
        "print(name)\n",
        "print(age)"
      ]
    },
    {
      "cell_type": "code",
      "source": [
        "# fstring template\n",
        "print( f\"Hello my name is {name} and I'm {age} years old \")"
      ],
      "metadata": {
        "colab": {
          "base_uri": "https://localhost:8080/"
        },
        "id": "_GPv1bHtiJKZ",
        "outputId": "7b68726c-255b-4157-cf80-8b739cbdea71"
      },
      "execution_count": 4,
      "outputs": [
        {
          "output_type": "stream",
          "name": "stdout",
          "text": [
            "Hello my name is Nut and I'm 21 years old \n"
          ]
        }
      ]
    },
    {
      "cell_type": "code",
      "source": [
        "# data structures in python // what is arrays \n",
        "# list \n",
        "shopping_list = [\"eggs\",\"milk\",\"bread\",\"carrot\"]\n",
        "print(shopping_list)"
      ],
      "metadata": {
        "colab": {
          "base_uri": "https://localhost:8080/"
        },
        "id": "sWmASmXCi_k0",
        "outputId": "c3a5bb3b-0f22-4a01-e60a-1d26aef5d14a"
      },
      "execution_count": 6,
      "outputs": [
        {
          "output_type": "stream",
          "name": "stdout",
          "text": [
            "['eggs', 'milk', 'bread', 'carrot']\n"
          ]
        }
      ]
    },
    {
      "cell_type": "code",
      "source": [
        "shopping_list[0]\n",
        "#python start with 0"
      ],
      "metadata": {
        "colab": {
          "base_uri": "https://localhost:8080/",
          "height": 36
        },
        "id": "nZl2kBJZjQDx",
        "outputId": "1efcfdee-d07d-4473-ccf7-af3d8e61b08b"
      },
      "execution_count": 8,
      "outputs": [
        {
          "output_type": "execute_result",
          "data": {
            "application/vnd.google.colaboratory.intrinsic+json": {
              "type": "string"
            },
            "text/plain": [
              "'eggs'"
            ]
          },
          "metadata": {},
          "execution_count": 8
        }
      ]
    },
    {
      "cell_type": "code",
      "source": [
        "print(shopping_list[3])"
      ],
      "metadata": {
        "colab": {
          "base_uri": "https://localhost:8080/"
        },
        "id": "sfUfUJ8MjZMq",
        "outputId": "87bffe5a-97c4-48a9-88d9-961af7aa3255"
      },
      "execution_count": 9,
      "outputs": [
        {
          "output_type": "stream",
          "name": "stdout",
          "text": [
            "carrot\n"
          ]
        }
      ]
    },
    {
      "cell_type": "code",
      "source": [
        "# control flow\n",
        "for item in shopping_list: \n",
        "    print(item.upper())"
      ],
      "metadata": {
        "colab": {
          "base_uri": "https://localhost:8080/"
        },
        "id": "E6kCYMW4jgz9",
        "outputId": "c3198221-d6b6-47f1-e849-b77d856a3e0e"
      },
      "execution_count": 11,
      "outputs": [
        {
          "output_type": "stream",
          "name": "stdout",
          "text": [
            "EGGS\n",
            "MILK\n",
            "BREAD\n",
            "CARROT\n"
          ]
        }
      ]
    },
    {
      "cell_type": "code",
      "source": [
        "# list comprehension \n",
        "upper_shopping_list = [item.upper() for item in shopping_list]"
      ],
      "metadata": {
        "id": "ChNXvdXdky47"
      },
      "execution_count": 12,
      "outputs": []
    },
    {
      "cell_type": "code",
      "source": [
        "print(upper_shopping_list)"
      ],
      "metadata": {
        "colab": {
          "base_uri": "https://localhost:8080/"
        },
        "id": "ji5_cWfolaIh",
        "outputId": "a2652ebf-bb98-4f66-ff58-79d678d6d581"
      },
      "execution_count": 13,
      "outputs": [
        {
          "output_type": "stream",
          "name": "stdout",
          "text": [
            "['EGGS', 'MILK', 'BREAD', 'CARROT']\n"
          ]
        }
      ]
    },
    {
      "cell_type": "code",
      "source": [
        "print(shopping_list)"
      ],
      "metadata": {
        "colab": {
          "base_uri": "https://localhost:8080/"
        },
        "id": "Pku8Lig_lbxf",
        "outputId": "056474c1-6057-4bc2-bc3a-54b68feab316"
      },
      "execution_count": 14,
      "outputs": [
        {
          "output_type": "stream",
          "name": "stdout",
          "text": [
            "['eggs', 'milk', 'bread', 'carrot']\n"
          ]
        }
      ]
    },
    {
      "cell_type": "code",
      "source": [
        "# def : create new function + type hints \n",
        "def hello(name: str) -> None:\n",
        "    print(f\"Hello {name} nice to see you\")"
      ],
      "metadata": {
        "id": "OkwJdSu_lge6"
      },
      "execution_count": 19,
      "outputs": []
    },
    {
      "cell_type": "code",
      "source": [
        "hello(\"nut\")"
      ],
      "metadata": {
        "colab": {
          "base_uri": "https://localhost:8080/"
        },
        "id": "k5fTzSdrlx8f",
        "outputId": "fec88374-4647-4e7e-ad9b-5381f03c737b"
      },
      "execution_count": 18,
      "outputs": [
        {
          "output_type": "stream",
          "name": "stdout",
          "text": [
            "Hello nut nice to see you\n"
          ]
        }
      ]
    },
    {
      "cell_type": "code",
      "source": [
        "# new fuction \n",
        "def sum_two_nums(x : int,y : int) -> int : # type hint not enforce  \n",
        "    return x+y"
      ],
      "metadata": {
        "id": "DeLuKYI_l0DW"
      },
      "execution_count": 21,
      "outputs": []
    },
    {
      "cell_type": "code",
      "source": [
        "result = sum_two_nums(19,31)\n",
        "print(result)"
      ],
      "metadata": {
        "colab": {
          "base_uri": "https://localhost:8080/"
        },
        "id": "PZDBmWelmuvy",
        "outputId": "8ddac354-a6b8-47dc-c43a-c6d1aea3beb2"
      },
      "execution_count": 24,
      "outputs": [
        {
          "output_type": "stream",
          "name": "stdout",
          "text": [
            "50\n"
          ]
        }
      ]
    },
    {
      "cell_type": "markdown",
      "source": [
        "### OOP\n",
        "object oriented programming\n"
      ],
      "metadata": {
        "id": "zlewvs0ynvMC"
      }
    },
    {
      "cell_type": "code",
      "source": [
        "class Cat():   # attribute \n",
        "    def __init__ (self,cat_name,age, breed):  #always start with self\n",
        "        self.name = cat_name \n",
        "        self.age = age\n",
        "        self.breed = breed\n",
        "    \n",
        "    def __str__(self): #dunder\n",
        "        return f\"I'am a dog name {self.name}\"\n",
        "    def barking(self):\n",
        "        print(\"Meow Meow\")\n",
        "\n",
        "    def eating(self,food):\n",
        "        print(f\"she eating {food} , she love it\")"
      ],
      "metadata": {
        "id": "wm-iUcbTn6-J"
      },
      "execution_count": 67,
      "outputs": []
    },
    {
      "cell_type": "code",
      "source": [
        "my_cat = Cat(\"Doraemon\",5,\"thai\")\n",
        "print(my_cat)"
      ],
      "metadata": {
        "colab": {
          "base_uri": "https://localhost:8080/"
        },
        "id": "H_WNKAcpolGY",
        "outputId": "faed9628-434f-47c0-a21b-cb7a6591aed9"
      },
      "execution_count": 69,
      "outputs": [
        {
          "output_type": "stream",
          "name": "stdout",
          "text": [
            "I'am a dog name Doraemon\n"
          ]
        }
      ]
    },
    {
      "cell_type": "code",
      "source": [
        "print(my_cat.name)\n",
        "print(my_cat.breed)"
      ],
      "metadata": {
        "colab": {
          "base_uri": "https://localhost:8080/"
        },
        "id": "0lwKPc1zo3CY",
        "outputId": "36945e23-5b96-43c0-fd22-822d22e79cf4"
      },
      "execution_count": 55,
      "outputs": [
        {
          "output_type": "stream",
          "name": "stdout",
          "text": [
            "Doraemon\n",
            "thai\n"
          ]
        }
      ]
    },
    {
      "cell_type": "code",
      "source": [
        "my_cat2 = Cat('kitty',5,'japan') # cat class "
      ],
      "metadata": {
        "id": "sMwU8RHvo7qq"
      },
      "execution_count": 56,
      "outputs": []
    },
    {
      "cell_type": "code",
      "source": [
        "my_cat.barking()\n",
        "my_cat.eating(\"ham\")"
      ],
      "metadata": {
        "colab": {
          "base_uri": "https://localhost:8080/"
        },
        "id": "zWpa9adNpHEz",
        "outputId": "1293c13c-b068-4a0a-f02e-157f9ab37459"
      },
      "execution_count": 65,
      "outputs": [
        {
          "output_type": "stream",
          "name": "stdout",
          "text": [
            "Meow Meow\n",
            "she eatingham , she love it\n"
          ]
        }
      ]
    },
    {
      "cell_type": "code",
      "source": [
        "print(my_cat)"
      ],
      "metadata": {
        "colab": {
          "base_uri": "https://localhost:8080/"
        },
        "id": "9c8me4DIqOi3",
        "outputId": "8c8070c3-7171-4890-db7a-6ca582e855de"
      },
      "execution_count": 70,
      "outputs": [
        {
          "output_type": "stream",
          "name": "stdout",
          "text": [
            "I'am a dog name Doraemon\n"
          ]
        }
      ]
    },
    {
      "cell_type": "code",
      "source": [
        "## book_class\n",
        "class Book():\n",
        "    def __init__ (self, title, year, genre, pages):\n",
        "        self.title = title\n",
        "        self.year = year\n",
        "        self.genre = genre\n",
        "        self.pages = pages\n",
        "    \n",
        "    def __str__(self):\n",
        "        return f\"Book title: {self.title} Author: {self.author}\"\n",
        "\n",
        "    def add_author(self, author):  # create new attributes\n",
        "        self.author =  author\n",
        "\n"
      ],
      "metadata": {
        "id": "PWlLcewar_Yz"
      },
      "execution_count": 88,
      "outputs": []
    },
    {
      "cell_type": "code",
      "source": [
        "my_book = Book('business made simple',2021,'Business',250)"
      ],
      "metadata": {
        "id": "YWotHBXXsMV5"
      },
      "execution_count": 89,
      "outputs": []
    },
    {
      "cell_type": "code",
      "source": [
        "print(my_book.title)\n",
        "print(my_book.year)\n",
        "print(my_book.pages)\n"
      ],
      "metadata": {
        "colab": {
          "base_uri": "https://localhost:8080/"
        },
        "id": "LTcfiDwSso7h",
        "outputId": "4cd27bd6-939f-4dc0-847f-c7307ce0730f"
      },
      "execution_count": 75,
      "outputs": [
        {
          "output_type": "stream",
          "name": "stdout",
          "text": [
            "business made simple\n",
            "2021\n",
            "250\n"
          ]
        }
      ]
    },
    {
      "cell_type": "code",
      "source": [
        "my_book.add_author(\"Donald\"). # from __str__\n",
        "print(my_book)"
      ],
      "metadata": {
        "colab": {
          "base_uri": "https://localhost:8080/"
        },
        "id": "tbZcF6uxszEj",
        "outputId": "23983933-4bdd-48e9-a2b1-c2ab0a5c940d"
      },
      "execution_count": 90,
      "outputs": [
        {
          "output_type": "stream",
          "name": "stdout",
          "text": [
            "Book title: business made simple Author: Donald\n"
          ]
        }
      ]
    },
    {
      "cell_type": "code",
      "source": [
        ""
      ],
      "metadata": {
        "id": "ulgqBkDGtWcd"
      },
      "execution_count": null,
      "outputs": []
    }
  ]
}